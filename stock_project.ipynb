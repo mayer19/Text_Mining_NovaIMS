{
 "cells": [
  {
   "cell_type": "code",
   "execution_count": 59,
   "id": "3c32bb20",
   "metadata": {},
   "outputs": [],
   "source": [
    "#import libraries\n",
    "import pandas as pd\n",
    "import numpy as np\n",
    "import matplotlib.pyplot as plt\n",
    "import nltk\n",
    "from nltk.tokenize import word_tokenize\n",
    "import string\n",
    "import re"
   ]
  },
  {
   "cell_type": "code",
   "execution_count": 60,
   "id": "4f6d243d",
   "metadata": {},
   "outputs": [],
   "source": [
    "#import datasets\n",
    "train_df = pd.read_csv(\"Project Data/train.csv\")\n",
    "test_df = pd.read_csv(\"Project Data/test.csv\")"
   ]
  },
  {
   "cell_type": "code",
   "execution_count": 61,
   "id": "debbcf9f",
   "metadata": {},
   "outputs": [
    {
     "data": {
      "text/html": [
       "<div>\n",
       "<style scoped>\n",
       "    .dataframe tbody tr th:only-of-type {\n",
       "        vertical-align: middle;\n",
       "    }\n",
       "\n",
       "    .dataframe tbody tr th {\n",
       "        vertical-align: top;\n",
       "    }\n",
       "\n",
       "    .dataframe thead th {\n",
       "        text-align: right;\n",
       "    }\n",
       "</style>\n",
       "<table border=\"1\" class=\"dataframe\">\n",
       "  <thead>\n",
       "    <tr style=\"text-align: right;\">\n",
       "      <th></th>\n",
       "      <th>text</th>\n",
       "      <th>label</th>\n",
       "    </tr>\n",
       "  </thead>\n",
       "  <tbody>\n",
       "    <tr>\n",
       "      <th>9533</th>\n",
       "      <td>Stocks making the biggest moves midday: Tesla,...</td>\n",
       "      <td>2</td>\n",
       "    </tr>\n",
       "    <tr>\n",
       "      <th>9534</th>\n",
       "      <td>Stocks making the biggest moves midday: Tesla,...</td>\n",
       "      <td>2</td>\n",
       "    </tr>\n",
       "    <tr>\n",
       "      <th>9535</th>\n",
       "      <td>Stocks making the biggest moves midday: Uber, ...</td>\n",
       "      <td>2</td>\n",
       "    </tr>\n",
       "    <tr>\n",
       "      <th>9536</th>\n",
       "      <td>Stocks making the biggest moves premarket: Tar...</td>\n",
       "      <td>2</td>\n",
       "    </tr>\n",
       "    <tr>\n",
       "      <th>9537</th>\n",
       "      <td>Stocks making the biggest moves premarket: TD ...</td>\n",
       "      <td>2</td>\n",
       "    </tr>\n",
       "    <tr>\n",
       "      <th>9538</th>\n",
       "      <td>The Week's Gainers and Losers on the Stoxx Eur...</td>\n",
       "      <td>2</td>\n",
       "    </tr>\n",
       "    <tr>\n",
       "      <th>9539</th>\n",
       "      <td>Tupperware Brands among consumer gainers; Unil...</td>\n",
       "      <td>2</td>\n",
       "    </tr>\n",
       "    <tr>\n",
       "      <th>9540</th>\n",
       "      <td>vTv Therapeutics leads healthcare gainers; Myo...</td>\n",
       "      <td>2</td>\n",
       "    </tr>\n",
       "    <tr>\n",
       "      <th>9541</th>\n",
       "      <td>WORK, XPO, PYX and AMKR among after hour movers</td>\n",
       "      <td>2</td>\n",
       "    </tr>\n",
       "    <tr>\n",
       "      <th>9542</th>\n",
       "      <td>YNDX, I, QD and OESX among tech movers</td>\n",
       "      <td>2</td>\n",
       "    </tr>\n",
       "  </tbody>\n",
       "</table>\n",
       "</div>"
      ],
      "text/plain": [
       "                                                   text  label\n",
       "9533  Stocks making the biggest moves midday: Tesla,...      2\n",
       "9534  Stocks making the biggest moves midday: Tesla,...      2\n",
       "9535  Stocks making the biggest moves midday: Uber, ...      2\n",
       "9536  Stocks making the biggest moves premarket: Tar...      2\n",
       "9537  Stocks making the biggest moves premarket: TD ...      2\n",
       "9538  The Week's Gainers and Losers on the Stoxx Eur...      2\n",
       "9539  Tupperware Brands among consumer gainers; Unil...      2\n",
       "9540  vTv Therapeutics leads healthcare gainers; Myo...      2\n",
       "9541    WORK, XPO, PYX and AMKR among after hour movers      2\n",
       "9542             YNDX, I, QD and OESX among tech movers      2"
      ]
     },
     "execution_count": 61,
     "metadata": {},
     "output_type": "execute_result"
    }
   ],
   "source": [
    "#visualize train data\n",
    "train_df.tail(10)"
   ]
  },
  {
   "cell_type": "code",
   "execution_count": 62,
   "id": "fe0bec02",
   "metadata": {},
   "outputs": [
    {
     "data": {
      "text/html": [
       "<div>\n",
       "<style scoped>\n",
       "    .dataframe tbody tr th:only-of-type {\n",
       "        vertical-align: middle;\n",
       "    }\n",
       "\n",
       "    .dataframe tbody tr th {\n",
       "        vertical-align: top;\n",
       "    }\n",
       "\n",
       "    .dataframe thead th {\n",
       "        text-align: right;\n",
       "    }\n",
       "</style>\n",
       "<table border=\"1\" class=\"dataframe\">\n",
       "  <thead>\n",
       "    <tr style=\"text-align: right;\">\n",
       "      <th></th>\n",
       "      <th>id</th>\n",
       "      <th>text</th>\n",
       "    </tr>\n",
       "  </thead>\n",
       "  <tbody>\n",
       "    <tr>\n",
       "      <th>0</th>\n",
       "      <td>0</td>\n",
       "      <td>ETF assets to surge tenfold in 10 years to $50...</td>\n",
       "    </tr>\n",
       "    <tr>\n",
       "      <th>1</th>\n",
       "      <td>1</td>\n",
       "      <td>Here’s What Hedge Funds Think Evolution Petrol...</td>\n",
       "    </tr>\n",
       "    <tr>\n",
       "      <th>2</th>\n",
       "      <td>2</td>\n",
       "      <td>$PVH - Phillips-Van Heusen Q3 2020 Earnings Pr...</td>\n",
       "    </tr>\n",
       "    <tr>\n",
       "      <th>3</th>\n",
       "      <td>3</td>\n",
       "      <td>China is in the process of waiving retaliatory...</td>\n",
       "    </tr>\n",
       "    <tr>\n",
       "      <th>4</th>\n",
       "      <td>4</td>\n",
       "      <td>Highlight: “When growth is scarce, investors s...</td>\n",
       "    </tr>\n",
       "    <tr>\n",
       "      <th>5</th>\n",
       "      <td>5</td>\n",
       "      <td>Marvell Technology (MRVL) Gains As Market Dips...</td>\n",
       "    </tr>\n",
       "    <tr>\n",
       "      <th>6</th>\n",
       "      <td>6</td>\n",
       "      <td>UPDATE 1-Italian airline Alitalia's rescue in ...</td>\n",
       "    </tr>\n",
       "    <tr>\n",
       "      <th>7</th>\n",
       "      <td>7</td>\n",
       "      <td>why macro funds are shutting down left and rig...</td>\n",
       "    </tr>\n",
       "    <tr>\n",
       "      <th>8</th>\n",
       "      <td>8</td>\n",
       "      <td>Uber's arrival caused binge drinking to increa...</td>\n",
       "    </tr>\n",
       "    <tr>\n",
       "      <th>9</th>\n",
       "      <td>9</td>\n",
       "      <td>New Dungeons &amp; Dragons game announced</td>\n",
       "    </tr>\n",
       "  </tbody>\n",
       "</table>\n",
       "</div>"
      ],
      "text/plain": [
       "   id                                               text\n",
       "0   0  ETF assets to surge tenfold in 10 years to $50...\n",
       "1   1  Here’s What Hedge Funds Think Evolution Petrol...\n",
       "2   2  $PVH - Phillips-Van Heusen Q3 2020 Earnings Pr...\n",
       "3   3  China is in the process of waiving retaliatory...\n",
       "4   4  Highlight: “When growth is scarce, investors s...\n",
       "5   5  Marvell Technology (MRVL) Gains As Market Dips...\n",
       "6   6  UPDATE 1-Italian airline Alitalia's rescue in ...\n",
       "7   7  why macro funds are shutting down left and rig...\n",
       "8   8  Uber's arrival caused binge drinking to increa...\n",
       "9   9              New Dungeons & Dragons game announced"
      ]
     },
     "execution_count": 62,
     "metadata": {},
     "output_type": "execute_result"
    }
   ],
   "source": [
    "#visualize test data\n",
    "test_df.head(10)"
   ]
  },
  {
   "cell_type": "markdown",
   "id": "10d3babb",
   "metadata": {},
   "source": [
    "### Exploratory Analysis "
   ]
  },
  {
   "cell_type": "code",
   "execution_count": 63,
   "id": "6ea7dfc1",
   "metadata": {},
   "outputs": [
    {
     "name": "stdout",
     "output_type": "stream",
     "text": [
      "Train data columns: Index(['text', 'label'], dtype='object')\n",
      "Test data columns: Index(['id', 'text'], dtype='object')\n"
     ]
    }
   ],
   "source": [
    "print(f\"Train data columns: {train_df.columns}\")\n",
    "print(f\"Test data columns: {test_df.columns}\")"
   ]
  },
  {
   "cell_type": "code",
   "execution_count": 64,
   "id": "5e662af3",
   "metadata": {},
   "outputs": [
    {
     "data": {
      "text/plain": [
       "count                                                  9543\n",
       "unique                                                 9543\n",
       "top       $BYND - JPMorgan reels in expectations on Beyo...\n",
       "freq                                                      1\n",
       "Name: text, dtype: object"
      ]
     },
     "execution_count": 64,
     "metadata": {},
     "output_type": "execute_result"
    }
   ],
   "source": [
    "train_df['text'].describe()"
   ]
  },
  {
   "cell_type": "code",
   "execution_count": 65,
   "id": "7b775893",
   "metadata": {},
   "outputs": [
    {
     "data": {
      "text/plain": [
       "0"
      ]
     },
     "execution_count": 65,
     "metadata": {},
     "output_type": "execute_result"
    }
   ],
   "source": [
    "#Verify if any value is null\n",
    "train_df['text'].isna().sum()"
   ]
  },
  {
   "cell_type": "code",
   "execution_count": 66,
   "id": "db043509",
   "metadata": {
    "scrolled": true
   },
   "outputs": [
    {
     "data": {
      "text/html": [
       "<div>\n",
       "<style scoped>\n",
       "    .dataframe tbody tr th:only-of-type {\n",
       "        vertical-align: middle;\n",
       "    }\n",
       "\n",
       "    .dataframe tbody tr th {\n",
       "        vertical-align: top;\n",
       "    }\n",
       "\n",
       "    .dataframe thead th {\n",
       "        text-align: right;\n",
       "    }\n",
       "</style>\n",
       "<table border=\"1\" class=\"dataframe\">\n",
       "  <thead>\n",
       "    <tr style=\"text-align: right;\">\n",
       "      <th></th>\n",
       "      <th>text</th>\n",
       "      <th>label</th>\n",
       "      <th>word_count</th>\n",
       "    </tr>\n",
       "  </thead>\n",
       "  <tbody>\n",
       "    <tr>\n",
       "      <th>0</th>\n",
       "      <td>$BYND - JPMorgan reels in expectations on Beyo...</td>\n",
       "      <td>0</td>\n",
       "      <td>10</td>\n",
       "    </tr>\n",
       "    <tr>\n",
       "      <th>1</th>\n",
       "      <td>$CCL $RCL - Nomura points to bookings weakness...</td>\n",
       "      <td>0</td>\n",
       "      <td>14</td>\n",
       "    </tr>\n",
       "    <tr>\n",
       "      <th>2</th>\n",
       "      <td>$CX - Cemex cut at Credit Suisse, J.P. Morgan ...</td>\n",
       "      <td>0</td>\n",
       "      <td>14</td>\n",
       "    </tr>\n",
       "    <tr>\n",
       "      <th>3</th>\n",
       "      <td>$ESS: BTIG Research cuts to Neutral https://t....</td>\n",
       "      <td>0</td>\n",
       "      <td>7</td>\n",
       "    </tr>\n",
       "    <tr>\n",
       "      <th>4</th>\n",
       "      <td>$FNKO - Funko slides after Piper Jaffray PT cu...</td>\n",
       "      <td>0</td>\n",
       "      <td>10</td>\n",
       "    </tr>\n",
       "    <tr>\n",
       "      <th>...</th>\n",
       "      <td>...</td>\n",
       "      <td>...</td>\n",
       "      <td>...</td>\n",
       "    </tr>\n",
       "    <tr>\n",
       "      <th>9538</th>\n",
       "      <td>The Week's Gainers and Losers on the Stoxx Eur...</td>\n",
       "      <td>2</td>\n",
       "      <td>16</td>\n",
       "    </tr>\n",
       "    <tr>\n",
       "      <th>9539</th>\n",
       "      <td>Tupperware Brands among consumer gainers; Unil...</td>\n",
       "      <td>2</td>\n",
       "      <td>9</td>\n",
       "    </tr>\n",
       "    <tr>\n",
       "      <th>9540</th>\n",
       "      <td>vTv Therapeutics leads healthcare gainers; Myo...</td>\n",
       "      <td>2</td>\n",
       "      <td>11</td>\n",
       "    </tr>\n",
       "    <tr>\n",
       "      <th>9541</th>\n",
       "      <td>WORK, XPO, PYX and AMKR among after hour movers</td>\n",
       "      <td>2</td>\n",
       "      <td>9</td>\n",
       "    </tr>\n",
       "    <tr>\n",
       "      <th>9542</th>\n",
       "      <td>YNDX, I, QD and OESX among tech movers</td>\n",
       "      <td>2</td>\n",
       "      <td>8</td>\n",
       "    </tr>\n",
       "  </tbody>\n",
       "</table>\n",
       "<p>9543 rows × 3 columns</p>\n",
       "</div>"
      ],
      "text/plain": [
       "                                                   text  label  word_count\n",
       "0     $BYND - JPMorgan reels in expectations on Beyo...      0          10\n",
       "1     $CCL $RCL - Nomura points to bookings weakness...      0          14\n",
       "2     $CX - Cemex cut at Credit Suisse, J.P. Morgan ...      0          14\n",
       "3     $ESS: BTIG Research cuts to Neutral https://t....      0           7\n",
       "4     $FNKO - Funko slides after Piper Jaffray PT cu...      0          10\n",
       "...                                                 ...    ...         ...\n",
       "9538  The Week's Gainers and Losers on the Stoxx Eur...      2          16\n",
       "9539  Tupperware Brands among consumer gainers; Unil...      2           9\n",
       "9540  vTv Therapeutics leads healthcare gainers; Myo...      2          11\n",
       "9541    WORK, XPO, PYX and AMKR among after hour movers      2           9\n",
       "9542             YNDX, I, QD and OESX among tech movers      2           8\n",
       "\n",
       "[9543 rows x 3 columns]"
      ]
     },
     "execution_count": 66,
     "metadata": {},
     "output_type": "execute_result"
    }
   ],
   "source": [
    "#WORD COUNT\n",
    "\n",
    "#add a new column to tain_df with the number os words\n",
    "train_df['word_count'] = train_df['text'].apply(lambda x: len(str(x).split(\" \")))\n",
    "train_df"
   ]
  },
  {
   "cell_type": "code",
   "execution_count": 67,
   "id": "7deccfb8",
   "metadata": {},
   "outputs": [
    {
     "data": {
      "text/plain": [
       "count    9543.000000\n",
       "mean       12.168081\n",
       "std         4.651245\n",
       "min         1.000000\n",
       "25%         9.000000\n",
       "50%        11.000000\n",
       "75%        15.000000\n",
       "max        31.000000\n",
       "Name: word_count, dtype: float64"
      ]
     },
     "execution_count": 67,
     "metadata": {},
     "output_type": "execute_result"
    }
   ],
   "source": [
    "train_df['word_count'].describe()"
   ]
  },
  {
   "cell_type": "code",
   "execution_count": 68,
   "id": "e6d2c0fd",
   "metadata": {},
   "outputs": [
    {
     "name": "stdout",
     "output_type": "stream",
     "text": [
      "Train data column word_count MAXIMUM: 31\n",
      "Train data column word_count MINIMUM: 1\n",
      "Train data column word_count MEAN: 12.168081316147962\n",
      "Train data column word_count MEDIAN: 11.0\n",
      "Train data column word_count MODE: 0    10\n",
      "Name: word_count, dtype: int64\n",
      "Train data column word_count SQARE ROOT: 4.651245064570518\n",
      "Train data column word_count UNIQUE: [10 14  7  6 12 11  9  5 16  8 13 20 22 17  4 18 15 19 25 23 21 24 26  1\n",
      "  2  3 27 29 31]\n"
     ]
    }
   ],
   "source": [
    "#Analysis of col: word_count\n",
    "print(f\"Train data column word_count MAXIMUM: {train_df['word_count'].max()}\")\n",
    "print(f\"Train data column word_count MINIMUM: {train_df['word_count'].min()}\")\n",
    "print(f\"Train data column word_count MEAN: {train_df['word_count'].mean()}\")\n",
    "print(f\"Train data column word_count MEDIAN: {train_df['word_count'].median()}\")\n",
    "print(f\"Train data column word_count MODE: {train_df['word_count'].mode()}\")\n",
    "print(f\"Train data column word_count SQARE ROOT: {train_df['word_count'].std()}\")\n",
    "print(f\"Train data column word_count UNIQUE: {train_df['word_count'].unique()}\")"
   ]
  },
  {
   "cell_type": "code",
   "execution_count": 69,
   "id": "1537acd2",
   "metadata": {},
   "outputs": [
    {
     "data": {
      "text/plain": [
       "<AxesSubplot: >"
      ]
     },
     "execution_count": 69,
     "metadata": {},
     "output_type": "execute_result"
    },
    {
     "data": {
      "image/png": "[encoded data removed]",
      "text/plain": [
       "<Figure size 640x480 with 1 Axes>"
      ]
     },
     "metadata": {},
     "output_type": "display_data"
    }
   ],
   "source": [
    "train_df['word_count'].hist()"
   ]
  },
  {
   "cell_type": "code",
   "execution_count": 70,
   "id": "b81ffaff",
   "metadata": {},
   "outputs": [
    {
     "data": {
      "text/plain": [
       "<AxesSubplot: >"
      ]
     },
     "execution_count": 70,
     "metadata": {},
     "output_type": "execute_result"
    },
    {
     "data": {
      "image/png": "[encoded data removed]",
      "text/plain": [
       "<Figure size 640x480 with 1 Axes>"
      ]
     },
     "metadata": {},
     "output_type": "display_data"
    }
   ],
   "source": [
    "train_df.boxplot('word_count')\n",
    "#we are not removinf any outlier because every tweet is independent"
   ]
  },
  {
   "cell_type": "code",
   "execution_count": 71,
   "id": "3acff9ce",
   "metadata": {},
   "outputs": [
    {
     "data": {
      "text/plain": [
       "['$BYND',\n",
       " '-',\n",
       " 'JPMorgan',\n",
       " 'reels',\n",
       " 'in',\n",
       " 'expectations',\n",
       " 'on',\n",
       " 'Beyond',\n",
       " 'Meat',\n",
       " 'https://t.co/bd0xbFGjkT']"
      ]
     },
     "execution_count": 71,
     "metadata": {},
     "output_type": "execute_result"
    }
   ],
   "source": [
    "# Frequency of all words\n",
    "all_words = ' '.join(train_df['text']).split()\n",
    "all_words[:10]"
   ]
  },
  {
   "cell_type": "code",
   "execution_count": 72,
   "id": "132ec5b8",
   "metadata": {},
   "outputs": [],
   "source": [
    "#Create a DataFrane of all words and their frequencies\n",
    "wordFreq = pd.Series(all_words).value_counts()"
   ]
  },
  {
   "cell_type": "code",
   "execution_count": 73,
   "id": "f7333c3c",
   "metadata": {
    "scrolled": true
   },
   "outputs": [
    {
     "data": {
      "text/plain": [
       "to     2332\n",
       "the    1820\n",
       "of     1464\n",
       "-      1390\n",
       "in     1361\n",
       "on     1136\n",
       "for    1032\n",
       "a       970\n",
       "and     898\n",
       "The     663\n",
       "at      539\n",
       "as      528\n",
       "is      526\n",
       "by      414\n",
       "up      388\n",
       "dtype: int64"
      ]
     },
     "execution_count": 73,
     "metadata": {},
     "output_type": "execute_result"
    }
   ],
   "source": [
    "# List of me most common words in all tweets\n",
    "wordFreq.sort_values(ascending=False)[0:15]"
   ]
  },
  {
   "cell_type": "code",
   "execution_count": 74,
   "id": "4af2c01b",
   "metadata": {},
   "outputs": [
    {
     "data": {
      "text/plain": [
       "Index(['to', 'the', 'of', '-', 'in', 'on', 'for', 'a', 'and', 'The', 'at',\n",
       "       'as', 'is', 'by', 'up'],\n",
       "      dtype='object')"
      ]
     },
     "execution_count": 74,
     "metadata": {},
     "output_type": "execute_result"
    }
   ],
   "source": [
    "wordFreq.index[0:15]"
   ]
  },
  {
   "cell_type": "code",
   "execution_count": 75,
   "id": "147d04b4",
   "metadata": {},
   "outputs": [
    {
     "data": {
      "image/png": "[encoded data removed]",
      "text/plain": [
       "<Figure size 640x480 with 1 Axes>"
      ]
     },
     "metadata": {},
     "output_type": "display_data"
    }
   ],
   "source": [
    "x_labels = wordFreq.index[0:15]\n",
    "values = wordFreq[:15]\n",
    "plt.bar(x_labels, values, align='center', alpha=0.5)\n",
    "#plt.xticks(y_pos, x_labels)\n",
    "plt.ylabel('Frequencies')\n",
    "plt.title('Most Common Words')\n",
    "plt.xticks(rotation=90)\n",
    "plt.show()"
   ]
  },
  {
   "cell_type": "markdown",
   "id": "e1d7e3db",
   "metadata": {},
   "source": [
    "### Data Preprocessing - Exemple 1: Stop Words"
   ]
  },
  {
   "cell_type": "code",
   "execution_count": 76,
   "id": "a6c00aeb",
   "metadata": {},
   "outputs": [
    {
     "data": {
      "text/plain": [
       "['>', '}', '\"', '(', '+']"
      ]
     },
     "execution_count": 76,
     "metadata": {},
     "output_type": "execute_result"
    }
   ],
   "source": [
    "#Remove Punctuation\n",
    "punctuation = list(set(string.punctuation))\n",
    "punctuation[:5]"
   ]
  },
  {
   "cell_type": "code",
   "execution_count": 77,
   "id": "5d257cc8",
   "metadata": {
    "scrolled": true
   },
   "outputs": [
    {
     "data": {
      "text/plain": [
       "['$bynd',\n",
       " 'jpmorgan',\n",
       " 'reels',\n",
       " 'in',\n",
       " 'expectations',\n",
       " 'on',\n",
       " 'beyond',\n",
       " 'meat',\n",
       " 'https://t.co/bd0xbfgjkt',\n",
       " '$ccl']"
      ]
     },
     "execution_count": 77,
     "metadata": {},
     "output_type": "execute_result"
    }
   ],
   "source": [
    "all_words_noPunctuation = [word.lower() for word in all_words if word not in punctuation]\n",
    "all_words_noPunctuation[:10]"
   ]
  },
  {
   "cell_type": "code",
   "execution_count": 78,
   "id": "273fe7cd",
   "metadata": {},
   "outputs": [
    {
     "name": "stderr",
     "output_type": "stream",
     "text": [
      "[nltk_data] Downloading package stopwords to /home/bm/nltk_data...\n",
      "[nltk_data]   Package stopwords is already up-to-date!\n"
     ]
    },
    {
     "data": {
      "text/plain": [
       "True"
      ]
     },
     "execution_count": 78,
     "metadata": {},
     "output_type": "execute_result"
    }
   ],
   "source": [
    "nltk.download('stopwords')"
   ]
  },
  {
   "cell_type": "code",
   "execution_count": 79,
   "id": "f973cdf2",
   "metadata": {},
   "outputs": [],
   "source": [
    "from nltk.corpus import stopwords"
   ]
  },
  {
   "cell_type": "code",
   "execution_count": 80,
   "id": "7e5bd7be",
   "metadata": {},
   "outputs": [],
   "source": [
    "stop = set(stopwords.words('english'))"
   ]
  },
  {
   "cell_type": "code",
   "execution_count": 81,
   "id": "8c49500d",
   "metadata": {
    "scrolled": true
   },
   "outputs": [
    {
     "data": {
      "text/plain": [
       "['$bynd',\n",
       " 'jpmorgan',\n",
       " 'reels',\n",
       " 'expectations',\n",
       " 'beyond',\n",
       " 'meat',\n",
       " 'https://t.co/bd0xbfgjkt',\n",
       " '$ccl',\n",
       " '$rcl',\n",
       " 'nomura']"
      ]
     },
     "execution_count": 81,
     "metadata": {},
     "output_type": "execute_result"
    }
   ],
   "source": [
    "#creation of variable all_words_clean, this is a text with no punctuations and no stop words\n",
    "all_words_clean = [word for word in all_words_noPunctuation if word not in stop]\n",
    "all_words_clean[:10]"
   ]
  },
  {
   "cell_type": "code",
   "execution_count": 82,
   "id": "b2079684",
   "metadata": {},
   "outputs": [
    {
     "data": {
      "text/plain": [
       "stock              544\n",
       "new                406\n",
       "results            352\n",
       "u.s.               341\n",
       "says               332\n",
       "earnings           321\n",
       "#stock             316\n",
       "market             296\n",
       "#marketscreener    285\n",
       "price              273\n",
       "dtype: int64"
      ]
     },
     "execution_count": 82,
     "metadata": {},
     "output_type": "execute_result"
    }
   ],
   "source": [
    "freq_cleanWords = pd.Series(all_words_clean).value_counts()\n",
    "freq_cleanWords.sort_values(ascending=False)[0:10] # most frequent word after cleaning"
   ]
  },
  {
   "cell_type": "code",
   "execution_count": 83,
   "id": "93015074",
   "metadata": {},
   "outputs": [
    {
     "data": {
      "text/plain": [
       "['stock', 'new', 'results', 'u.s.', 'says', 'earnings', '#stock', 'market']"
      ]
     },
     "execution_count": 83,
     "metadata": {},
     "output_type": "execute_result"
    }
   ],
   "source": [
    "#I decided to remove the 8 monst frequent words to clean more the data\n",
    "remove_words = list(freq_cleanWords.index[:8])\n",
    "remove_words"
   ]
  },
  {
   "cell_type": "code",
   "execution_count": 84,
   "id": "cf090230",
   "metadata": {
    "scrolled": true
   },
   "outputs": [
    {
     "name": "stdout",
     "output_type": "stream",
     "text": [
      "A total of 2908 words were removed.\n"
     ]
    }
   ],
   "source": [
    "all_words_clean2 = [word for word in all_words_clean if word not in remove_words]\n",
    "print(f\"A total of {len(all_words_clean) - len(all_words_clean2)} words were removed.\")"
   ]
  },
  {
   "cell_type": "markdown",
   "id": "16491647",
   "metadata": {},
   "source": [
    "### Data Preprocessing - Exemple 2: Stemming and Lemmatization"
   ]
  },
  {
   "cell_type": "code",
   "execution_count": 85,
   "id": "180f0625",
   "metadata": {},
   "outputs": [],
   "source": [
    "from nltk.stem import SnowballStemmer\n",
    "from nltk.stem.wordnet import WordNetLemmatizer"
   ]
  },
  {
   "cell_type": "code",
   "execution_count": 86,
   "id": "de57f62a",
   "metadata": {},
   "outputs": [
    {
     "name": "stderr",
     "output_type": "stream",
     "text": [
      "[nltk_data] Downloading package omw-1.4 to /home/bm/nltk_data...\n",
      "[nltk_data]   Package omw-1.4 is already up-to-date!\n"
     ]
    },
    {
     "data": {
      "text/plain": [
       "True"
      ]
     },
     "execution_count": 86,
     "metadata": {},
     "output_type": "execute_result"
    }
   ],
   "source": [
    "nltk.download('omw-1.4')"
   ]
  },
  {
   "cell_type": "code",
   "execution_count": 87,
   "id": "d1c32045",
   "metadata": {},
   "outputs": [
    {
     "name": "stderr",
     "output_type": "stream",
     "text": [
      "[nltk_data] Downloading package wordnet to /home/bm/nltk_data...\n",
      "[nltk_data]   Package wordnet is already up-to-date!\n"
     ]
    },
    {
     "data": {
      "text/plain": [
       "True"
      ]
     },
     "execution_count": 87,
     "metadata": {},
     "output_type": "execute_result"
    }
   ],
   "source": [
    "nltk.download('wordnet')"
   ]
  },
  {
   "cell_type": "code",
   "execution_count": 88,
   "id": "97f2f4e4",
   "metadata": {},
   "outputs": [],
   "source": [
    "stemmer = SnowballStemmer('english')"
   ]
  },
  {
   "cell_type": "code",
   "execution_count": 89,
   "id": "25037bcd",
   "metadata": {},
   "outputs": [],
   "source": [
    "lemma = WordNetLemmatizer()"
   ]
  },
  {
   "cell_type": "code",
   "execution_count": 92,
   "id": "00ba2a0c",
   "metadata": {},
   "outputs": [],
   "source": [
    "#Apply preprocessing steps\n",
    "from tqdm import tqdm\n",
    "def clean(text_list, lemmatize, stemmer):\n",
    "    \n",
    "    updates = []\n",
    "    \n",
    "    for j in tqdm(text_list):\n",
    "        \n",
    "        text = j\n",
    "        \n",
    "        #LOWERCASE TEXT\n",
    "        text = text.lower()\n",
    "        \n",
    "        #REMOVE NUMERICAL DATA and PUNCTUATION\n",
    "        text = re.sub(\"[^a-zA-Z]\",\" \", text )\n",
    "        text = re.sub(\"br\", \"\", text)\n",
    "        \n",
    "        #REMOVE STOPWORDS\n",
    "        text = \" \".join([word for word in text.split() if word not in stop])\n",
    "        \n",
    "        #Lemmatize\n",
    "        if lemmatize:\n",
    "            text = \" \".join(lemma.lemmatize(word) for word in text.split())\n",
    "        \n",
    "        #Stemming\n",
    "        if stemmer:\n",
    "            text = \" \".join(stemmer.stem(word) for word in text.split())\n",
    "            \n",
    "        updates.append(text)\n",
    "        \n",
    "    return updates"
   ]
  },
  {
   "cell_type": "code",
   "execution_count": 93,
   "id": "aec61770",
   "metadata": {},
   "outputs": [
    {
     "name": "stderr",
     "output_type": "stream",
     "text": [
      "100%|████████████████████████████████████| 9543/9543 [00:00<00:00, 21283.33it/s]\n"
     ]
    }
   ],
   "source": [
    "cleaned_text = clean(train_df['text'], lemmatize = True, stemmer = False)"
   ]
  },
  {
   "cell_type": "code",
   "execution_count": 97,
   "id": "219f0d81",
   "metadata": {},
   "outputs": [
    {
     "data": {
      "text/plain": [
       "0    $BYND - JPMorgan reels in expectations on Beyo...\n",
       "1    $CCL $RCL - Nomura points to bookings weakness...\n",
       "2    $CX - Cemex cut at Credit Suisse, J.P. Morgan ...\n",
       "3    $ESS: BTIG Research cuts to Neutral https://t....\n",
       "4    $FNKO - Funko slides after Piper Jaffray PT cu...\n",
       "Name: text, dtype: object"
      ]
     },
     "execution_count": 97,
     "metadata": {},
     "output_type": "execute_result"
    }
   ],
   "source": [
    "# Compare text before and after cleaning\n",
    "\n",
    "train_df['text'][:5] #before cleaning"
   ]
  },
  {
   "cell_type": "code",
   "execution_count": 96,
   "id": "283bb31d",
   "metadata": {},
   "outputs": [
    {
     "data": {
      "text/plain": [
       "['bynd jpmorgan reel expectation beyond meat http co bd xbfgjkt',\n",
       " 'ccl rcl nomura point booking weakness carnival royal caribbean http co ygjpt red',\n",
       " 'cx cemex cut credit suisse j p morgan weak building outlook http co kn g awfib',\n",
       " 'es btig research cut neutral http co mcyftsxc n',\n",
       " 'fnko funko slide piper jaffray pt cut http co z ijmcqzb']"
      ]
     },
     "execution_count": 96,
     "metadata": {},
     "output_type": "execute_result"
    }
   ],
   "source": [
    "cleaned_text[:5]"
   ]
  },
  {
   "cell_type": "code",
   "execution_count": 98,
   "id": "b54a0928",
   "metadata": {},
   "outputs": [],
   "source": [
    "#create a function to update a dataFrame\n",
    "def update_df(dataframe, list_updated):\n",
    "    dataframe.update(pd.DataFrame({\"Text\": list_updated}))"
   ]
  },
  {
   "cell_type": "code",
   "execution_count": 101,
   "id": "a7cc46eb",
   "metadata": {},
   "outputs": [
    {
     "data": {
      "text/html": [
       "<div>\n",
       "<style scoped>\n",
       "    .dataframe tbody tr th:only-of-type {\n",
       "        vertical-align: middle;\n",
       "    }\n",
       "\n",
       "    .dataframe tbody tr th {\n",
       "        vertical-align: top;\n",
       "    }\n",
       "\n",
       "    .dataframe thead th {\n",
       "        text-align: right;\n",
       "    }\n",
       "</style>\n",
       "<table border=\"1\" class=\"dataframe\">\n",
       "  <thead>\n",
       "    <tr style=\"text-align: right;\">\n",
       "      <th></th>\n",
       "      <th>text</th>\n",
       "      <th>label</th>\n",
       "      <th>word_count</th>\n",
       "      <th>Cleaned Text</th>\n",
       "    </tr>\n",
       "  </thead>\n",
       "  <tbody>\n",
       "    <tr>\n",
       "      <th>0</th>\n",
       "      <td>$BYND - JPMorgan reels in expectations on Beyo...</td>\n",
       "      <td>0</td>\n",
       "      <td>10</td>\n",
       "      <td>bynd jpmorgan reel expectation beyond meat htt...</td>\n",
       "    </tr>\n",
       "    <tr>\n",
       "      <th>1</th>\n",
       "      <td>$CCL $RCL - Nomura points to bookings weakness...</td>\n",
       "      <td>0</td>\n",
       "      <td>14</td>\n",
       "      <td>ccl rcl nomura point booking weakness carnival...</td>\n",
       "    </tr>\n",
       "    <tr>\n",
       "      <th>2</th>\n",
       "      <td>$CX - Cemex cut at Credit Suisse, J.P. Morgan ...</td>\n",
       "      <td>0</td>\n",
       "      <td>14</td>\n",
       "      <td>cx cemex cut credit suisse j p morgan weak bui...</td>\n",
       "    </tr>\n",
       "    <tr>\n",
       "      <th>3</th>\n",
       "      <td>$ESS: BTIG Research cuts to Neutral https://t....</td>\n",
       "      <td>0</td>\n",
       "      <td>7</td>\n",
       "      <td>es btig research cut neutral http co mcyftsxc n</td>\n",
       "    </tr>\n",
       "    <tr>\n",
       "      <th>4</th>\n",
       "      <td>$FNKO - Funko slides after Piper Jaffray PT cu...</td>\n",
       "      <td>0</td>\n",
       "      <td>10</td>\n",
       "      <td>fnko funko slide piper jaffray pt cut http co ...</td>\n",
       "    </tr>\n",
       "    <tr>\n",
       "      <th>...</th>\n",
       "      <td>...</td>\n",
       "      <td>...</td>\n",
       "      <td>...</td>\n",
       "      <td>...</td>\n",
       "    </tr>\n",
       "    <tr>\n",
       "      <th>9538</th>\n",
       "      <td>The Week's Gainers and Losers on the Stoxx Eur...</td>\n",
       "      <td>2</td>\n",
       "      <td>16</td>\n",
       "      <td>week gainer loser stoxx europe dec economy mar...</td>\n",
       "    </tr>\n",
       "    <tr>\n",
       "      <th>9539</th>\n",
       "      <td>Tupperware Brands among consumer gainers; Unil...</td>\n",
       "      <td>2</td>\n",
       "      <td>9</td>\n",
       "      <td>tupperware ands among consumer gainer unilever...</td>\n",
       "    </tr>\n",
       "    <tr>\n",
       "      <th>9540</th>\n",
       "      <td>vTv Therapeutics leads healthcare gainers; Myo...</td>\n",
       "      <td>2</td>\n",
       "      <td>11</td>\n",
       "      <td>vtv therapeutic lead healthcare gainer myomo b...</td>\n",
       "    </tr>\n",
       "    <tr>\n",
       "      <th>9541</th>\n",
       "      <td>WORK, XPO, PYX and AMKR among after hour movers</td>\n",
       "      <td>2</td>\n",
       "      <td>9</td>\n",
       "      <td>work xpo pyx amkr among hour mover</td>\n",
       "    </tr>\n",
       "    <tr>\n",
       "      <th>9542</th>\n",
       "      <td>YNDX, I, QD and OESX among tech movers</td>\n",
       "      <td>2</td>\n",
       "      <td>8</td>\n",
       "      <td>yndx qd oesx among tech mover</td>\n",
       "    </tr>\n",
       "  </tbody>\n",
       "</table>\n",
       "<p>9543 rows × 4 columns</p>\n",
       "</div>"
      ],
      "text/plain": [
       "                                                   text  label  word_count  \\\n",
       "0     $BYND - JPMorgan reels in expectations on Beyo...      0          10   \n",
       "1     $CCL $RCL - Nomura points to bookings weakness...      0          14   \n",
       "2     $CX - Cemex cut at Credit Suisse, J.P. Morgan ...      0          14   \n",
       "3     $ESS: BTIG Research cuts to Neutral https://t....      0           7   \n",
       "4     $FNKO - Funko slides after Piper Jaffray PT cu...      0          10   \n",
       "...                                                 ...    ...         ...   \n",
       "9538  The Week's Gainers and Losers on the Stoxx Eur...      2          16   \n",
       "9539  Tupperware Brands among consumer gainers; Unil...      2           9   \n",
       "9540  vTv Therapeutics leads healthcare gainers; Myo...      2          11   \n",
       "9541    WORK, XPO, PYX and AMKR among after hour movers      2           9   \n",
       "9542             YNDX, I, QD and OESX among tech movers      2           8   \n",
       "\n",
       "                                           Cleaned Text  \n",
       "0     bynd jpmorgan reel expectation beyond meat htt...  \n",
       "1     ccl rcl nomura point booking weakness carnival...  \n",
       "2     cx cemex cut credit suisse j p morgan weak bui...  \n",
       "3       es btig research cut neutral http co mcyftsxc n  \n",
       "4     fnko funko slide piper jaffray pt cut http co ...  \n",
       "...                                                 ...  \n",
       "9538  week gainer loser stoxx europe dec economy mar...  \n",
       "9539  tupperware ands among consumer gainer unilever...  \n",
       "9540  vtv therapeutic lead healthcare gainer myomo b...  \n",
       "9541                 work xpo pyx amkr among hour mover  \n",
       "9542                      yndx qd oesx among tech mover  \n",
       "\n",
       "[9543 rows x 4 columns]"
      ]
     },
     "execution_count": 101,
     "metadata": {},
     "output_type": "execute_result"
    }
   ],
   "source": [
    "train_df['Cleaned Text'] = cleaned_text\n",
    "train_df"
   ]
  },
  {
   "cell_type": "code",
   "execution_count": null,
   "id": "1caac77f",
   "metadata": {},
   "outputs": [],
   "source": []
  }
 ],
 "metadata": {
  "kernelspec": {
   "display_name": "Python 3 (ipykernel)",
   "language": "python",
   "name": "python3"
  },
  "language_info": {
   "codemirror_mode": {
    "name": "ipython",
    "version": 3
   },
   "file_extension": ".py",
   "mimetype": "text/x-python",
   "name": "python",
   "nbconvert_exporter": "python",
   "pygments_lexer": "ipython3",
   "version": "3.11.2"
  }
 },
 "nbformat": 4,
 "nbformat_minor": 5
}
