{
 "cells": [
  {
   "cell_type": "code",
   "execution_count": 1,
   "id": "3c32bb20",
   "metadata": {},
   "outputs": [],
   "source": [
    "#import libraries\n",
    "import pandas as pd\n",
    "import numpy as np\n",
    "import matplotlib.pyplot as plt\n",
    "import nltk\n",
    "from nltk.tokenize import word_tokenize\n",
    "from sklearn.feature_extraction.text import CountVectorizer\n",
    "from sklearn.neighbors import KNeighborsClassifier\n",
    "from sklearn.metrics import classification_report\n",
    "from sklearn.metrics import confusion_matrix\n",
    "from sklearn.feature_extraction.text import TfidfVectorizer\n",
    "from sklearn.neural_network import MLPClassifier\n",
    "import numpy as np\n",
    "import string\n",
    "import re\n",
    "import gensim.downloader"
   ]
  },
  {
   "cell_type": "code",
   "execution_count": 2,
   "id": "4f6d243d",
   "metadata": {},
   "outputs": [],
   "source": [
    "#import datasets\n",
    "train_df = pd.read_csv(\"Project Data/train.csv\")\n",
    "test_df = pd.read_csv(\"Project Data/test.csv\")"
   ]
  },
  {
   "cell_type": "code",
   "execution_count": 3,
   "id": "debbcf9f",
   "metadata": {},
   "outputs": [
    {
     "data": {
      "text/html": [
       "<div>\n",
       "<style scoped>\n",
       "    .dataframe tbody tr th:only-of-type {\n",
       "        vertical-align: middle;\n",
       "    }\n",
       "\n",
       "    .dataframe tbody tr th {\n",
       "        vertical-align: top;\n",
       "    }\n",
       "\n",
       "    .dataframe thead th {\n",
       "        text-align: right;\n",
       "    }\n",
       "</style>\n",
       "<table border=\"1\" class=\"dataframe\">\n",
       "  <thead>\n",
       "    <tr style=\"text-align: right;\">\n",
       "      <th></th>\n",
       "      <th>text</th>\n",
       "      <th>label</th>\n",
       "    </tr>\n",
       "  </thead>\n",
       "  <tbody>\n",
       "    <tr>\n",
       "      <th>9533</th>\n",
       "      <td>Stocks making the biggest moves midday: Tesla,...</td>\n",
       "      <td>2</td>\n",
       "    </tr>\n",
       "    <tr>\n",
       "      <th>9534</th>\n",
       "      <td>Stocks making the biggest moves midday: Tesla,...</td>\n",
       "      <td>2</td>\n",
       "    </tr>\n",
       "    <tr>\n",
       "      <th>9535</th>\n",
       "      <td>Stocks making the biggest moves midday: Uber, ...</td>\n",
       "      <td>2</td>\n",
       "    </tr>\n",
       "    <tr>\n",
       "      <th>9536</th>\n",
       "      <td>Stocks making the biggest moves premarket: Tar...</td>\n",
       "      <td>2</td>\n",
       "    </tr>\n",
       "    <tr>\n",
       "      <th>9537</th>\n",
       "      <td>Stocks making the biggest moves premarket: TD ...</td>\n",
       "      <td>2</td>\n",
       "    </tr>\n",
       "    <tr>\n",
       "      <th>9538</th>\n",
       "      <td>The Week's Gainers and Losers on the Stoxx Eur...</td>\n",
       "      <td>2</td>\n",
       "    </tr>\n",
       "    <tr>\n",
       "      <th>9539</th>\n",
       "      <td>Tupperware Brands among consumer gainers; Unil...</td>\n",
       "      <td>2</td>\n",
       "    </tr>\n",
       "    <tr>\n",
       "      <th>9540</th>\n",
       "      <td>vTv Therapeutics leads healthcare gainers; Myo...</td>\n",
       "      <td>2</td>\n",
       "    </tr>\n",
       "    <tr>\n",
       "      <th>9541</th>\n",
       "      <td>WORK, XPO, PYX and AMKR among after hour movers</td>\n",
       "      <td>2</td>\n",
       "    </tr>\n",
       "    <tr>\n",
       "      <th>9542</th>\n",
       "      <td>YNDX, I, QD and OESX among tech movers</td>\n",
       "      <td>2</td>\n",
       "    </tr>\n",
       "  </tbody>\n",
       "</table>\n",
       "</div>"
      ],
      "text/plain": [
       "                                                   text  label\n",
       "9533  Stocks making the biggest moves midday: Tesla,...      2\n",
       "9534  Stocks making the biggest moves midday: Tesla,...      2\n",
       "9535  Stocks making the biggest moves midday: Uber, ...      2\n",
       "9536  Stocks making the biggest moves premarket: Tar...      2\n",
       "9537  Stocks making the biggest moves premarket: TD ...      2\n",
       "9538  The Week's Gainers and Losers on the Stoxx Eur...      2\n",
       "9539  Tupperware Brands among consumer gainers; Unil...      2\n",
       "9540  vTv Therapeutics leads healthcare gainers; Myo...      2\n",
       "9541    WORK, XPO, PYX and AMKR among after hour movers      2\n",
       "9542             YNDX, I, QD and OESX among tech movers      2"
      ]
     },
     "execution_count": 3,
     "metadata": {},
     "output_type": "execute_result"
    }
   ],
   "source": [
    "#visualize train data\n",
    "train_df.tail(10)"
   ]
  },
  {
   "cell_type": "code",
   "execution_count": 4,
   "id": "fe0bec02",
   "metadata": {},
   "outputs": [
    {
     "data": {
      "text/html": [
       "<div>\n",
       "<style scoped>\n",
       "    .dataframe tbody tr th:only-of-type {\n",
       "        vertical-align: middle;\n",
       "    }\n",
       "\n",
       "    .dataframe tbody tr th {\n",
       "        vertical-align: top;\n",
       "    }\n",
       "\n",
       "    .dataframe thead th {\n",
       "        text-align: right;\n",
       "    }\n",
       "</style>\n",
       "<table border=\"1\" class=\"dataframe\">\n",
       "  <thead>\n",
       "    <tr style=\"text-align: right;\">\n",
       "      <th></th>\n",
       "      <th>id</th>\n",
       "      <th>text</th>\n",
       "    </tr>\n",
       "  </thead>\n",
       "  <tbody>\n",
       "    <tr>\n",
       "      <th>0</th>\n",
       "      <td>0</td>\n",
       "      <td>ETF assets to surge tenfold in 10 years to $50...</td>\n",
       "    </tr>\n",
       "    <tr>\n",
       "      <th>1</th>\n",
       "      <td>1</td>\n",
       "      <td>Here’s What Hedge Funds Think Evolution Petrol...</td>\n",
       "    </tr>\n",
       "    <tr>\n",
       "      <th>2</th>\n",
       "      <td>2</td>\n",
       "      <td>$PVH - Phillips-Van Heusen Q3 2020 Earnings Pr...</td>\n",
       "    </tr>\n",
       "    <tr>\n",
       "      <th>3</th>\n",
       "      <td>3</td>\n",
       "      <td>China is in the process of waiving retaliatory...</td>\n",
       "    </tr>\n",
       "    <tr>\n",
       "      <th>4</th>\n",
       "      <td>4</td>\n",
       "      <td>Highlight: “When growth is scarce, investors s...</td>\n",
       "    </tr>\n",
       "    <tr>\n",
       "      <th>5</th>\n",
       "      <td>5</td>\n",
       "      <td>Marvell Technology (MRVL) Gains As Market Dips...</td>\n",
       "    </tr>\n",
       "    <tr>\n",
       "      <th>6</th>\n",
       "      <td>6</td>\n",
       "      <td>UPDATE 1-Italian airline Alitalia's rescue in ...</td>\n",
       "    </tr>\n",
       "    <tr>\n",
       "      <th>7</th>\n",
       "      <td>7</td>\n",
       "      <td>why macro funds are shutting down left and rig...</td>\n",
       "    </tr>\n",
       "    <tr>\n",
       "      <th>8</th>\n",
       "      <td>8</td>\n",
       "      <td>Uber's arrival caused binge drinking to increa...</td>\n",
       "    </tr>\n",
       "    <tr>\n",
       "      <th>9</th>\n",
       "      <td>9</td>\n",
       "      <td>New Dungeons &amp; Dragons game announced</td>\n",
       "    </tr>\n",
       "  </tbody>\n",
       "</table>\n",
       "</div>"
      ],
      "text/plain": [
       "   id                                               text\n",
       "0   0  ETF assets to surge tenfold in 10 years to $50...\n",
       "1   1  Here’s What Hedge Funds Think Evolution Petrol...\n",
       "2   2  $PVH - Phillips-Van Heusen Q3 2020 Earnings Pr...\n",
       "3   3  China is in the process of waiving retaliatory...\n",
       "4   4  Highlight: “When growth is scarce, investors s...\n",
       "5   5  Marvell Technology (MRVL) Gains As Market Dips...\n",
       "6   6  UPDATE 1-Italian airline Alitalia's rescue in ...\n",
       "7   7  why macro funds are shutting down left and rig...\n",
       "8   8  Uber's arrival caused binge drinking to increa...\n",
       "9   9              New Dungeons & Dragons game announced"
      ]
     },
     "execution_count": 4,
     "metadata": {},
     "output_type": "execute_result"
    }
   ],
   "source": [
    "#visualize test data\n",
    "test_df.head(10)"
   ]
  },
  {
   "cell_type": "markdown",
   "id": "10d3babb",
   "metadata": {},
   "source": [
    "### Exploratory Analysis "
   ]
  },
  {
   "cell_type": "code",
   "execution_count": 5,
   "id": "6ea7dfc1",
   "metadata": {},
   "outputs": [
    {
     "name": "stdout",
     "output_type": "stream",
     "text": [
      "Train data columns: Index(['text', 'label'], dtype='object')\n",
      "Test data columns: Index(['id', 'text'], dtype='object')\n"
     ]
    }
   ],
   "source": [
    "print(f\"Train data columns: {train_df.columns}\")\n",
    "print(f\"Test data columns: {test_df.columns}\")"
   ]
  },
  {
   "cell_type": "code",
   "execution_count": 6,
   "id": "5e662af3",
   "metadata": {},
   "outputs": [
    {
     "data": {
      "text/plain": [
       "count                                                  9543\n",
       "unique                                                 9543\n",
       "top       $BYND - JPMorgan reels in expectations on Beyo...\n",
       "freq                                                      1\n",
       "Name: text, dtype: object"
      ]
     },
     "execution_count": 6,
     "metadata": {},
     "output_type": "execute_result"
    }
   ],
   "source": [
    "train_df['text'].describe()"
   ]
  },
  {
   "cell_type": "code",
   "execution_count": 7,
   "id": "7b775893",
   "metadata": {},
   "outputs": [
    {
     "data": {
      "text/plain": [
       "0"
      ]
     },
     "execution_count": 7,
     "metadata": {},
     "output_type": "execute_result"
    }
   ],
   "source": [
    "#Verify if any value is null\n",
    "train_df['text'].isna().sum()"
   ]
  },
  {
   "cell_type": "code",
   "execution_count": 8,
   "id": "db043509",
   "metadata": {
    "scrolled": true
   },
   "outputs": [
    {
     "data": {
      "text/html": [
       "<div>\n",
       "<style scoped>\n",
       "    .dataframe tbody tr th:only-of-type {\n",
       "        vertical-align: middle;\n",
       "    }\n",
       "\n",
       "    .dataframe tbody tr th {\n",
       "        vertical-align: top;\n",
       "    }\n",
       "\n",
       "    .dataframe thead th {\n",
       "        text-align: right;\n",
       "    }\n",
       "</style>\n",
       "<table border=\"1\" class=\"dataframe\">\n",
       "  <thead>\n",
       "    <tr style=\"text-align: right;\">\n",
       "      <th></th>\n",
       "      <th>text</th>\n",
       "      <th>label</th>\n",
       "      <th>inicial_word_count</th>\n",
       "    </tr>\n",
       "  </thead>\n",
       "  <tbody>\n",
       "    <tr>\n",
       "      <th>0</th>\n",
       "      <td>$BYND - JPMorgan reels in expectations on Beyo...</td>\n",
       "      <td>0</td>\n",
       "      <td>10</td>\n",
       "    </tr>\n",
       "    <tr>\n",
       "      <th>1</th>\n",
       "      <td>$CCL $RCL - Nomura points to bookings weakness...</td>\n",
       "      <td>0</td>\n",
       "      <td>14</td>\n",
       "    </tr>\n",
       "    <tr>\n",
       "      <th>2</th>\n",
       "      <td>$CX - Cemex cut at Credit Suisse, J.P. Morgan ...</td>\n",
       "      <td>0</td>\n",
       "      <td>14</td>\n",
       "    </tr>\n",
       "    <tr>\n",
       "      <th>3</th>\n",
       "      <td>$ESS: BTIG Research cuts to Neutral https://t....</td>\n",
       "      <td>0</td>\n",
       "      <td>7</td>\n",
       "    </tr>\n",
       "    <tr>\n",
       "      <th>4</th>\n",
       "      <td>$FNKO - Funko slides after Piper Jaffray PT cu...</td>\n",
       "      <td>0</td>\n",
       "      <td>10</td>\n",
       "    </tr>\n",
       "    <tr>\n",
       "      <th>...</th>\n",
       "      <td>...</td>\n",
       "      <td>...</td>\n",
       "      <td>...</td>\n",
       "    </tr>\n",
       "    <tr>\n",
       "      <th>9538</th>\n",
       "      <td>The Week's Gainers and Losers on the Stoxx Eur...</td>\n",
       "      <td>2</td>\n",
       "      <td>16</td>\n",
       "    </tr>\n",
       "    <tr>\n",
       "      <th>9539</th>\n",
       "      <td>Tupperware Brands among consumer gainers; Unil...</td>\n",
       "      <td>2</td>\n",
       "      <td>9</td>\n",
       "    </tr>\n",
       "    <tr>\n",
       "      <th>9540</th>\n",
       "      <td>vTv Therapeutics leads healthcare gainers; Myo...</td>\n",
       "      <td>2</td>\n",
       "      <td>11</td>\n",
       "    </tr>\n",
       "    <tr>\n",
       "      <th>9541</th>\n",
       "      <td>WORK, XPO, PYX and AMKR among after hour movers</td>\n",
       "      <td>2</td>\n",
       "      <td>9</td>\n",
       "    </tr>\n",
       "    <tr>\n",
       "      <th>9542</th>\n",
       "      <td>YNDX, I, QD and OESX among tech movers</td>\n",
       "      <td>2</td>\n",
       "      <td>8</td>\n",
       "    </tr>\n",
       "  </tbody>\n",
       "</table>\n",
       "<p>9543 rows × 3 columns</p>\n",
       "</div>"
      ],
      "text/plain": [
       "                                                   text  label  \\\n",
       "0     $BYND - JPMorgan reels in expectations on Beyo...      0   \n",
       "1     $CCL $RCL - Nomura points to bookings weakness...      0   \n",
       "2     $CX - Cemex cut at Credit Suisse, J.P. Morgan ...      0   \n",
       "3     $ESS: BTIG Research cuts to Neutral https://t....      0   \n",
       "4     $FNKO - Funko slides after Piper Jaffray PT cu...      0   \n",
       "...                                                 ...    ...   \n",
       "9538  The Week's Gainers and Losers on the Stoxx Eur...      2   \n",
       "9539  Tupperware Brands among consumer gainers; Unil...      2   \n",
       "9540  vTv Therapeutics leads healthcare gainers; Myo...      2   \n",
       "9541    WORK, XPO, PYX and AMKR among after hour movers      2   \n",
       "9542             YNDX, I, QD and OESX among tech movers      2   \n",
       "\n",
       "      inicial_word_count  \n",
       "0                     10  \n",
       "1                     14  \n",
       "2                     14  \n",
       "3                      7  \n",
       "4                     10  \n",
       "...                  ...  \n",
       "9538                  16  \n",
       "9539                   9  \n",
       "9540                  11  \n",
       "9541                   9  \n",
       "9542                   8  \n",
       "\n",
       "[9543 rows x 3 columns]"
      ]
     },
     "execution_count": 8,
     "metadata": {},
     "output_type": "execute_result"
    }
   ],
   "source": [
    "#WORD COUNT\n",
    "\n",
    "#add a new column to train_df with the number os words\n",
    "train_df['inicial_word_count'] = train_df['text'].apply(lambda x: len(str(x).split(\" \")))\n",
    "train_df"
   ]
  },
  {
   "cell_type": "code",
   "execution_count": 9,
   "id": "7deccfb8",
   "metadata": {},
   "outputs": [
    {
     "data": {
      "text/plain": [
       "count    9543.000000\n",
       "mean       12.168081\n",
       "std         4.651245\n",
       "min         1.000000\n",
       "25%         9.000000\n",
       "50%        11.000000\n",
       "75%        15.000000\n",
       "max        31.000000\n",
       "Name: inicial_word_count, dtype: float64"
      ]
     },
     "execution_count": 9,
     "metadata": {},
     "output_type": "execute_result"
    }
   ],
   "source": [
    "train_df['inicial_word_count'].describe()"
   ]
  },
  {
   "cell_type": "code",
   "execution_count": 10,
   "id": "e6d2c0fd",
   "metadata": {},
   "outputs": [
    {
     "name": "stdout",
     "output_type": "stream",
     "text": [
      "Train data column word_count MAXIMUM: 31\n",
      "Train data column word_count MINIMUM: 1\n",
      "Train data column word_count MEAN: 12.168081316147962\n",
      "Train data column word_count MEDIAN: 11.0\n",
      "Train data column word_count MODE: 0    10\n",
      "Name: inicial_word_count, dtype: int64\n",
      "Train data column word_count SQARE ROOT: 4.651245064570518\n",
      "Train data column word_count UNIQUE: [10 14  7  6 12 11  9  5 16  8 13 20 22 17  4 18 15 19 25 23 21 24 26  1\n",
      "  2  3 27 29 31]\n"
     ]
    }
   ],
   "source": [
    "#Analysis of column: word_count\n",
    "print(f\"Train data column word_count MAXIMUM: {train_df['inicial_word_count'].max()}\")\n",
    "print(f\"Train data column word_count MINIMUM: {train_df['inicial_word_count'].min()}\")\n",
    "print(f\"Train data column word_count MEAN: {train_df['inicial_word_count'].mean()}\")\n",
    "print(f\"Train data column word_count MEDIAN: {train_df['inicial_word_count'].median()}\")\n",
    "print(f\"Train data column word_count MODE: {train_df['inicial_word_count'].mode()}\")\n",
    "print(f\"Train data column word_count SQARE ROOT: {train_df['inicial_word_count'].std()}\")\n",
    "print(f\"Train data column word_count UNIQUE: {train_df['inicial_word_count'].unique()}\")"
   ]
  },
  {
   "cell_type": "code",
   "execution_count": 11,
   "id": "45e70a8a",
   "metadata": {},
   "outputs": [
    {
     "data": {
      "image/png": "[encoded data removed]",
      "text/plain": [
       "<Figure size 640x480 with 1 Axes>"
      ]
     },
     "metadata": {},
     "output_type": "display_data"
    }
   ],
   "source": [
    "plt.hist(train_df['inicial_word_count'])\n",
    "plt.title('Distribution of Word Count')\n",
    "plt.xlabel('Word Count')\n",
    "plt.ylabel('Frequency')\n",
    "plt.show()"
   ]
  },
  {
   "cell_type": "code",
   "execution_count": 12,
   "id": "b81ffaff",
   "metadata": {},
   "outputs": [
    {
     "data": {
      "text/plain": [
       "<AxesSubplot: >"
      ]
     },
     "execution_count": 12,
     "metadata": {},
     "output_type": "execute_result"
    },
    {
     "data": {
      "image/png": "[encoded data removed]",
      "text/plain": [
       "<Figure size 640x480 with 1 Axes>"
      ]
     },
     "metadata": {},
     "output_type": "display_data"
    }
   ],
   "source": [
    "train_df.boxplot('inicial_word_count')\n",
    "#we are not removing any outlier because every tweet is independent"
   ]
  },
  {
   "cell_type": "code",
   "execution_count": 13,
   "id": "3acff9ce",
   "metadata": {},
   "outputs": [
    {
     "data": {
      "text/plain": [
       "['$BYND',\n",
       " '-',\n",
       " 'JPMorgan',\n",
       " 'reels',\n",
       " 'in',\n",
       " 'expectations',\n",
       " 'on',\n",
       " 'Beyond',\n",
       " 'Meat',\n",
       " 'https://t.co/bd0xbFGjkT']"
      ]
     },
     "execution_count": 13,
     "metadata": {},
     "output_type": "execute_result"
    }
   ],
   "source": [
    "# Frequency of all words\n",
    "all_words = ' '.join(train_df['text']).split()\n",
    "all_words[:10]"
   ]
  },
  {
   "cell_type": "code",
   "execution_count": 14,
   "id": "132ec5b8",
   "metadata": {},
   "outputs": [],
   "source": [
    "#Create a DataFrane of all words and their frequencies\n",
    "wordFreq = pd.Series(all_words).value_counts()"
   ]
  },
  {
   "cell_type": "code",
   "execution_count": 15,
   "id": "f7333c3c",
   "metadata": {
    "scrolled": true
   },
   "outputs": [
    {
     "data": {
      "text/plain": [
       "to     2332\n",
       "the    1820\n",
       "of     1464\n",
       "-      1390\n",
       "in     1361\n",
       "on     1136\n",
       "for    1032\n",
       "a       970\n",
       "and     898\n",
       "The     663\n",
       "at      539\n",
       "as      528\n",
       "is      526\n",
       "by      414\n",
       "up      388\n",
       "dtype: int64"
      ]
     },
     "execution_count": 15,
     "metadata": {},
     "output_type": "execute_result"
    }
   ],
   "source": [
    "# List of me most common words in all tweets\n",
    "wordFreq.sort_values(ascending=False)[0:15]"
   ]
  },
  {
   "cell_type": "code",
   "execution_count": 16,
   "id": "4af2c01b",
   "metadata": {},
   "outputs": [
    {
     "data": {
      "text/plain": [
       "Index(['to', 'the', 'of', '-', 'in', 'on', 'for', 'a', 'and', 'The', 'at',\n",
       "       'as', 'is', 'by', 'up'],\n",
       "      dtype='object')"
      ]
     },
     "execution_count": 16,
     "metadata": {},
     "output_type": "execute_result"
    }
   ],
   "source": [
    "wordFreq.index[0:15]"
   ]
  },
  {
   "cell_type": "code",
   "execution_count": 17,
   "id": "147d04b4",
   "metadata": {},
   "outputs": [
    {
     "data": {
      "image/png": "[encoded data removed]",
      "text/plain": [
       "<Figure size 640x480 with 1 Axes>"
      ]
     },
     "metadata": {},
     "output_type": "display_data"
    }
   ],
   "source": [
    "x_labels = wordFreq.index[0:15]\n",
    "values = wordFreq[:15]\n",
    "plt.bar(x_labels, values, align='center', alpha=0.5)\n",
    "#plt.xticks(y_pos, x_labels)\n",
    "plt.ylabel('Frequencies')\n",
    "plt.title('Most Common Words')\n",
    "plt.xticks(rotation=90)\n",
    "plt.show()"
   ]
  },
  {
   "cell_type": "markdown",
   "id": "e1d7e3db",
   "metadata": {},
   "source": [
    "### Data Preprocessing - Exemple 1: Stop Words"
   ]
  },
  {
   "cell_type": "code",
   "execution_count": 18,
   "id": "a6c00aeb",
   "metadata": {},
   "outputs": [
    {
     "data": {
      "text/plain": [
       "['*', '<', '!', ':', ',']"
      ]
     },
     "execution_count": 18,
     "metadata": {},
     "output_type": "execute_result"
    }
   ],
   "source": [
    "#Remove Punctuation\n",
    "punctuation = list(set(string.punctuation))\n",
    "punctuation[:5]"
   ]
  },
  {
   "cell_type": "code",
   "execution_count": 19,
   "id": "5d257cc8",
   "metadata": {
    "scrolled": true
   },
   "outputs": [
    {
     "data": {
      "text/plain": [
       "['$bynd',\n",
       " 'jpmorgan',\n",
       " 'reels',\n",
       " 'in',\n",
       " 'expectations',\n",
       " 'on',\n",
       " 'beyond',\n",
       " 'meat',\n",
       " 'https://t.co/bd0xbfgjkt',\n",
       " '$ccl']"
      ]
     },
     "execution_count": 19,
     "metadata": {},
     "output_type": "execute_result"
    }
   ],
   "source": [
    "all_words_noPunctuation = [word.lower() for word in all_words if word not in punctuation]\n",
    "all_words_noPunctuation[:10]"
   ]
  },
  {
   "cell_type": "code",
   "execution_count": 20,
   "id": "273fe7cd",
   "metadata": {},
   "outputs": [
    {
     "name": "stderr",
     "output_type": "stream",
     "text": [
      "[nltk_data] Downloading package stopwords to /home/bm/nltk_data...\n",
      "[nltk_data]   Package stopwords is already up-to-date!\n"
     ]
    },
    {
     "data": {
      "text/plain": [
       "True"
      ]
     },
     "execution_count": 20,
     "metadata": {},
     "output_type": "execute_result"
    }
   ],
   "source": [
    "nltk.download('stopwords')"
   ]
  },
  {
   "cell_type": "code",
   "execution_count": 21,
   "id": "f973cdf2",
   "metadata": {},
   "outputs": [],
   "source": [
    "from nltk.corpus import stopwords"
   ]
  },
  {
   "cell_type": "code",
   "execution_count": 22,
   "id": "7e5bd7be",
   "metadata": {},
   "outputs": [],
   "source": [
    "stop = set(stopwords.words('english'))"
   ]
  },
  {
   "cell_type": "code",
   "execution_count": 23,
   "id": "8c49500d",
   "metadata": {
    "scrolled": true
   },
   "outputs": [
    {
     "data": {
      "text/plain": [
       "['$bynd',\n",
       " 'jpmorgan',\n",
       " 'reels',\n",
       " 'expectations',\n",
       " 'beyond',\n",
       " 'meat',\n",
       " 'https://t.co/bd0xbfgjkt',\n",
       " '$ccl',\n",
       " '$rcl',\n",
       " 'nomura']"
      ]
     },
     "execution_count": 23,
     "metadata": {},
     "output_type": "execute_result"
    }
   ],
   "source": [
    "#creation of variable all_words_clean, this is a text with no punctuations and no stop words\n",
    "all_words_clean = [word for word in all_words_noPunctuation if word not in stop]\n",
    "all_words_clean[:10]"
   ]
  },
  {
   "cell_type": "code",
   "execution_count": 24,
   "id": "b2079684",
   "metadata": {
    "scrolled": false
   },
   "outputs": [
    {
     "data": {
      "text/plain": [
       "stock              544\n",
       "new                406\n",
       "results            352\n",
       "u.s.               341\n",
       "says               332\n",
       "earnings           321\n",
       "#stock             316\n",
       "market             296\n",
       "#marketscreener    285\n",
       "price              273\n",
       "dtype: int64"
      ]
     },
     "execution_count": 24,
     "metadata": {},
     "output_type": "execute_result"
    }
   ],
   "source": [
    "freq_cleanWords = pd.Series(all_words_clean).value_counts()\n",
    "freq_cleanWords.sort_values(ascending=False)[0:10] # most frequent word after cleaning"
   ]
  },
  {
   "cell_type": "code",
   "execution_count": 70,
   "id": "329f51be",
   "metadata": {},
   "outputs": [
    {
     "data": {
      "text/plain": [
       "'$CCL $RCL - Nomura points to bookings weakness at Carnival and Royal Caribbean https://t.co/yGjpT2ReD3'"
      ]
     },
     "execution_count": 70,
     "metadata": {},
     "output_type": "execute_result"
    }
   ],
   "source": [
    "#Compare sentence before remove links\n",
    "train_df['text'][1]"
   ]
  },
  {
   "cell_type": "code",
   "execution_count": 71,
   "id": "f13562b8",
   "metadata": {
    "scrolled": true
   },
   "outputs": [
    {
     "name": "stdout",
     "output_type": "stream",
     "text": [
      "['$RCL', '-', 'Nomura', 'points', 'to', 'bookings', 'weakness', 'at', 'Carnival', 'and', 'Royal', 'Caribbean']\n"
     ]
    }
   ],
   "source": [
    "#Create new column and loop to remove links from data\n",
    "train_df['text_splited'] = train_df['text'].str.split(' ')\n",
    "loop_count = 0\n",
    "for line in train_df['text_splited']:\n",
    "    for word in line:\n",
    "        if \"http\" in word: #remove links\n",
    "            train_df['text_splited'][loop_count].remove(word)\n",
    "        #elif \"$\" in word: #remove stock ticker\n",
    "        elif re.search(r'\\$[a-zA-Z]+', word): #remove $ followed by letters\n",
    "            train_df['text_splited'][loop_count].remove(word)\n",
    "        else:\n",
    "            continue\n",
    "    loop_count += 1\n",
    "print(train_df['text_splited'][1])"
   ]
  },
  {
   "cell_type": "code",
   "execution_count": 72,
   "id": "5fd252ce",
   "metadata": {},
   "outputs": [
    {
     "name": "stdout",
     "output_type": "stream",
     "text": [
      "['-', 'Nomura', 'points', 'to', 'bookings', 'weakness', 'at', 'Carnival', 'and', 'Royal', 'Caribbean']\n"
     ]
    }
   ],
   "source": [
    "#As we can see some tickers were not removed because setences had more than one ticker. So we looped again to remove\n",
    "loop_count = 0\n",
    "for line in train_df['text_splited']:\n",
    "    for word in line:\n",
    "        if re.search(r'\\$[a-zA-Z]+', word): #remove $ followed by letters\n",
    "            train_df['text_splited'][loop_count].remove(word)\n",
    "    loop_count += 1\n",
    "print(train_df['text_splited'][1])"
   ]
  },
  {
   "cell_type": "code",
   "execution_count": 73,
   "id": "3dccdd21",
   "metadata": {
    "scrolled": true
   },
   "outputs": [],
   "source": [
    "#join all words again\n",
    "train_df['text_splited'] = train_df['text_splited'].str.join(' ')"
   ]
  },
  {
   "cell_type": "code",
   "execution_count": 74,
   "id": "62ebda6e",
   "metadata": {},
   "outputs": [
    {
     "data": {
      "text/plain": [
       "0         - JPMorgan reels in expectations on Beyond Meat\n",
       "1       - Nomura points to bookings weakness at Carniv...\n",
       "2       - Cemex cut at Credit Suisse, J.P. Morgan on w...\n",
       "3                           BTIG Research cuts to Neutral\n",
       "4               - Funko slides after Piper Jaffray PT cut\n",
       "                              ...                        \n",
       "9538    The Week's Gainers and Losers on the Stoxx Eur...\n",
       "9539    Tupperware Brands among consumer gainers; Unil...\n",
       "9540    vTv Therapeutics leads healthcare gainers; Myo...\n",
       "9541      WORK, XPO, PYX and AMKR among after hour movers\n",
       "9542               YNDX, I, QD and OESX among tech movers\n",
       "Name: text_splited, Length: 9543, dtype: object"
      ]
     },
     "execution_count": 74,
     "metadata": {},
     "output_type": "execute_result"
    }
   ],
   "source": [
    "train_df['text_splited']"
   ]
  },
  {
   "cell_type": "code",
   "execution_count": 75,
   "id": "adc31950",
   "metadata": {},
   "outputs": [
    {
     "data": {
      "text/plain": [
       "Index(['text_backup', 'label', 'inicial_word_count', 'text'], dtype='object')"
      ]
     },
     "execution_count": 75,
     "metadata": {},
     "output_type": "execute_result"
    }
   ],
   "source": [
    "#rename columns\n",
    "train_df.rename(columns={'text': 'text_backup'}, inplace=True)\n",
    "train_df.rename(columns={'text_splited': 'text'}, inplace=True)\n",
    "train_df.columns"
   ]
  },
  {
   "cell_type": "code",
   "execution_count": 76,
   "id": "37d69a15",
   "metadata": {},
   "outputs": [
    {
     "data": {
      "text/plain": [
       "str"
      ]
     },
     "execution_count": 76,
     "metadata": {},
     "output_type": "execute_result"
    }
   ],
   "source": [
    "#add a new column to train_df with the number os words\n",
    "train_df['word_count'] = train_df['text'].apply(lambda x: len(str(x).split(\" \")))\n",
    "type(train_df['text'][0]) #check if the data type is the same of before removing links"
   ]
  },
  {
   "cell_type": "markdown",
   "id": "16491647",
   "metadata": {},
   "source": [
    "### Data Preprocessing - Exemple 2: Stemming and Lemmatization"
   ]
  },
  {
   "cell_type": "code",
   "execution_count": 77,
   "id": "180f0625",
   "metadata": {},
   "outputs": [],
   "source": [
    "from nltk.stem import SnowballStemmer\n",
    "from nltk.stem.wordnet import WordNetLemmatizer"
   ]
  },
  {
   "cell_type": "code",
   "execution_count": 78,
   "id": "de57f62a",
   "metadata": {},
   "outputs": [
    {
     "name": "stderr",
     "output_type": "stream",
     "text": [
      "[nltk_data] Downloading package omw-1.4 to /home/bm/nltk_data...\n",
      "[nltk_data]   Package omw-1.4 is already up-to-date!\n"
     ]
    },
    {
     "data": {
      "text/plain": [
       "True"
      ]
     },
     "execution_count": 78,
     "metadata": {},
     "output_type": "execute_result"
    }
   ],
   "source": [
    "nltk.download('omw-1.4')"
   ]
  },
  {
   "cell_type": "code",
   "execution_count": 79,
   "id": "d1c32045",
   "metadata": {},
   "outputs": [
    {
     "name": "stderr",
     "output_type": "stream",
     "text": [
      "[nltk_data] Downloading package wordnet to /home/bm/nltk_data...\n",
      "[nltk_data]   Package wordnet is already up-to-date!\n"
     ]
    },
    {
     "data": {
      "text/plain": [
       "True"
      ]
     },
     "execution_count": 79,
     "metadata": {},
     "output_type": "execute_result"
    }
   ],
   "source": [
    "nltk.download('wordnet')"
   ]
  },
  {
   "cell_type": "code",
   "execution_count": 80,
   "id": "97f2f4e4",
   "metadata": {},
   "outputs": [],
   "source": [
    "stemmer = SnowballStemmer('english')"
   ]
  },
  {
   "cell_type": "code",
   "execution_count": 81,
   "id": "25037bcd",
   "metadata": {},
   "outputs": [],
   "source": [
    "lemma = WordNetLemmatizer()"
   ]
  },
  {
   "cell_type": "code",
   "execution_count": 82,
   "id": "00ba2a0c",
   "metadata": {},
   "outputs": [],
   "source": [
    "#Apply preprocessing steps\n",
    "from tqdm import tqdm\n",
    "def clean(text_list, lemmatize, stemmer):\n",
    "    \n",
    "    updates = []\n",
    "    \n",
    "    for j in tqdm(text_list):\n",
    "        \n",
    "        text = j\n",
    "        \n",
    "        #LOWERCASE TEXT\n",
    "        text = text.lower()\n",
    "        \n",
    "        #REMOVE NUMERICAL DATA and PUNCTUATION\n",
    "        text = re.sub(\"[^a-zA-Z]\",\" \", text )\n",
    "        text = re.sub(\"br\", \"\", text)\n",
    "        \n",
    "        \n",
    "        #REMOVE STOPWORDS\n",
    "        text = \" \".join([word for word in text.split() if word not in stop])\n",
    "        \n",
    "        #Lemmatize\n",
    "        if lemmatize:\n",
    "            text = \" \".join(lemma.lemmatize(word) for word in text.split())\n",
    "        \n",
    "        #Stemming\n",
    "        if stemmer:\n",
    "            text = \" \".join(stemmer.stem(word) for word in text.split())\n",
    "            \n",
    "        updates.append(text)\n",
    "        \n",
    "    return updates"
   ]
  },
  {
   "cell_type": "code",
   "execution_count": 83,
   "id": "aec61770",
   "metadata": {},
   "outputs": [
    {
     "name": "stderr",
     "output_type": "stream",
     "text": [
      "100%|█████████████████████████████████████| 9543/9543 [00:01<00:00, 6777.57it/s]\n"
     ]
    }
   ],
   "source": [
    "cleaned_text = clean(train_df['text'], lemmatize = True, stemmer = False)"
   ]
  },
  {
   "cell_type": "code",
   "execution_count": 89,
   "id": "219f0d81",
   "metadata": {},
   "outputs": [
    {
     "data": {
      "text/plain": [
       "0      - JPMorgan reels in expectations on Beyond Meat\n",
       "1    - Nomura points to bookings weakness at Carniv...\n",
       "2    - Cemex cut at Credit Suisse, J.P. Morgan on w...\n",
       "3                        BTIG Research cuts to Neutral\n",
       "4            - Funko slides after Piper Jaffray PT cut\n",
       "Name: text, dtype: object"
      ]
     },
     "execution_count": 89,
     "metadata": {},
     "output_type": "execute_result"
    }
   ],
   "source": [
    "# Compare text before and after cleaning\n",
    "train_df['text'][:5] #before cleaning"
   ]
  },
  {
   "cell_type": "code",
   "execution_count": 90,
   "id": "283bb31d",
   "metadata": {},
   "outputs": [
    {
     "data": {
      "text/plain": [
       "['jpmorgan reel expectation beyond meat',\n",
       " 'nomura point booking weakness carnival royal caribbean',\n",
       " 'cemex cut credit suisse j p morgan weak building outlook',\n",
       " 'btig research cut neutral',\n",
       " 'funko slide piper jaffray pt cut']"
      ]
     },
     "execution_count": 90,
     "metadata": {},
     "output_type": "execute_result"
    }
   ],
   "source": [
    "#text after cleaning\n",
    "cleaned_text[:5]"
   ]
  },
  {
   "cell_type": "code",
   "execution_count": 91,
   "id": "b54a0928",
   "metadata": {},
   "outputs": [],
   "source": [
    "#create a function to update a dataFrame\n",
    "def update_df(dataframe, list_updated):\n",
    "    dataframe.update(pd.DataFrame({\"Text\": list_updated}))"
   ]
  },
  {
   "cell_type": "code",
   "execution_count": 92,
   "id": "a7cc46eb",
   "metadata": {},
   "outputs": [
    {
     "data": {
      "text/html": [
       "<div>\n",
       "<style scoped>\n",
       "    .dataframe tbody tr th:only-of-type {\n",
       "        vertical-align: middle;\n",
       "    }\n",
       "\n",
       "    .dataframe tbody tr th {\n",
       "        vertical-align: top;\n",
       "    }\n",
       "\n",
       "    .dataframe thead th {\n",
       "        text-align: right;\n",
       "    }\n",
       "</style>\n",
       "<table border=\"1\" class=\"dataframe\">\n",
       "  <thead>\n",
       "    <tr style=\"text-align: right;\">\n",
       "      <th></th>\n",
       "      <th>text_backup</th>\n",
       "      <th>label</th>\n",
       "      <th>inicial_word_count</th>\n",
       "      <th>text</th>\n",
       "      <th>word_count</th>\n",
       "      <th>Cleaned Text</th>\n",
       "    </tr>\n",
       "  </thead>\n",
       "  <tbody>\n",
       "    <tr>\n",
       "      <th>0</th>\n",
       "      <td>$BYND - JPMorgan reels in expectations on Beyo...</td>\n",
       "      <td>0</td>\n",
       "      <td>10</td>\n",
       "      <td>- JPMorgan reels in expectations on Beyond Meat</td>\n",
       "      <td>8</td>\n",
       "      <td>jpmorgan reel expectation beyond meat</td>\n",
       "    </tr>\n",
       "    <tr>\n",
       "      <th>1</th>\n",
       "      <td>$CCL $RCL - Nomura points to bookings weakness...</td>\n",
       "      <td>0</td>\n",
       "      <td>14</td>\n",
       "      <td>- Nomura points to bookings weakness at Carniv...</td>\n",
       "      <td>11</td>\n",
       "      <td>nomura point booking weakness carnival royal c...</td>\n",
       "    </tr>\n",
       "    <tr>\n",
       "      <th>2</th>\n",
       "      <td>$CX - Cemex cut at Credit Suisse, J.P. Morgan ...</td>\n",
       "      <td>0</td>\n",
       "      <td>14</td>\n",
       "      <td>- Cemex cut at Credit Suisse, J.P. Morgan on w...</td>\n",
       "      <td>12</td>\n",
       "      <td>cemex cut credit suisse j p morgan weak buildi...</td>\n",
       "    </tr>\n",
       "    <tr>\n",
       "      <th>3</th>\n",
       "      <td>$ESS: BTIG Research cuts to Neutral https://t....</td>\n",
       "      <td>0</td>\n",
       "      <td>7</td>\n",
       "      <td>BTIG Research cuts to Neutral</td>\n",
       "      <td>5</td>\n",
       "      <td>btig research cut neutral</td>\n",
       "    </tr>\n",
       "    <tr>\n",
       "      <th>4</th>\n",
       "      <td>$FNKO - Funko slides after Piper Jaffray PT cu...</td>\n",
       "      <td>0</td>\n",
       "      <td>10</td>\n",
       "      <td>- Funko slides after Piper Jaffray PT cut</td>\n",
       "      <td>8</td>\n",
       "      <td>funko slide piper jaffray pt cut</td>\n",
       "    </tr>\n",
       "    <tr>\n",
       "      <th>...</th>\n",
       "      <td>...</td>\n",
       "      <td>...</td>\n",
       "      <td>...</td>\n",
       "      <td>...</td>\n",
       "      <td>...</td>\n",
       "      <td>...</td>\n",
       "    </tr>\n",
       "    <tr>\n",
       "      <th>9538</th>\n",
       "      <td>The Week's Gainers and Losers on the Stoxx Eur...</td>\n",
       "      <td>2</td>\n",
       "      <td>16</td>\n",
       "      <td>The Week's Gainers and Losers on the Stoxx Eur...</td>\n",
       "      <td>15</td>\n",
       "      <td>week gainer loser stoxx europe dec economy mar...</td>\n",
       "    </tr>\n",
       "    <tr>\n",
       "      <th>9539</th>\n",
       "      <td>Tupperware Brands among consumer gainers; Unil...</td>\n",
       "      <td>2</td>\n",
       "      <td>9</td>\n",
       "      <td>Tupperware Brands among consumer gainers; Unil...</td>\n",
       "      <td>9</td>\n",
       "      <td>tupperware ands among consumer gainer unilever...</td>\n",
       "    </tr>\n",
       "    <tr>\n",
       "      <th>9540</th>\n",
       "      <td>vTv Therapeutics leads healthcare gainers; Myo...</td>\n",
       "      <td>2</td>\n",
       "      <td>11</td>\n",
       "      <td>vTv Therapeutics leads healthcare gainers; Myo...</td>\n",
       "      <td>11</td>\n",
       "      <td>vtv therapeutic lead healthcare gainer myomo b...</td>\n",
       "    </tr>\n",
       "    <tr>\n",
       "      <th>9541</th>\n",
       "      <td>WORK, XPO, PYX and AMKR among after hour movers</td>\n",
       "      <td>2</td>\n",
       "      <td>9</td>\n",
       "      <td>WORK, XPO, PYX and AMKR among after hour movers</td>\n",
       "      <td>9</td>\n",
       "      <td>work xpo pyx amkr among hour mover</td>\n",
       "    </tr>\n",
       "    <tr>\n",
       "      <th>9542</th>\n",
       "      <td>YNDX, I, QD and OESX among tech movers</td>\n",
       "      <td>2</td>\n",
       "      <td>8</td>\n",
       "      <td>YNDX, I, QD and OESX among tech movers</td>\n",
       "      <td>8</td>\n",
       "      <td>yndx qd oesx among tech mover</td>\n",
       "    </tr>\n",
       "  </tbody>\n",
       "</table>\n",
       "<p>9543 rows × 6 columns</p>\n",
       "</div>"
      ],
      "text/plain": [
       "                                            text_backup  label  \\\n",
       "0     $BYND - JPMorgan reels in expectations on Beyo...      0   \n",
       "1     $CCL $RCL - Nomura points to bookings weakness...      0   \n",
       "2     $CX - Cemex cut at Credit Suisse, J.P. Morgan ...      0   \n",
       "3     $ESS: BTIG Research cuts to Neutral https://t....      0   \n",
       "4     $FNKO - Funko slides after Piper Jaffray PT cu...      0   \n",
       "...                                                 ...    ...   \n",
       "9538  The Week's Gainers and Losers on the Stoxx Eur...      2   \n",
       "9539  Tupperware Brands among consumer gainers; Unil...      2   \n",
       "9540  vTv Therapeutics leads healthcare gainers; Myo...      2   \n",
       "9541    WORK, XPO, PYX and AMKR among after hour movers      2   \n",
       "9542             YNDX, I, QD and OESX among tech movers      2   \n",
       "\n",
       "      inicial_word_count                                               text  \\\n",
       "0                     10    - JPMorgan reels in expectations on Beyond Meat   \n",
       "1                     14  - Nomura points to bookings weakness at Carniv...   \n",
       "2                     14  - Cemex cut at Credit Suisse, J.P. Morgan on w...   \n",
       "3                      7                      BTIG Research cuts to Neutral   \n",
       "4                     10          - Funko slides after Piper Jaffray PT cut   \n",
       "...                  ...                                                ...   \n",
       "9538                  16  The Week's Gainers and Losers on the Stoxx Eur...   \n",
       "9539                   9  Tupperware Brands among consumer gainers; Unil...   \n",
       "9540                  11  vTv Therapeutics leads healthcare gainers; Myo...   \n",
       "9541                   9    WORK, XPO, PYX and AMKR among after hour movers   \n",
       "9542                   8             YNDX, I, QD and OESX among tech movers   \n",
       "\n",
       "      word_count                                       Cleaned Text  \n",
       "0              8              jpmorgan reel expectation beyond meat  \n",
       "1             11  nomura point booking weakness carnival royal c...  \n",
       "2             12  cemex cut credit suisse j p morgan weak buildi...  \n",
       "3              5                          btig research cut neutral  \n",
       "4              8                   funko slide piper jaffray pt cut  \n",
       "...          ...                                                ...  \n",
       "9538          15  week gainer loser stoxx europe dec economy mar...  \n",
       "9539           9  tupperware ands among consumer gainer unilever...  \n",
       "9540          11  vtv therapeutic lead healthcare gainer myomo b...  \n",
       "9541           9                 work xpo pyx amkr among hour mover  \n",
       "9542           8                      yndx qd oesx among tech mover  \n",
       "\n",
       "[9543 rows x 6 columns]"
      ]
     },
     "execution_count": 92,
     "metadata": {},
     "output_type": "execute_result"
    }
   ],
   "source": [
    "train_df['Cleaned Text'] = cleaned_text\n",
    "train_df"
   ]
  },
  {
   "cell_type": "markdown",
   "id": "3b123630",
   "metadata": {},
   "source": [
    "### Apply Bag of Words"
   ]
  },
  {
   "cell_type": "code",
   "execution_count": 93,
   "id": "e9b6e176",
   "metadata": {},
   "outputs": [],
   "source": [
    "bow = CountVectorizer(binary=True)"
   ]
  },
  {
   "cell_type": "code",
   "execution_count": 94,
   "id": "ebe7230f",
   "metadata": {},
   "outputs": [
    {
     "data": {
      "text/plain": [
       "<9543x13476 sparse matrix of type '<class 'numpy.int64'>'\n",
       "\twith 75893 stored elements in Compressed Sparse Row format>"
      ]
     },
     "execution_count": 94,
     "metadata": {},
     "output_type": "execute_result"
    }
   ],
   "source": [
    "# define our X variable\n",
    "X = bow.fit_transform(train_df['Cleaned Text'])\n",
    "X"
   ]
  },
  {
   "cell_type": "code",
   "execution_count": 95,
   "id": "683e91ff",
   "metadata": {
    "scrolled": true
   },
   "outputs": [
    {
     "name": "stdout",
     "output_type": "stream",
     "text": [
      "[[0 0 0 ... 0 0 0]\n",
      " [0 0 0 ... 0 0 0]\n",
      " [0 0 0 ... 0 0 0]\n",
      " ...\n",
      " [0 0 0 ... 0 0 0]\n",
      " [0 0 0 ... 0 0 0]\n",
      " [0 0 0 ... 0 0 0]]\n"
     ]
    }
   ],
   "source": [
    "print(X.toarray())"
   ]
  },
  {
   "cell_type": "code",
   "execution_count": 96,
   "id": "2d53d163",
   "metadata": {},
   "outputs": [
    {
     "name": "stderr",
     "output_type": "stream",
     "text": [
      "100%|████████████████████████████████████| 2388/2388 [00:00<00:00, 18768.68it/s]\n"
     ]
    }
   ],
   "source": [
    "test_df['Cleaned Text'] = clean(test_df['text'], lemmatize = True, stemmer = False)"
   ]
  },
  {
   "cell_type": "code",
   "execution_count": 97,
   "id": "abb40a0e",
   "metadata": {},
   "outputs": [],
   "source": [
    "#Define our target (Y)\n",
    "y = train_df['label']"
   ]
  },
  {
   "cell_type": "code",
   "execution_count": 98,
   "id": "3f7f78d3",
   "metadata": {},
   "outputs": [],
   "source": [
    "#Train with KNN model\n",
    "knn_model = KNeighborsClassifier(n_neighbors=10, metric='cosine', weights='distance').fit(X,y)"
   ]
  },
  {
   "cell_type": "code",
   "execution_count": 99,
   "id": "06b975f6",
   "metadata": {},
   "outputs": [],
   "source": [
    "#Apply BOW\n",
    "test = bow.transform(test_df['text'])"
   ]
  },
  {
   "cell_type": "code",
   "execution_count": 100,
   "id": "e9cce959",
   "metadata": {},
   "outputs": [],
   "source": [
    "#Apply KNN to make predictions on test data\n",
    "predict = knn_model.predict(test)"
   ]
  },
  {
   "cell_type": "code",
   "execution_count": 111,
   "id": "4dd4ff0b",
   "metadata": {},
   "outputs": [
    {
     "name": "stdout",
     "output_type": "stream",
     "text": [
      "The predicted score is \u001b[1m2\u001b[0m for: etf asset surge tenfold year trillion bank america predicts.\n",
      "---------------------------------------------------------------------------------------------------------\n",
      "The predicted score is \u001b[1m2\u001b[0m for: hedge fund think evolution petroleum corporation epm.\n",
      "---------------------------------------------------------------------------------------------------------\n",
      "The predicted score is \u001b[1m2\u001b[0m for: pvh phillips van heusen q earnings preview http co knhcywvnbx.\n",
      "---------------------------------------------------------------------------------------------------------\n",
      "The predicted score is \u001b[1m2\u001b[0m for: china process waiving retaliatory tariff import u pork soy domestic company pro http co mzu trbx.\n",
      "---------------------------------------------------------------------------------------------------------\n",
      "The predicted score is \u001b[1m2\u001b[0m for: highlight growth scarce investor seem willing pay growth stock pncbank http co ro fbokbg.\n",
      "---------------------------------------------------------------------------------------------------------\n",
      "The predicted score is \u001b[1m2\u001b[0m for: marvell technology mrvl gain market dip know nasdaq.\n",
      "---------------------------------------------------------------------------------------------------------\n",
      "The predicted score is \u001b[1m2\u001b[0m for: update italian airline alitalia rescue doubt atlantia backtracks.\n",
      "---------------------------------------------------------------------------------------------------------\n",
      "The predicted score is \u001b[1m2\u001b[0m for: macro fund shutting left right http co gvyowobmqe.\n",
      "---------------------------------------------------------------------------------------------------------\n",
      "The predicted score is \u001b[1m0\u001b[0m for: uber arrival caused binge drinking increase possible decrease drunk driving lo http co h tuhlp b.\n",
      "---------------------------------------------------------------------------------------------------------\n",
      "The predicted score is \u001b[1m2\u001b[0m for: new dungeon dragon game announced.\n",
      "---------------------------------------------------------------------------------------------------------\n",
      "The predicted score is \u001b[1m1\u001b[0m for: becton dickinson earnings revenue beat q.\n",
      "---------------------------------------------------------------------------------------------------------\n",
      "The predicted score is \u001b[1m2\u001b[0m for: kern guess great alert week http co anyntgnop.\n",
      "---------------------------------------------------------------------------------------------------------\n",
      "The predicted score is \u001b[1m1\u001b[0m for: arch coal rated buy benchmark seeing opportunity selloff.\n",
      "---------------------------------------------------------------------------------------------------------\n",
      "The predicted score is \u001b[1m2\u001b[0m for: federal reserve official feel comfortable maintaining wait see posture interest rate frid http co jlpmp kwvr.\n",
      "---------------------------------------------------------------------------------------------------------\n",
      "The predicted score is \u001b[1m0\u001b[0m for: oil drop http co qtbfzt ti http co jq jsuumhi.\n",
      "---------------------------------------------------------------------------------------------------------\n"
     ]
    }
   ],
   "source": [
    "loop_count = 0\n",
    "for review, score in zip(test_df['Cleaned Text'], predict):\n",
    "    print(f'The predicted score is \\033[1m{score}\\033[0m for: {review}.')\n",
    "    print(\"---\"*35)\n",
    "    loop_count +=1\n",
    "    if loop_count == 15:\n",
    "        break"
   ]
  },
  {
   "cell_type": "code",
   "execution_count": 51,
   "id": "d2e6f21e",
   "metadata": {},
   "outputs": [],
   "source": [
    "#é preciso correr o ponto 5.5 Predict for Test corpus??\n",
    "#\n",
    "#"
   ]
  },
  {
   "cell_type": "code",
   "execution_count": 119,
   "id": "1b0f176b",
   "metadata": {},
   "outputs": [],
   "source": [
    "test_df['label'] = predict"
   ]
  },
  {
   "cell_type": "code",
   "execution_count": 120,
   "id": "c48169b4",
   "metadata": {},
   "outputs": [],
   "source": [
    "X_test = bow.transform(test_df['Cleaned Text'])\n",
    "y_test = np.array(test_df['label'])"
   ]
  },
  {
   "cell_type": "code",
   "execution_count": 121,
   "id": "14b43513",
   "metadata": {},
   "outputs": [
    {
     "data": {
      "text/plain": [
       "array([2, 2, 2, ..., 2, 2, 2])"
      ]
     },
     "execution_count": 121,
     "metadata": {},
     "output_type": "execute_result"
    }
   ],
   "source": [
    "y_pred = knn_model.predict(X_test)\n",
    "y_pred"
   ]
  },
  {
   "cell_type": "markdown",
   "id": "8f841f11",
   "metadata": {},
   "source": [
    "### Evaluate"
   ]
  },
  {
   "cell_type": "code",
   "execution_count": 122,
   "id": "cc7f370d",
   "metadata": {},
   "outputs": [],
   "source": [
    "labels = {'Bearish': 0, 'Bullish':1, 'Neutral':2}"
   ]
  },
  {
   "cell_type": "code",
   "execution_count": 123,
   "id": "94df9c60",
   "metadata": {},
   "outputs": [
    {
     "name": "stdout",
     "output_type": "stream",
     "text": [
      "              precision    recall  f1-score   support\n",
      "\n",
      "     Bearish       0.70      0.61      0.65       190\n",
      "     Bullish       0.65      0.79      0.71       396\n",
      "     Neutral       0.94      0.91      0.92      1802\n",
      "\n",
      "    accuracy                           0.86      2388\n",
      "   macro avg       0.76      0.77      0.76      2388\n",
      "weighted avg       0.87      0.86      0.87      2388\n",
      "\n"
     ]
    }
   ],
   "source": [
    "#analyse the results of the test data\n",
    "print(classification_report(y_pred, y_test, target_names = labels.keys()))"
   ]
  },
  {
   "cell_type": "code",
   "execution_count": 124,
   "id": "42f147b9",
   "metadata": {},
   "outputs": [
    {
     "data": {
      "text/plain": [
       "array([[ 115,   40,   35],\n",
       "       [  16,  312,   68],\n",
       "       [  34,  131, 1637]])"
      ]
     },
     "execution_count": 124,
     "metadata": {},
     "output_type": "execute_result"
    }
   ],
   "source": [
    "confusion_matrix(y_pred, y_test)"
   ]
  },
  {
   "cell_type": "code",
   "execution_count": 125,
   "id": "50e9ae59",
   "metadata": {},
   "outputs": [
    {
     "name": "stderr",
     "output_type": "stream",
     "text": [
      "/tmp/ipykernel_5793/482435971.py:42: UserWarning: Attempting to set identical low and high ylims makes transformation singular; automatically expanding.\n",
      "  plt.ylim(top=len(class_names)-0.5)  # adjust the top leaving bottom unchanged\n"
     ]
    },
    {
     "data": {
      "image/png": "[encoded data removed]",
      "text/plain": [
       "<Figure size 640x480 with 2 Axes>"
      ]
     },
     "metadata": {},
     "output_type": "display_data"
    }
   ],
   "source": [
    "import numpy as np\n",
    "import matplotlib.pyplot as plt\n",
    "\n",
    "def plot_cm(confusion_matrix : np.array, \n",
    "            classnames : list):\n",
    "    \"\"\"\n",
    "    Function that creates a confusion matrix plot using the Wikipedia convention for the axis. \n",
    "    :param confusion_matrix: confusion matrix that will be plotted\n",
    "    :param classnames: labels of the classes\n",
    "    \n",
    "    Returns:\n",
    "        - Plot of the Confusion Matrix\n",
    "    \"\"\"\n",
    "    \n",
    "    confusionmatrix = confusion_matrix\n",
    "    class_names = classnames             \n",
    "\n",
    "    fig, ax = plt.subplots()\n",
    "    im = plt.imshow(confusionmatrix, cmap=plt.cm.cividis)\n",
    "    plt.colorbar()\n",
    "\n",
    "    # We want to show all ticks...\n",
    "    ax.set_xticks(np.arange(len(class_names)))\n",
    "    ax.set_yticks(np.arange(len(class_names)))\n",
    "    # ... and label them with the respective list entries\n",
    "    ax.set_xticklabels(class_names)\n",
    "    ax.set_yticklabels(class_names)\n",
    "\n",
    "    # Rotate the tick labels and set their alignment.\n",
    "    plt.setp(ax.get_xticklabels(), rotation=45, ha=\"right\",\n",
    "             rotation_mode=\"anchor\")\n",
    "\n",
    "    # Loop over data dimensions and create text annotations.\n",
    "    for i in range(len(class_names)):\n",
    "        for j in range(len(class_names)):\n",
    "            text = ax.text(j, i, confusionmatrix[i, j],\n",
    "                           ha=\"center\", va=\"center\", color=\"w\")\n",
    "\n",
    "    ax.set_title(\"Confusion Matrix\")\n",
    "    plt.xlabel('Targets')\n",
    "    plt.ylabel('Predictions')\n",
    "    plt.ylim(top=len(class_names)-0.5)  # adjust the top leaving bottom unchanged\n",
    "    plt.ylim(bottom=-0.5)  # adjust the bottom leaving top unchanged\n",
    "    return plt.show()\n",
    "\n",
    "plot_cm(confusion_matrix(y_pred, y_test), labels.keys())"
   ]
  },
  {
   "cell_type": "markdown",
   "id": "776e61df",
   "metadata": {},
   "source": [
    "### TF-IDF"
   ]
  },
  {
   "cell_type": "code",
   "execution_count": 126,
   "id": "c8301f37",
   "metadata": {},
   "outputs": [],
   "source": [
    "tfidf = TfidfVectorizer(ngram_range=(1,1)) # we tried with several ngram_range and the best result is with(1,1)"
   ]
  },
  {
   "cell_type": "code",
   "execution_count": 127,
   "id": "ce9b92a5",
   "metadata": {},
   "outputs": [
    {
     "data": {
      "text/plain": [
       "<9543x13476 sparse matrix of type '<class 'numpy.float64'>'\n",
       "\twith 75893 stored elements in Compressed Sparse Row format>"
      ]
     },
     "execution_count": 127,
     "metadata": {},
     "output_type": "execute_result"
    }
   ],
   "source": [
    "X2 = tfidf.fit_transform(train_df['Cleaned Text'])\n",
    "X2"
   ]
  },
  {
   "cell_type": "code",
   "execution_count": 128,
   "id": "158f5f57",
   "metadata": {},
   "outputs": [],
   "source": [
    "y_tt = train_df['label']"
   ]
  },
  {
   "cell_type": "code",
   "execution_count": 129,
   "id": "06da937e",
   "metadata": {},
   "outputs": [
    {
     "data": {
      "text/html": [
       "<div>\n",
       "<style scoped>\n",
       "    .dataframe tbody tr th:only-of-type {\n",
       "        vertical-align: middle;\n",
       "    }\n",
       "\n",
       "    .dataframe tbody tr th {\n",
       "        vertical-align: top;\n",
       "    }\n",
       "\n",
       "    .dataframe thead th {\n",
       "        text-align: right;\n",
       "    }\n",
       "</style>\n",
       "<table border=\"1\" class=\"dataframe\">\n",
       "  <thead>\n",
       "    <tr style=\"text-align: right;\">\n",
       "      <th></th>\n",
       "      <th>TF-IDF</th>\n",
       "    </tr>\n",
       "  </thead>\n",
       "  <tbody>\n",
       "    <tr>\n",
       "      <th>aa</th>\n",
       "      <td>0.0</td>\n",
       "    </tr>\n",
       "    <tr>\n",
       "      <th>aaa</th>\n",
       "      <td>0.0</td>\n",
       "    </tr>\n",
       "    <tr>\n",
       "      <th>aaham</th>\n",
       "      <td>0.0</td>\n",
       "    </tr>\n",
       "    <tr>\n",
       "      <th>aal</th>\n",
       "      <td>0.0</td>\n",
       "    </tr>\n",
       "    <tr>\n",
       "      <th>aams</th>\n",
       "      <td>0.0</td>\n",
       "    </tr>\n",
       "    <tr>\n",
       "      <th>...</th>\n",
       "      <td>...</td>\n",
       "    </tr>\n",
       "    <tr>\n",
       "      <th>zxjv</th>\n",
       "      <td>0.0</td>\n",
       "    </tr>\n",
       "    <tr>\n",
       "      <th>zyen</th>\n",
       "      <td>0.0</td>\n",
       "    </tr>\n",
       "    <tr>\n",
       "      <th>zynex</th>\n",
       "      <td>0.0</td>\n",
       "    </tr>\n",
       "    <tr>\n",
       "      <th>zynga</th>\n",
       "      <td>0.0</td>\n",
       "    </tr>\n",
       "    <tr>\n",
       "      <th>zyy</th>\n",
       "      <td>0.0</td>\n",
       "    </tr>\n",
       "  </tbody>\n",
       "</table>\n",
       "<p>13476 rows × 1 columns</p>\n",
       "</div>"
      ],
      "text/plain": [
       "       TF-IDF\n",
       "aa        0.0\n",
       "aaa       0.0\n",
       "aaham     0.0\n",
       "aal       0.0\n",
       "aams      0.0\n",
       "...       ...\n",
       "zxjv      0.0\n",
       "zyen      0.0\n",
       "zynex     0.0\n",
       "zynga     0.0\n",
       "zyy       0.0\n",
       "\n",
       "[13476 rows x 1 columns]"
      ]
     },
     "execution_count": 129,
     "metadata": {},
     "output_type": "execute_result"
    }
   ],
   "source": [
    "df_tfidf = pd.DataFrame(X2[0].T.todense(), index=tfidf.get_feature_names_out(), columns=['TF-IDF'])\n",
    "df_tfidf"
   ]
  },
  {
   "cell_type": "code",
   "execution_count": 130,
   "id": "a16dac9a",
   "metadata": {},
   "outputs": [
    {
     "data": {
      "text/html": [
       "<div>\n",
       "<style scoped>\n",
       "    .dataframe tbody tr th:only-of-type {\n",
       "        vertical-align: middle;\n",
       "    }\n",
       "\n",
       "    .dataframe tbody tr th {\n",
       "        vertical-align: top;\n",
       "    }\n",
       "\n",
       "    .dataframe thead th {\n",
       "        text-align: right;\n",
       "    }\n",
       "</style>\n",
       "<table border=\"1\" class=\"dataframe\">\n",
       "  <thead>\n",
       "    <tr style=\"text-align: right;\">\n",
       "      <th></th>\n",
       "      <th>TF-IDF</th>\n",
       "    </tr>\n",
       "  </thead>\n",
       "  <tbody>\n",
       "    <tr>\n",
       "      <th>reel</th>\n",
       "      <td>0.518196</td>\n",
       "    </tr>\n",
       "    <tr>\n",
       "      <th>meat</th>\n",
       "      <td>0.451645</td>\n",
       "    </tr>\n",
       "    <tr>\n",
       "      <th>beyond</th>\n",
       "      <td>0.437325</td>\n",
       "    </tr>\n",
       "    <tr>\n",
       "      <th>jpmorgan</th>\n",
       "      <td>0.428444</td>\n",
       "    </tr>\n",
       "    <tr>\n",
       "      <th>expectation</th>\n",
       "      <td>0.390733</td>\n",
       "    </tr>\n",
       "    <tr>\n",
       "      <th>phun</th>\n",
       "      <td>0.000000</td>\n",
       "    </tr>\n",
       "    <tr>\n",
       "      <th>phony</th>\n",
       "      <td>0.000000</td>\n",
       "    </tr>\n",
       "    <tr>\n",
       "      <th>phot</th>\n",
       "      <td>0.000000</td>\n",
       "    </tr>\n",
       "    <tr>\n",
       "      <th>photo</th>\n",
       "      <td>0.000000</td>\n",
       "    </tr>\n",
       "    <tr>\n",
       "      <th>photograph</th>\n",
       "      <td>0.000000</td>\n",
       "    </tr>\n",
       "    <tr>\n",
       "      <th>photographer</th>\n",
       "      <td>0.000000</td>\n",
       "    </tr>\n",
       "    <tr>\n",
       "      <th>phr</th>\n",
       "      <td>0.000000</td>\n",
       "    </tr>\n",
       "    <tr>\n",
       "      <th>phrase</th>\n",
       "      <td>0.000000</td>\n",
       "    </tr>\n",
       "    <tr>\n",
       "      <th>phreesia</th>\n",
       "      <td>0.000000</td>\n",
       "    </tr>\n",
       "    <tr>\n",
       "      <th>phrr</th>\n",
       "      <td>0.000000</td>\n",
       "    </tr>\n",
       "    <tr>\n",
       "      <th>aa</th>\n",
       "      <td>0.000000</td>\n",
       "    </tr>\n",
       "    <tr>\n",
       "      <th>phunware</th>\n",
       "      <td>0.000000</td>\n",
       "    </tr>\n",
       "    <tr>\n",
       "      <th>philly</th>\n",
       "      <td>0.000000</td>\n",
       "    </tr>\n",
       "    <tr>\n",
       "      <th>pi</th>\n",
       "      <td>0.000000</td>\n",
       "    </tr>\n",
       "    <tr>\n",
       "      <th>piazza</th>\n",
       "      <td>0.000000</td>\n",
       "    </tr>\n",
       "  </tbody>\n",
       "</table>\n",
       "</div>"
      ],
      "text/plain": [
       "                TF-IDF\n",
       "reel          0.518196\n",
       "meat          0.451645\n",
       "beyond        0.437325\n",
       "jpmorgan      0.428444\n",
       "expectation   0.390733\n",
       "phun          0.000000\n",
       "phony         0.000000\n",
       "phot          0.000000\n",
       "photo         0.000000\n",
       "photograph    0.000000\n",
       "photographer  0.000000\n",
       "phr           0.000000\n",
       "phrase        0.000000\n",
       "phreesia      0.000000\n",
       "phrr          0.000000\n",
       "aa            0.000000\n",
       "phunware      0.000000\n",
       "philly        0.000000\n",
       "pi            0.000000\n",
       "piazza        0.000000"
      ]
     },
     "execution_count": 130,
     "metadata": {},
     "output_type": "execute_result"
    }
   ],
   "source": [
    "df_tfidf = df_tfidf.sort_values('TF-IDF', ascending=False)\n",
    "df_tfidf.head(20)"
   ]
  },
  {
   "cell_type": "code",
   "execution_count": 131,
   "id": "a416d865",
   "metadata": {},
   "outputs": [],
   "source": [
    "knn_model_tfidf = KNeighborsClassifier(n_neighbors=10, metric='cosine', weights='distance').fit(X2,y_tt)"
   ]
  },
  {
   "cell_type": "code",
   "execution_count": 132,
   "id": "e0a72486",
   "metadata": {},
   "outputs": [],
   "source": [
    "X_test2 = tfidf.transform(test_df['Cleaned Text'])\n",
    "y_test2 = np.array(test_df['label'])"
   ]
  },
  {
   "cell_type": "code",
   "execution_count": 133,
   "id": "60af488c",
   "metadata": {},
   "outputs": [
    {
     "data": {
      "text/plain": [
       "array([2, 2, 2, 1, 2])"
      ]
     },
     "execution_count": 133,
     "metadata": {},
     "output_type": "execute_result"
    }
   ],
   "source": [
    "y_pred2 = knn_model_tfidf.predict(X_test2)\n",
    "y_pred2[:5]"
   ]
  },
  {
   "cell_type": "code",
   "execution_count": 134,
   "id": "4f2775fe",
   "metadata": {},
   "outputs": [
    {
     "name": "stdout",
     "output_type": "stream",
     "text": [
      "              precision    recall  f1-score   support\n",
      "\n",
      "     Bearish       0.64      0.50      0.56       212\n",
      "     Bullish       0.61      0.69      0.64       429\n",
      "     Neutral       0.90      0.90      0.90      1747\n",
      "\n",
      "    accuracy                           0.83      2388\n",
      "   macro avg       0.72      0.69      0.70      2388\n",
      "weighted avg       0.83      0.83      0.83      2388\n",
      "\n"
     ]
    }
   ],
   "source": [
    "print(classification_report(y_pred2, y_test2, target_names = labels.keys()))"
   ]
  },
  {
   "cell_type": "code",
   "execution_count": 135,
   "id": "bca8bf7e",
   "metadata": {},
   "outputs": [
    {
     "data": {
      "text/plain": [
       "array([[ 105,   56,   51],\n",
       "       [  19,  294,  116],\n",
       "       [  41,  133, 1573]])"
      ]
     },
     "execution_count": 135,
     "metadata": {},
     "output_type": "execute_result"
    }
   ],
   "source": [
    "confusion_matrix(y_pred2, y_test2)"
   ]
  },
  {
   "cell_type": "code",
   "execution_count": 136,
   "id": "0058abb4",
   "metadata": {},
   "outputs": [
    {
     "name": "stderr",
     "output_type": "stream",
     "text": [
      "/tmp/ipykernel_5793/482435971.py:42: UserWarning: Attempting to set identical low and high ylims makes transformation singular; automatically expanding.\n",
      "  plt.ylim(top=len(class_names)-0.5)  # adjust the top leaving bottom unchanged\n"
     ]
    },
    {
     "data": {
      "image/png": "[encoded data removed]",
      "text/plain": [
       "<Figure size 640x480 with 2 Axes>"
      ]
     },
     "metadata": {},
     "output_type": "display_data"
    }
   ],
   "source": [
    "plot_cm(confusion_matrix(y_pred2, y_test2), labels.keys())"
   ]
  },
  {
   "cell_type": "markdown",
   "id": "85896af4",
   "metadata": {},
   "source": [
    "### Apply MLP model"
   ]
  },
  {
   "cell_type": "code",
   "execution_count": 137,
   "id": "53bbe343",
   "metadata": {},
   "outputs": [
    {
     "name": "stderr",
     "output_type": "stream",
     "text": [
      "/usr/lib/python3/dist-packages/sklearn/neural_network/_multilayer_perceptron.py:684: ConvergenceWarning: Stochastic Optimizer: Maximum iterations (200) reached and the optimization hasn't converged yet.\n",
      "  warnings.warn(\n"
     ]
    }
   ],
   "source": [
    "mlp = MLPClassifier(solver='adam', hidden_layer_sizes=(3,3), activation='logistic', random_state=5).fit(X,y)\n",
    "#We tried with different hidden layers and our best model is (3,3)"
   ]
  },
  {
   "cell_type": "code",
   "execution_count": 138,
   "id": "0c79f470",
   "metadata": {},
   "outputs": [
    {
     "data": {
      "text/plain": [
       "array([2, 2, 2, 2, 2])"
      ]
     },
     "execution_count": 138,
     "metadata": {},
     "output_type": "execute_result"
    }
   ],
   "source": [
    "mlp_prediction = mlp.predict(X_test)\n",
    "mlp_prediction[:5]"
   ]
  },
  {
   "cell_type": "code",
   "execution_count": 139,
   "id": "63647258",
   "metadata": {
    "scrolled": true
   },
   "outputs": [
    {
     "name": "stdout",
     "output_type": "stream",
     "text": [
      "              precision    recall  f1-score   support\n",
      "\n",
      "     Bearish       0.28      0.49      0.35       165\n",
      "     Bullish       0.39      0.46      0.42       483\n",
      "     Neutral       0.86      0.75      0.80      1740\n",
      "\n",
      "    accuracy                           0.68      2388\n",
      "   macro avg       0.51      0.57      0.53      2388\n",
      "weighted avg       0.73      0.68      0.70      2388\n",
      "\n"
     ]
    }
   ],
   "source": [
    "print(classification_report(y_test, mlp_prediction, target_names=labels.keys()))"
   ]
  },
  {
   "cell_type": "markdown",
   "id": "8da9c336",
   "metadata": {},
   "source": [
    "### Model LSTM"
   ]
  },
  {
   "cell_type": "code",
   "execution_count": 140,
   "id": "bf575ec5",
   "metadata": {},
   "outputs": [
    {
     "name": "stderr",
     "output_type": "stream",
     "text": [
      "2023-04-02 16:10:01.943843: I tensorflow/tsl/cuda/cudart_stub.cc:28] Could not find cuda drivers on your machine, GPU will not be used.\n",
      "2023-04-02 16:10:01.996656: I tensorflow/tsl/cuda/cudart_stub.cc:28] Could not find cuda drivers on your machine, GPU will not be used.\n",
      "2023-04-02 16:10:01.997507: I tensorflow/core/platform/cpu_feature_guard.cc:182] This TensorFlow binary is optimized to use available CPU instructions in performance-critical operations.\n",
      "To enable the following instructions: AVX2 FMA, in other operations, rebuild TensorFlow with the appropriate compiler flags.\n",
      "2023-04-02 16:10:03.043141: W tensorflow/compiler/tf2tensorrt/utils/py_utils.cc:38] TF-TRT Warning: Could not find TensorRT\n"
     ]
    }
   ],
   "source": [
    "import tensorflow as tf\n",
    "import tensorflow.keras as keras\n",
    "tf.config.run_functions_eagerly(True)\n",
    "tf.data.experimental.enable_debug_mode()\n",
    "#make the model start with same weights\n",
    "tf.random.set_seed(221)\n",
    "#import packages\n",
    "from keras.models import Model\n",
    "from keras.layers import Input, LSTM, Dense, TimeDistributed, Bidirectional, Masking\n",
    "from keras import layers\n",
    "import tensorflow as tf\n",
    "import tensorflow.keras as keras\n",
    "tf.config.run_functions_eagerly(True)\n",
    "tf.data.experimental.enable_debug_mode()\n",
    "from keras_preprocessing.sequence import pad_sequences"
   ]
  },
  {
   "cell_type": "code",
   "execution_count": 166,
   "id": "2c143f9c",
   "metadata": {},
   "outputs": [
    {
     "name": "stdout",
     "output_type": "stream",
     "text": [
      "['fasttext-wiki-news-subwords-300', 'conceptnet-numberbatch-17-06-300', 'word2vec-ruscorpora-300', 'word2vec-google-news-300', 'glove-wiki-gigaword-50', 'glove-wiki-gigaword-100', 'glove-wiki-gigaword-200', 'glove-wiki-gigaword-300', 'glove-twitter-25', 'glove-twitter-50', 'glove-twitter-100', 'glove-twitter-200', '__testing_word2vec-matrix-synopsis']\n"
     ]
    }
   ],
   "source": [
    "print(list(gensim.downloader.info()['models'].keys()))\n",
    "#since we are dealing with tweets we choose 'glove-twitter-50'"
   ]
  },
  {
   "cell_type": "code",
   "execution_count": 167,
   "id": "b462d9ee",
   "metadata": {
    "scrolled": true
   },
   "outputs": [
    {
     "name": "stdout",
     "output_type": "stream",
     "text": [
      "[==================================================] 100.0% 387.1/387.1MB downloaded\n"
     ]
    }
   ],
   "source": [
    "#word_to_vec = gensim.downloader.load('glove-twitter-25')\n",
    "#word_to_vec = gensim.downloader.load('glove-twitter-50')\n",
    "word_to_vec = gensim.downloader.load('glove-twitter-100')"
   ]
  },
  {
   "cell_type": "code",
   "execution_count": 180,
   "id": "9c1ba0df",
   "metadata": {},
   "outputs": [],
   "source": [
    "emb_size = 100"
   ]
  },
  {
   "cell_type": "code",
   "execution_count": 181,
   "id": "ae884306",
   "metadata": {},
   "outputs": [],
   "source": [
    "#function to get embeddings for each word based on word_to_vec list\n",
    "def corpus2vec(corpus):\n",
    "    corpus_vec = []\n",
    "    for document in tqdm(corpus):\n",
    "        #get word vectors for each document\n",
    "        doc_vectors = []\n",
    "        for word in document.split():\n",
    "            if word in word_to_vec.index_to_key:\n",
    "                doc_vectors.append(word_to_vec.word_vec(word))         \n",
    "        corpus_vec.append(doc_vectors)\n",
    "    return corpus_vec"
   ]
  },
  {
   "cell_type": "code",
   "execution_count": 182,
   "id": "7e2f8ef4",
   "metadata": {
    "scrolled": true
   },
   "outputs": [
    {
     "name": "stderr",
     "output_type": "stream",
     "text": [
      "  0%|                                                  | 0/9543 [00:00<?, ?it/s]/tmp/ipykernel_5793/2857742778.py:9: DeprecationWarning: Call to deprecated `word_vec` (Use get_vector instead).\n",
      "  doc_vectors.append(word_to_vec.word_vec(word))\n",
      "100%|███████████████████████████████████████| 9543/9543 [02:14<00:00, 71.21it/s]\n"
     ]
    }
   ],
   "source": [
    "x_train_vec = corpus2vec(train_df['Cleaned Text'])"
   ]
  },
  {
   "cell_type": "code",
   "execution_count": 183,
   "id": "2c4b85d5",
   "metadata": {},
   "outputs": [
    {
     "name": "stderr",
     "output_type": "stream",
     "text": [
      "  0%|                                                  | 0/2388 [00:00<?, ?it/s]/tmp/ipykernel_5793/2857742778.py:9: DeprecationWarning: Call to deprecated `word_vec` (Use get_vector instead).\n",
      "  doc_vectors.append(word_to_vec.word_vec(word))\n",
      "100%|███████████████████████████████████████| 2388/2388 [01:04<00:00, 36.86it/s]\n"
     ]
    }
   ],
   "source": [
    "x_test_vec = corpus2vec(test_df['Cleaned Text'])"
   ]
  },
  {
   "cell_type": "code",
   "execution_count": 184,
   "id": "495e7d35",
   "metadata": {},
   "outputs": [
    {
     "name": "stdout",
     "output_type": "stream",
     "text": [
      "[5, 7, 10, 3, 6, 6, 3, 4, 4, 5] "
     ]
    }
   ],
   "source": [
    "#get list with lenghts of sentences\n",
    "train_len = []\n",
    "for i in x_train_vec:\n",
    "    train_len.append(len(i))\n",
    "print(train_len[:10], end=\" \")"
   ]
  },
  {
   "cell_type": "code",
   "execution_count": 185,
   "id": "9dda21e0",
   "metadata": {},
   "outputs": [
    {
     "data": {
      "text/plain": [
       "24"
      ]
     },
     "execution_count": 185,
     "metadata": {},
     "output_type": "execute_result"
    }
   ],
   "source": [
    "max(train_len)"
   ]
  },
  {
   "cell_type": "code",
   "execution_count": 186,
   "id": "6d40016a",
   "metadata": {},
   "outputs": [],
   "source": [
    "#make all sentences the same size - model input must be of the same size\n",
    "\n",
    "#X_pad = pad_sequences(maxlen=max(train_len),sequences=x_train_vec, padding=\"post\", dtype='float64') #tried with this size but I got erros fiting the model\n",
    "X_pad = pad_sequences(maxlen=29,sequences=x_train_vec, padding=\"post\", dtype='float64')"
   ]
  },
  {
   "cell_type": "code",
   "execution_count": 187,
   "id": "aea67da9",
   "metadata": {},
   "outputs": [
    {
     "data": {
      "text/plain": [
       "array([[0., 0., 0., ..., 0., 0., 0.],\n",
       "       [0., 0., 0., ..., 0., 0., 0.],\n",
       "       [0., 0., 0., ..., 0., 0., 0.],\n",
       "       ...,\n",
       "       [0., 0., 0., ..., 0., 0., 0.],\n",
       "       [0., 0., 0., ..., 0., 0., 0.],\n",
       "       [0., 0., 0., ..., 0., 0., 0.]])"
      ]
     },
     "execution_count": 187,
     "metadata": {},
     "output_type": "execute_result"
    }
   ],
   "source": [
    "X_pad[0][18:]"
   ]
  },
  {
   "cell_type": "code",
   "execution_count": 188,
   "id": "ebe6b6d7",
   "metadata": {},
   "outputs": [
    {
     "data": {
      "text/plain": [
       "TensorShape([9543, 29, 100])"
      ]
     },
     "execution_count": 188,
     "metadata": {},
     "output_type": "execute_result"
    }
   ],
   "source": [
    "#turn input into a tensor (another sort of array) for the model\n",
    "X_tf = tf.convert_to_tensor(X_pad, dtype='float32')\n",
    "X_tf.shape"
   ]
  },
  {
   "cell_type": "code",
   "execution_count": 189,
   "id": "9c10b5dd",
   "metadata": {},
   "outputs": [],
   "source": [
    "#Most turn output into one hot encoded matrix\n",
    "y_tf = tf.one_hot(y, depth=3)"
   ]
  },
  {
   "cell_type": "code",
   "execution_count": 190,
   "id": "bf06524e",
   "metadata": {},
   "outputs": [
    {
     "name": "stdout",
     "output_type": "stream",
     "text": [
      "Model: \"model_2\"\n",
      "_________________________________________________________________\n",
      " Layer (type)                Output Shape              Param #   \n",
      "=================================================================\n",
      " input_3 (InputLayer)        [(None, 29, 100)]         0         \n",
      "                                                                 \n",
      " masking_2 (Masking)         (None, 29, 100)           0         \n",
      "                                                                 \n",
      " bidirectional_2 (Bidirectio  (None, 8)                3360      \n",
      " nal)                                                            \n",
      "                                                                 \n",
      " dense_2 (Dense)             (None, 3)                 27        \n",
      "                                                                 \n",
      "=================================================================\n",
      "Total params: 3,387\n",
      "Trainable params: 3,387\n",
      "Non-trainable params: 0\n",
      "_________________________________________________________________\n"
     ]
    }
   ],
   "source": [
    "'''model input in the shape(number of words per doc, word embedding size)'''\n",
    "input_ = Input(shape=(max(train_df['word_count']), emb_size))\n",
    " \n",
    "'''mask layer to avoid model from considering padding vectors'''\n",
    "mask_layer = Masking(mask_value=0)\n",
    "mask = mask_layer(input_)\n",
    "\n",
    "'''BiLSTM layer'''\n",
    "lstm = Bidirectional(LSTM(units=4))(mask)\n",
    "\n",
    "'''activation layer'''\n",
    "act = Dense(3, activation='softmax')(lstm)\n",
    "\n",
    "'''model input and output'''\n",
    "model = Model(input_, act)\n",
    "\n",
    "'''model loss function and evaluation metrics'''\n",
    "model.compile(optimizer=\"adam\", loss=\"categorical_crossentropy\", metrics=[\"accuracy\"])\n",
    "model.summary()"
   ]
  },
  {
   "cell_type": "code",
   "execution_count": 191,
   "id": "55445962",
   "metadata": {},
   "outputs": [
    {
     "name": "stdout",
     "output_type": "stream",
     "text": [
      "Epoch 1/10\n",
      "247/247 [==============================] - 127s 513ms/step - loss: 0.8507 - accuracy: 0.6522 - val_loss: 1.0939 - val_accuracy: 0.4688\n",
      "Epoch 2/10\n",
      "247/247 [==============================] - 124s 502ms/step - loss: 0.6896 - accuracy: 0.7245 - val_loss: 1.1158 - val_accuracy: 0.5071\n",
      "Epoch 3/10\n",
      "247/247 [==============================] - 122s 496ms/step - loss: 0.6299 - accuracy: 0.7535 - val_loss: 1.1376 - val_accuracy: 0.5181\n",
      "Epoch 4/10\n",
      "247/247 [==============================] - 136s 553ms/step - loss: 0.5972 - accuracy: 0.7654 - val_loss: 1.1392 - val_accuracy: 0.5270\n",
      "Epoch 5/10\n",
      "247/247 [==============================] - 122s 493ms/step - loss: 0.5708 - accuracy: 0.7759 - val_loss: 1.1675 - val_accuracy: 0.5348\n",
      "Epoch 6/10\n",
      "247/247 [==============================] - 99s 401ms/step - loss: 0.5514 - accuracy: 0.7848 - val_loss: 1.1006 - val_accuracy: 0.5490\n",
      "Epoch 7/10\n",
      "247/247 [==============================] - 90s 364ms/step - loss: 0.5322 - accuracy: 0.7920 - val_loss: 1.1124 - val_accuracy: 0.5485\n",
      "Epoch 8/10\n",
      "247/247 [==============================] - 90s 363ms/step - loss: 0.5161 - accuracy: 0.7963 - val_loss: 1.1375 - val_accuracy: 0.5542\n",
      "Epoch 9/10\n",
      "247/247 [==============================] - 89s 361ms/step - loss: 0.5007 - accuracy: 0.8070 - val_loss: 1.1407 - val_accuracy: 0.5579\n",
      "Epoch 10/10\n",
      "247/247 [==============================] - 83s 334ms/step - loss: 0.4867 - accuracy: 0.8133 - val_loss: 1.0677 - val_accuracy: 0.5626\n"
     ]
    }
   ],
   "source": [
    "history = model.fit(X_tf, y_tf, batch_size=31, epochs=10, verbose=1, validation_split=0.20)\n",
    "#some times we kernel reset it gives an error because of the shape size. We had to change shape size first to 31, than to 29\n",
    "#we tried to improve our model. First we try batch_size=31 and after we raise the number to 50"
   ]
  },
  {
   "cell_type": "code",
   "execution_count": 192,
   "id": "208d2ba9",
   "metadata": {},
   "outputs": [
    {
     "data": {
      "image/png": "[encoded data removed]",
      "text/plain": [
       "<Figure size 1000x600 with 1 Axes>"
      ]
     },
     "metadata": {},
     "output_type": "display_data"
    }
   ],
   "source": [
    "import matplotlib.pyplot as plt\n",
    "plt.figure(figsize =(10, 6))\n",
    "plt.plot(history.history['accuracy'])\n",
    "plt.plot(history.history['val_accuracy'])\n",
    "plt.title('Model Accuracy')\n",
    "plt.ylabel('Accuracy')\n",
    "plt.xlabel('Epoch')\n",
    "plt.legend(['train', 'val'], loc='upper left')\n",
    "plt.show()"
   ]
  },
  {
   "cell_type": "code",
   "execution_count": 193,
   "id": "1fc89143",
   "metadata": {},
   "outputs": [],
   "source": [
    "X_test_pad = pad_sequences(maxlen=29,sequences=x_test_vec, padding=\"post\", dtype='float64')"
   ]
  },
  {
   "cell_type": "code",
   "execution_count": 194,
   "id": "44af5fc1",
   "metadata": {},
   "outputs": [],
   "source": [
    "#x_test = np.expand_dims(x_test,-1)\n",
    "x_test = tf.convert_to_tensor(X_test_pad, dtype='float32')"
   ]
  },
  {
   "cell_type": "code",
   "execution_count": 195,
   "id": "16ae1ad3",
   "metadata": {},
   "outputs": [
    {
     "data": {
      "text/plain": [
       "TensorShape([2388, 29, 100])"
      ]
     },
     "execution_count": 195,
     "metadata": {},
     "output_type": "execute_result"
    }
   ],
   "source": [
    "x_test.shape"
   ]
  },
  {
   "cell_type": "code",
   "execution_count": 196,
   "id": "1ceacc3c",
   "metadata": {},
   "outputs": [
    {
     "name": "stdout",
     "output_type": "stream",
     "text": [
      "75/75 [==============================] - 8s 108ms/step\n"
     ]
    }
   ],
   "source": [
    "pred_y = model.predict(x_test)"
   ]
  },
  {
   "cell_type": "code",
   "execution_count": 197,
   "id": "636378d9",
   "metadata": {},
   "outputs": [
    {
     "data": {
      "text/plain": [
       "array([[0.35453075, 0.26249188, 0.3829773 ],\n",
       "       [0.02105402, 0.00980856, 0.9691374 ],\n",
       "       [0.00978727, 0.01545587, 0.97475684],\n",
       "       [0.06214071, 0.02982799, 0.9080313 ],\n",
       "       [0.40497822, 0.1937279 , 0.40129402],\n",
       "       [0.20115434, 0.7371143 , 0.06173142],\n",
       "       [0.02863107, 0.00562383, 0.96574515],\n",
       "       [0.09033775, 0.0124154 , 0.8972467 ],\n",
       "       [0.22018777, 0.12679285, 0.6530195 ],\n",
       "       [0.01029521, 0.09384108, 0.89586365]], dtype=float32)"
      ]
     },
     "execution_count": 197,
     "metadata": {},
     "output_type": "execute_result"
    }
   ],
   "source": [
    "pred_y[0:10]"
   ]
  },
  {
   "cell_type": "code",
   "execution_count": 198,
   "id": "8dfec337",
   "metadata": {},
   "outputs": [],
   "source": [
    "y_pred = []\n",
    "for doc in pred_y:\n",
    "    y_pred.append(np.argmax(doc, axis=None, out=None))"
   ]
  },
  {
   "cell_type": "code",
   "execution_count": 199,
   "id": "7e3a2fcf",
   "metadata": {},
   "outputs": [
    {
     "data": {
      "text/plain": [
       "[2, 2, 2, 2, 0, 1, 2, 2, 2, 2]"
      ]
     },
     "execution_count": 199,
     "metadata": {},
     "output_type": "execute_result"
    }
   ],
   "source": [
    "y_pred[0:10]"
   ]
  },
  {
   "cell_type": "code",
   "execution_count": 200,
   "id": "1f6693fa",
   "metadata": {},
   "outputs": [
    {
     "data": {
      "text/plain": [
       "array([2, 2, 2, 2, 2, 2, 2, 2, 0, 2])"
      ]
     },
     "execution_count": 200,
     "metadata": {},
     "output_type": "execute_result"
    }
   ],
   "source": [
    "y_test[0:10]"
   ]
  },
  {
   "cell_type": "code",
   "execution_count": 201,
   "id": "d5ea788c",
   "metadata": {},
   "outputs": [],
   "source": [
    "#y_test = tf.one_hot(y_test, depth=2)"
   ]
  },
  {
   "cell_type": "code",
   "execution_count": 202,
   "id": "c22b6ded",
   "metadata": {},
   "outputs": [
    {
     "name": "stdout",
     "output_type": "stream",
     "text": [
      "              precision    recall  f1-score   support\n",
      "\n",
      "     Bearish       0.23      0.35      0.28       165\n",
      "     Bullish       0.56      0.41      0.48       483\n",
      "     Neutral       0.84      0.86      0.85      1740\n",
      "\n",
      "    accuracy                           0.73      2388\n",
      "   macro avg       0.54      0.54      0.53      2388\n",
      "weighted avg       0.74      0.73      0.73      2388\n",
      "\n"
     ]
    }
   ],
   "source": [
    "print(classification_report(y_test, y_pred, target_names = labels.keys()))"
   ]
  }
 ],
 "metadata": {
  "kernelspec": {
   "display_name": "Python 3 (ipykernel)",
   "language": "python",
   "name": "python3"
  },
  "language_info": {
   "codemirror_mode": {
    "name": "ipython",
    "version": 3
   },
   "file_extension": ".py",
   "mimetype": "text/x-python",
   "name": "python",
   "nbconvert_exporter": "python",
   "pygments_lexer": "ipython3",
   "version": "3.11.2"
  }
 },
 "nbformat": 4,
 "nbformat_minor": 5
}
