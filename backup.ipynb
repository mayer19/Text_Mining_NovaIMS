{
 "cells": [
  {
   "cell_type": "code",
   "execution_count": 1,
   "id": "f0299177",
   "metadata": {},
   "outputs": [],
   "source": [
    "#import libraries\n",
    "import pandas as pd\n",
    "import numpy as np\n",
    "import matplotlib.pyplot as plt\n",
    "import nltk\n",
    "from nltk.tokenize import word_tokenize\n",
    "from sklearn.feature_extraction.text import CountVectorizer\n",
    "from sklearn.neighbors import KNeighborsClassifier\n",
    "from sklearn.metrics import classification_report\n",
    "from sklearn.metrics import confusion_matrix\n",
    "from sklearn.feature_extraction.text import TfidfVectorizer\n",
    "from sklearn.neural_network import MLPClassifier\n",
    "from sklearn.model_selection import train_test_split\n",
    "import numpy as np\n",
    "import string\n",
    "import re\n",
    "import gensim.downloader\n",
    "from nltk.corpus import stopwords\n",
    "from nltk.stem import SnowballStemmer\n",
    "from nltk.stem.wordnet import WordNetLemmatizer\n",
    "from sklearn.naive_bayes import GaussianNB"
   ]
  },
  {
   "cell_type": "code",
   "execution_count": 2,
   "id": "7af881b7",
   "metadata": {},
   "outputs": [],
   "source": [
    "#import datasets\n",
    "train_df = pd.read_csv(\"Project Data/train.csv\")\n",
    "test_df = pd.read_csv(\"Project Data/test.csv\")"
   ]
  },
  {
   "cell_type": "code",
   "execution_count": 3,
   "id": "bb996ba2",
   "metadata": {},
   "outputs": [
    {
     "data": {
      "text/html": [
       "<div>\n",
       "<style scoped>\n",
       "    .dataframe tbody tr th:only-of-type {\n",
       "        vertical-align: middle;\n",
       "    }\n",
       "\n",
       "    .dataframe tbody tr th {\n",
       "        vertical-align: top;\n",
       "    }\n",
       "\n",
       "    .dataframe thead th {\n",
       "        text-align: right;\n",
       "    }\n",
       "</style>\n",
       "<table border=\"1\" class=\"dataframe\">\n",
       "  <thead>\n",
       "    <tr style=\"text-align: right;\">\n",
       "      <th></th>\n",
       "      <th>text</th>\n",
       "      <th>label</th>\n",
       "    </tr>\n",
       "  </thead>\n",
       "  <tbody>\n",
       "    <tr>\n",
       "      <th>9533</th>\n",
       "      <td>Stocks making the biggest moves midday: Tesla,...</td>\n",
       "      <td>2</td>\n",
       "    </tr>\n",
       "    <tr>\n",
       "      <th>9534</th>\n",
       "      <td>Stocks making the biggest moves midday: Tesla,...</td>\n",
       "      <td>2</td>\n",
       "    </tr>\n",
       "    <tr>\n",
       "      <th>9535</th>\n",
       "      <td>Stocks making the biggest moves midday: Uber, ...</td>\n",
       "      <td>2</td>\n",
       "    </tr>\n",
       "    <tr>\n",
       "      <th>9536</th>\n",
       "      <td>Stocks making the biggest moves premarket: Tar...</td>\n",
       "      <td>2</td>\n",
       "    </tr>\n",
       "    <tr>\n",
       "      <th>9537</th>\n",
       "      <td>Stocks making the biggest moves premarket: TD ...</td>\n",
       "      <td>2</td>\n",
       "    </tr>\n",
       "    <tr>\n",
       "      <th>9538</th>\n",
       "      <td>The Week's Gainers and Losers on the Stoxx Eur...</td>\n",
       "      <td>2</td>\n",
       "    </tr>\n",
       "    <tr>\n",
       "      <th>9539</th>\n",
       "      <td>Tupperware Brands among consumer gainers; Unil...</td>\n",
       "      <td>2</td>\n",
       "    </tr>\n",
       "    <tr>\n",
       "      <th>9540</th>\n",
       "      <td>vTv Therapeutics leads healthcare gainers; Myo...</td>\n",
       "      <td>2</td>\n",
       "    </tr>\n",
       "    <tr>\n",
       "      <th>9541</th>\n",
       "      <td>WORK, XPO, PYX and AMKR among after hour movers</td>\n",
       "      <td>2</td>\n",
       "    </tr>\n",
       "    <tr>\n",
       "      <th>9542</th>\n",
       "      <td>YNDX, I, QD and OESX among tech movers</td>\n",
       "      <td>2</td>\n",
       "    </tr>\n",
       "  </tbody>\n",
       "</table>\n",
       "</div>"
      ],
      "text/plain": [
       "                                                   text  label\n",
       "9533  Stocks making the biggest moves midday: Tesla,...      2\n",
       "9534  Stocks making the biggest moves midday: Tesla,...      2\n",
       "9535  Stocks making the biggest moves midday: Uber, ...      2\n",
       "9536  Stocks making the biggest moves premarket: Tar...      2\n",
       "9537  Stocks making the biggest moves premarket: TD ...      2\n",
       "9538  The Week's Gainers and Losers on the Stoxx Eur...      2\n",
       "9539  Tupperware Brands among consumer gainers; Unil...      2\n",
       "9540  vTv Therapeutics leads healthcare gainers; Myo...      2\n",
       "9541    WORK, XPO, PYX and AMKR among after hour movers      2\n",
       "9542             YNDX, I, QD and OESX among tech movers      2"
      ]
     },
     "execution_count": 3,
     "metadata": {},
     "output_type": "execute_result"
    }
   ],
   "source": [
    "#visualize train data\n",
    "train_df.tail(10)"
   ]
  },
  {
   "cell_type": "code",
   "execution_count": 4,
   "id": "34c89b3e",
   "metadata": {},
   "outputs": [
    {
     "data": {
      "text/html": [
       "<div>\n",
       "<style scoped>\n",
       "    .dataframe tbody tr th:only-of-type {\n",
       "        vertical-align: middle;\n",
       "    }\n",
       "\n",
       "    .dataframe tbody tr th {\n",
       "        vertical-align: top;\n",
       "    }\n",
       "\n",
       "    .dataframe thead th {\n",
       "        text-align: right;\n",
       "    }\n",
       "</style>\n",
       "<table border=\"1\" class=\"dataframe\">\n",
       "  <thead>\n",
       "    <tr style=\"text-align: right;\">\n",
       "      <th></th>\n",
       "      <th>id</th>\n",
       "      <th>text</th>\n",
       "    </tr>\n",
       "  </thead>\n",
       "  <tbody>\n",
       "    <tr>\n",
       "      <th>0</th>\n",
       "      <td>0</td>\n",
       "      <td>ETF assets to surge tenfold in 10 years to $50...</td>\n",
       "    </tr>\n",
       "    <tr>\n",
       "      <th>1</th>\n",
       "      <td>1</td>\n",
       "      <td>Here’s What Hedge Funds Think Evolution Petrol...</td>\n",
       "    </tr>\n",
       "    <tr>\n",
       "      <th>2</th>\n",
       "      <td>2</td>\n",
       "      <td>$PVH - Phillips-Van Heusen Q3 2020 Earnings Pr...</td>\n",
       "    </tr>\n",
       "    <tr>\n",
       "      <th>3</th>\n",
       "      <td>3</td>\n",
       "      <td>China is in the process of waiving retaliatory...</td>\n",
       "    </tr>\n",
       "    <tr>\n",
       "      <th>4</th>\n",
       "      <td>4</td>\n",
       "      <td>Highlight: “When growth is scarce, investors s...</td>\n",
       "    </tr>\n",
       "    <tr>\n",
       "      <th>5</th>\n",
       "      <td>5</td>\n",
       "      <td>Marvell Technology (MRVL) Gains As Market Dips...</td>\n",
       "    </tr>\n",
       "    <tr>\n",
       "      <th>6</th>\n",
       "      <td>6</td>\n",
       "      <td>UPDATE 1-Italian airline Alitalia's rescue in ...</td>\n",
       "    </tr>\n",
       "    <tr>\n",
       "      <th>7</th>\n",
       "      <td>7</td>\n",
       "      <td>why macro funds are shutting down left and rig...</td>\n",
       "    </tr>\n",
       "    <tr>\n",
       "      <th>8</th>\n",
       "      <td>8</td>\n",
       "      <td>Uber's arrival caused binge drinking to increa...</td>\n",
       "    </tr>\n",
       "    <tr>\n",
       "      <th>9</th>\n",
       "      <td>9</td>\n",
       "      <td>New Dungeons &amp; Dragons game announced</td>\n",
       "    </tr>\n",
       "  </tbody>\n",
       "</table>\n",
       "</div>"
      ],
      "text/plain": [
       "   id                                               text\n",
       "0   0  ETF assets to surge tenfold in 10 years to $50...\n",
       "1   1  Here’s What Hedge Funds Think Evolution Petrol...\n",
       "2   2  $PVH - Phillips-Van Heusen Q3 2020 Earnings Pr...\n",
       "3   3  China is in the process of waiving retaliatory...\n",
       "4   4  Highlight: “When growth is scarce, investors s...\n",
       "5   5  Marvell Technology (MRVL) Gains As Market Dips...\n",
       "6   6  UPDATE 1-Italian airline Alitalia's rescue in ...\n",
       "7   7  why macro funds are shutting down left and rig...\n",
       "8   8  Uber's arrival caused binge drinking to increa...\n",
       "9   9              New Dungeons & Dragons game announced"
      ]
     },
     "execution_count": 4,
     "metadata": {},
     "output_type": "execute_result"
    }
   ],
   "source": [
    "#visualize test data\n",
    "test_df.head(10)"
   ]
  },
  {
   "cell_type": "markdown",
   "id": "8471b1af",
   "metadata": {},
   "source": [
    "### Exploratory Analysis "
   ]
  },
  {
   "cell_type": "code",
   "execution_count": 5,
   "id": "da6e0bfe",
   "metadata": {},
   "outputs": [
    {
     "name": "stdout",
     "output_type": "stream",
     "text": [
      "Train data columns: Index(['text', 'label'], dtype='object')\n",
      "Test data columns: Index(['id', 'text'], dtype='object')\n"
     ]
    }
   ],
   "source": [
    "print(f\"Train data columns: {train_df.columns}\")\n",
    "print(f\"Test data columns: {test_df.columns}\")"
   ]
  },
  {
   "cell_type": "code",
   "execution_count": 6,
   "id": "f54afa45",
   "metadata": {},
   "outputs": [
    {
     "data": {
      "text/plain": [
       "count                                                  9543\n",
       "unique                                                 9543\n",
       "top       $BYND - JPMorgan reels in expectations on Beyo...\n",
       "freq                                                      1\n",
       "Name: text, dtype: object"
      ]
     },
     "execution_count": 6,
     "metadata": {},
     "output_type": "execute_result"
    }
   ],
   "source": [
    "train_df['text'].describe()"
   ]
  },
  {
   "cell_type": "code",
   "execution_count": 7,
   "id": "0bd45f3c",
   "metadata": {},
   "outputs": [
    {
     "data": {
      "text/plain": [
       "0"
      ]
     },
     "execution_count": 7,
     "metadata": {},
     "output_type": "execute_result"
    }
   ],
   "source": [
    "#Verify if any value is null\n",
    "train_df['text'].isna().sum()"
   ]
  },
  {
   "cell_type": "code",
   "execution_count": 8,
   "id": "aa2528aa",
   "metadata": {},
   "outputs": [
    {
     "data": {
      "text/html": [
       "<div>\n",
       "<style scoped>\n",
       "    .dataframe tbody tr th:only-of-type {\n",
       "        vertical-align: middle;\n",
       "    }\n",
       "\n",
       "    .dataframe tbody tr th {\n",
       "        vertical-align: top;\n",
       "    }\n",
       "\n",
       "    .dataframe thead th {\n",
       "        text-align: right;\n",
       "    }\n",
       "</style>\n",
       "<table border=\"1\" class=\"dataframe\">\n",
       "  <thead>\n",
       "    <tr style=\"text-align: right;\">\n",
       "      <th></th>\n",
       "      <th>text</th>\n",
       "      <th>label</th>\n",
       "      <th>inicial_word_count</th>\n",
       "    </tr>\n",
       "  </thead>\n",
       "  <tbody>\n",
       "    <tr>\n",
       "      <th>0</th>\n",
       "      <td>$BYND - JPMorgan reels in expectations on Beyo...</td>\n",
       "      <td>0</td>\n",
       "      <td>10</td>\n",
       "    </tr>\n",
       "    <tr>\n",
       "      <th>1</th>\n",
       "      <td>$CCL $RCL - Nomura points to bookings weakness...</td>\n",
       "      <td>0</td>\n",
       "      <td>14</td>\n",
       "    </tr>\n",
       "    <tr>\n",
       "      <th>2</th>\n",
       "      <td>$CX - Cemex cut at Credit Suisse, J.P. Morgan ...</td>\n",
       "      <td>0</td>\n",
       "      <td>14</td>\n",
       "    </tr>\n",
       "    <tr>\n",
       "      <th>3</th>\n",
       "      <td>$ESS: BTIG Research cuts to Neutral https://t....</td>\n",
       "      <td>0</td>\n",
       "      <td>7</td>\n",
       "    </tr>\n",
       "    <tr>\n",
       "      <th>4</th>\n",
       "      <td>$FNKO - Funko slides after Piper Jaffray PT cu...</td>\n",
       "      <td>0</td>\n",
       "      <td>10</td>\n",
       "    </tr>\n",
       "    <tr>\n",
       "      <th>...</th>\n",
       "      <td>...</td>\n",
       "      <td>...</td>\n",
       "      <td>...</td>\n",
       "    </tr>\n",
       "    <tr>\n",
       "      <th>9538</th>\n",
       "      <td>The Week's Gainers and Losers on the Stoxx Eur...</td>\n",
       "      <td>2</td>\n",
       "      <td>16</td>\n",
       "    </tr>\n",
       "    <tr>\n",
       "      <th>9539</th>\n",
       "      <td>Tupperware Brands among consumer gainers; Unil...</td>\n",
       "      <td>2</td>\n",
       "      <td>9</td>\n",
       "    </tr>\n",
       "    <tr>\n",
       "      <th>9540</th>\n",
       "      <td>vTv Therapeutics leads healthcare gainers; Myo...</td>\n",
       "      <td>2</td>\n",
       "      <td>11</td>\n",
       "    </tr>\n",
       "    <tr>\n",
       "      <th>9541</th>\n",
       "      <td>WORK, XPO, PYX and AMKR among after hour movers</td>\n",
       "      <td>2</td>\n",
       "      <td>9</td>\n",
       "    </tr>\n",
       "    <tr>\n",
       "      <th>9542</th>\n",
       "      <td>YNDX, I, QD and OESX among tech movers</td>\n",
       "      <td>2</td>\n",
       "      <td>8</td>\n",
       "    </tr>\n",
       "  </tbody>\n",
       "</table>\n",
       "<p>9543 rows × 3 columns</p>\n",
       "</div>"
      ],
      "text/plain": [
       "                                                   text  label  \\\n",
       "0     $BYND - JPMorgan reels in expectations on Beyo...      0   \n",
       "1     $CCL $RCL - Nomura points to bookings weakness...      0   \n",
       "2     $CX - Cemex cut at Credit Suisse, J.P. Morgan ...      0   \n",
       "3     $ESS: BTIG Research cuts to Neutral https://t....      0   \n",
       "4     $FNKO - Funko slides after Piper Jaffray PT cu...      0   \n",
       "...                                                 ...    ...   \n",
       "9538  The Week's Gainers and Losers on the Stoxx Eur...      2   \n",
       "9539  Tupperware Brands among consumer gainers; Unil...      2   \n",
       "9540  vTv Therapeutics leads healthcare gainers; Myo...      2   \n",
       "9541    WORK, XPO, PYX and AMKR among after hour movers      2   \n",
       "9542             YNDX, I, QD and OESX among tech movers      2   \n",
       "\n",
       "      inicial_word_count  \n",
       "0                     10  \n",
       "1                     14  \n",
       "2                     14  \n",
       "3                      7  \n",
       "4                     10  \n",
       "...                  ...  \n",
       "9538                  16  \n",
       "9539                   9  \n",
       "9540                  11  \n",
       "9541                   9  \n",
       "9542                   8  \n",
       "\n",
       "[9543 rows x 3 columns]"
      ]
     },
     "execution_count": 8,
     "metadata": {},
     "output_type": "execute_result"
    }
   ],
   "source": [
    "#WORD COUNT\n",
    "\n",
    "#add a new column to train_df with the number os words\n",
    "train_df['inicial_word_count'] = train_df['text'].apply(lambda x: len(str(x).split(\" \")))\n",
    "train_df"
   ]
  },
  {
   "cell_type": "code",
   "execution_count": 9,
   "id": "dc2f6285",
   "metadata": {},
   "outputs": [
    {
     "data": {
      "text/plain": [
       "count    9543.000000\n",
       "mean       12.168081\n",
       "std         4.651245\n",
       "min         1.000000\n",
       "25%         9.000000\n",
       "50%        11.000000\n",
       "75%        15.000000\n",
       "max        31.000000\n",
       "Name: inicial_word_count, dtype: float64"
      ]
     },
     "execution_count": 9,
     "metadata": {},
     "output_type": "execute_result"
    }
   ],
   "source": [
    "train_df['inicial_word_count'].describe()"
   ]
  },
  {
   "cell_type": "code",
   "execution_count": 10,
   "id": "85687f8e",
   "metadata": {},
   "outputs": [
    {
     "name": "stdout",
     "output_type": "stream",
     "text": [
      "Train data column word_count MAXIMUM: 31\n",
      "Train data column word_count MINIMUM: 1\n",
      "Train data column word_count MEAN: 12.168081316147962\n",
      "Train data column word_count MEDIAN: 11.0\n",
      "Train data column word_count MODE: 0    10\n",
      "Name: inicial_word_count, dtype: int64\n",
      "Train data column word_count SQARE ROOT: 4.651245064570518\n",
      "Train data column word_count UNIQUE: [10 14  7  6 12 11  9  5 16  8 13 20 22 17  4 18 15 19 25 23 21 24 26  1\n",
      "  2  3 27 29 31]\n"
     ]
    }
   ],
   "source": [
    "#Analysis of column: word_count\n",
    "print(f\"Train data column word_count MAXIMUM: {train_df['inicial_word_count'].max()}\")\n",
    "print(f\"Train data column word_count MINIMUM: {train_df['inicial_word_count'].min()}\")\n",
    "print(f\"Train data column word_count MEAN: {train_df['inicial_word_count'].mean()}\")\n",
    "print(f\"Train data column word_count MEDIAN: {train_df['inicial_word_count'].median()}\")\n",
    "print(f\"Train data column word_count MODE: {train_df['inicial_word_count'].mode()}\")\n",
    "print(f\"Train data column word_count SQARE ROOT: {train_df['inicial_word_count'].std()}\")\n",
    "print(f\"Train data column word_count UNIQUE: {train_df['inicial_word_count'].unique()}\")"
   ]
  },
  {
   "cell_type": "code",
   "execution_count": 11,
   "id": "2e93fa4b",
   "metadata": {},
   "outputs": [
    {
     "data": {
      "image/png": "[encoded data removed]",
      "text/plain": [
       "<Figure size 640x480 with 1 Axes>"
      ]
     },
     "metadata": {},
     "output_type": "display_data"
    }
   ],
   "source": [
    "plt.hist(train_df['inicial_word_count'])\n",
    "plt.title('Distribution of Word Count')\n",
    "plt.xlabel('Word Count')\n",
    "plt.ylabel('Frequency')\n",
    "plt.show()"
   ]
  },
  {
   "cell_type": "code",
   "execution_count": 12,
   "id": "9bfba353",
   "metadata": {},
   "outputs": [
    {
     "data": {
      "text/plain": [
       "<AxesSubplot: >"
      ]
     },
     "execution_count": 12,
     "metadata": {},
     "output_type": "execute_result"
    },
    {
     "data": {
      "image/png": "[encoded data removed]",
      "text/plain": [
       "<Figure size 640x480 with 1 Axes>"
      ]
     },
     "metadata": {},
     "output_type": "display_data"
    }
   ],
   "source": [
    "train_df.boxplot('inicial_word_count')\n",
    "#we are not removing any outlier because every tweet is independent"
   ]
  },
  {
   "cell_type": "code",
   "execution_count": 13,
   "id": "fbcf0cc8",
   "metadata": {},
   "outputs": [
    {
     "data": {
      "text/plain": [
       "['$BYND',\n",
       " '-',\n",
       " 'JPMorgan',\n",
       " 'reels',\n",
       " 'in',\n",
       " 'expectations',\n",
       " 'on',\n",
       " 'Beyond',\n",
       " 'Meat',\n",
       " 'https://t.co/bd0xbFGjkT']"
      ]
     },
     "execution_count": 13,
     "metadata": {},
     "output_type": "execute_result"
    }
   ],
   "source": [
    "# Frequency of all words\n",
    "all_words = ' '.join(train_df['text']).split()\n",
    "all_words[:10]"
   ]
  },
  {
   "cell_type": "code",
   "execution_count": 14,
   "id": "936ab9b5",
   "metadata": {},
   "outputs": [],
   "source": [
    "#Create a DataFrame (Series) of all words and their frequencies\n",
    "wordFreq = pd.Series(all_words).value_counts()"
   ]
  },
  {
   "cell_type": "code",
   "execution_count": 15,
   "id": "7af6fc7c",
   "metadata": {},
   "outputs": [
    {
     "data": {
      "text/plain": [
       "to     2332\n",
       "the    1820\n",
       "of     1464\n",
       "-      1390\n",
       "in     1361\n",
       "on     1136\n",
       "for    1032\n",
       "a       970\n",
       "and     898\n",
       "The     663\n",
       "at      539\n",
       "as      528\n",
       "is      526\n",
       "by      414\n",
       "up      388\n",
       "dtype: int64"
      ]
     },
     "execution_count": 15,
     "metadata": {},
     "output_type": "execute_result"
    }
   ],
   "source": [
    "# List of me most common words in all tweets\n",
    "wordFreq.sort_values(ascending=False)[0:15]"
   ]
  },
  {
   "cell_type": "code",
   "execution_count": 16,
   "id": "506befdd",
   "metadata": {},
   "outputs": [
    {
     "data": {
      "text/plain": [
       "Index(['to', 'the', 'of', '-', 'in', 'on', 'for', 'a', 'and', 'The', 'at',\n",
       "       'as', 'is', 'by', 'up'],\n",
       "      dtype='object')"
      ]
     },
     "execution_count": 16,
     "metadata": {},
     "output_type": "execute_result"
    }
   ],
   "source": [
    "wordFreq.index[0:15]"
   ]
  },
  {
   "cell_type": "code",
   "execution_count": 17,
   "id": "35d61caa",
   "metadata": {},
   "outputs": [
    {
     "data": {
      "image/png": "[encoded data removed]",
      "text/plain": [
       "<Figure size 640x480 with 1 Axes>"
      ]
     },
     "metadata": {},
     "output_type": "display_data"
    }
   ],
   "source": [
    "x_labels = wordFreq.index[0:15]\n",
    "values = wordFreq[:15]\n",
    "plt.bar(x_labels, values, align='center', alpha=0.5)\n",
    "#plt.xticks(y_pos, x_labels)\n",
    "plt.ylabel('Frequencies')\n",
    "plt.title('Most Common Words')\n",
    "plt.xticks(rotation=90)\n",
    "plt.show()"
   ]
  },
  {
   "cell_type": "markdown",
   "id": "6ab8edc8",
   "metadata": {},
   "source": [
    "### Data Preprocessing - Exemple 1: Stop Words"
   ]
  },
  {
   "cell_type": "code",
   "execution_count": 18,
   "id": "261e7828",
   "metadata": {},
   "outputs": [
    {
     "data": {
      "text/plain": [
       "['|', '$', '.', '@', '/']"
      ]
     },
     "execution_count": 18,
     "metadata": {},
     "output_type": "execute_result"
    }
   ],
   "source": [
    "#Remove Punctuation\n",
    "punctuation = list(set(string.punctuation))\n",
    "punctuation[:5]"
   ]
  },
  {
   "cell_type": "code",
   "execution_count": 19,
   "id": "0a92b5a0",
   "metadata": {},
   "outputs": [
    {
     "data": {
      "text/plain": [
       "['$bynd',\n",
       " 'jpmorgan',\n",
       " 'reels',\n",
       " 'in',\n",
       " 'expectations',\n",
       " 'on',\n",
       " 'beyond',\n",
       " 'meat',\n",
       " 'https://t.co/bd0xbfgjkt',\n",
       " '$ccl']"
      ]
     },
     "execution_count": 19,
     "metadata": {},
     "output_type": "execute_result"
    }
   ],
   "source": [
    "all_words_noPunctuation = [word.lower() for word in all_words if word not in punctuation]\n",
    "all_words_noPunctuation[:10]"
   ]
  },
  {
   "cell_type": "code",
   "execution_count": 20,
   "id": "876cfd6e",
   "metadata": {
    "scrolled": true
   },
   "outputs": [
    {
     "name": "stderr",
     "output_type": "stream",
     "text": [
      "[nltk_data] Downloading package stopwords to /home/bm/nltk_data...\n",
      "[nltk_data]   Package stopwords is already up-to-date!\n"
     ]
    },
    {
     "data": {
      "text/plain": [
       "True"
      ]
     },
     "execution_count": 20,
     "metadata": {},
     "output_type": "execute_result"
    }
   ],
   "source": [
    "nltk.download('stopwords')"
   ]
  },
  {
   "cell_type": "code",
   "execution_count": 21,
   "id": "2b08d6ab",
   "metadata": {},
   "outputs": [],
   "source": [
    "stop = set(stopwords.words('english'))"
   ]
  },
  {
   "cell_type": "code",
   "execution_count": 22,
   "id": "a159238e",
   "metadata": {},
   "outputs": [
    {
     "data": {
      "text/plain": [
       "['$bynd',\n",
       " 'jpmorgan',\n",
       " 'reels',\n",
       " 'expectations',\n",
       " 'beyond',\n",
       " 'meat',\n",
       " 'https://t.co/bd0xbfgjkt',\n",
       " '$ccl',\n",
       " '$rcl',\n",
       " 'nomura']"
      ]
     },
     "execution_count": 22,
     "metadata": {},
     "output_type": "execute_result"
    }
   ],
   "source": [
    "#creation of variable all_words_clean, this is a text with no punctuations and no stop words\n",
    "all_words_clean = [word for word in all_words_noPunctuation if word not in stop]\n",
    "all_words_clean[:10]"
   ]
  },
  {
   "cell_type": "code",
   "execution_count": 23,
   "id": "0e4b0671",
   "metadata": {},
   "outputs": [
    {
     "data": {
      "text/plain": [
       "stock              544\n",
       "new                406\n",
       "results            352\n",
       "u.s.               341\n",
       "says               332\n",
       "earnings           321\n",
       "#stock             316\n",
       "market             296\n",
       "#marketscreener    285\n",
       "price              273\n",
       "dtype: int64"
      ]
     },
     "execution_count": 23,
     "metadata": {},
     "output_type": "execute_result"
    }
   ],
   "source": [
    "freq_cleanWords = pd.Series(all_words_clean).value_counts()\n",
    "freq_cleanWords.sort_values(ascending=False)[0:10] # most frequent word after cleaning"
   ]
  },
  {
   "cell_type": "code",
   "execution_count": 24,
   "id": "ba2dc0ec",
   "metadata": {},
   "outputs": [
    {
     "data": {
      "text/plain": [
       "'$CCL $RCL - Nomura points to bookings weakness at Carnival and Royal Caribbean https://t.co/yGjpT2ReD3'"
      ]
     },
     "execution_count": 24,
     "metadata": {},
     "output_type": "execute_result"
    }
   ],
   "source": [
    "#Compare sentence before remove links\n",
    "train_df['text'][1]"
   ]
  },
  {
   "cell_type": "code",
   "execution_count": 25,
   "id": "1d3f66a9",
   "metadata": {},
   "outputs": [
    {
     "name": "stdout",
     "output_type": "stream",
     "text": [
      "['$RCL', '-', 'Nomura', 'points', 'to', 'bookings', 'weakness', 'at', 'Carnival', 'and', 'Royal', 'Caribbean']\n"
     ]
    }
   ],
   "source": [
    "#Create new column and loop to remove links from data\n",
    "train_df['text_splited'] = train_df['text'].str.split(' ')\n",
    "loop_count = 0\n",
    "for line in train_df['text_splited']:\n",
    "    for word in line:\n",
    "        if \"http\" in word: #remove links\n",
    "            train_df['text_splited'][loop_count].remove(word)\n",
    "        #elif \"$\" in word: #remove stock ticker\n",
    "        elif re.search(r'\\$[a-zA-Z]+', word): #remove $ followed by letters\n",
    "            train_df['text_splited'][loop_count].remove(word)\n",
    "        else:\n",
    "            continue\n",
    "    loop_count += 1\n",
    "print(train_df['text_splited'][1])"
   ]
  },
  {
   "cell_type": "code",
   "execution_count": 26,
   "id": "8fa62297",
   "metadata": {},
   "outputs": [
    {
     "name": "stdout",
     "output_type": "stream",
     "text": [
      "['-', 'Nomura', 'points', 'to', 'bookings', 'weakness', 'at', 'Carnival', 'and', 'Royal', 'Caribbean']\n"
     ]
    }
   ],
   "source": [
    "#As we can see some tickers were not removed because setences had more than one ticker. So we looped again to remove\n",
    "loop_count = 0\n",
    "for line in train_df['text_splited']:\n",
    "    for word in line:\n",
    "        if re.search(r'\\$[a-zA-Z]+', word): #remove $ followed by letters\n",
    "            train_df['text_splited'][loop_count].remove(word)\n",
    "    loop_count += 1\n",
    "print(train_df['text_splited'][1])"
   ]
  },
  {
   "cell_type": "code",
   "execution_count": 27,
   "id": "0749f4cd",
   "metadata": {},
   "outputs": [],
   "source": [
    "#join all words again\n",
    "train_df['text_splited'] = train_df['text_splited'].str.join(' ')"
   ]
  },
  {
   "cell_type": "code",
   "execution_count": 28,
   "id": "05cf6335",
   "metadata": {},
   "outputs": [
    {
     "data": {
      "text/plain": [
       "0         - JPMorgan reels in expectations on Beyond Meat\n",
       "1       - Nomura points to bookings weakness at Carniv...\n",
       "2       - Cemex cut at Credit Suisse, J.P. Morgan on w...\n",
       "3                           BTIG Research cuts to Neutral\n",
       "4               - Funko slides after Piper Jaffray PT cut\n",
       "                              ...                        \n",
       "9538    The Week's Gainers and Losers on the Stoxx Eur...\n",
       "9539    Tupperware Brands among consumer gainers; Unil...\n",
       "9540    vTv Therapeutics leads healthcare gainers; Myo...\n",
       "9541      WORK, XPO, PYX and AMKR among after hour movers\n",
       "9542               YNDX, I, QD and OESX among tech movers\n",
       "Name: text_splited, Length: 9543, dtype: object"
      ]
     },
     "execution_count": 28,
     "metadata": {},
     "output_type": "execute_result"
    }
   ],
   "source": [
    "train_df['text_splited']"
   ]
  },
  {
   "cell_type": "code",
   "execution_count": 29,
   "id": "72ec6d80",
   "metadata": {},
   "outputs": [
    {
     "data": {
      "text/plain": [
       "Index(['text_backup', 'label', 'inicial_word_count', 'text'], dtype='object')"
      ]
     },
     "execution_count": 29,
     "metadata": {},
     "output_type": "execute_result"
    }
   ],
   "source": [
    "#rename columns\n",
    "train_df.rename(columns={'text': 'text_backup'}, inplace=True)\n",
    "train_df.rename(columns={'text_splited': 'text'}, inplace=True)\n",
    "train_df.columns"
   ]
  },
  {
   "cell_type": "code",
   "execution_count": 30,
   "id": "1760aaee",
   "metadata": {},
   "outputs": [
    {
     "data": {
      "text/plain": [
       "str"
      ]
     },
     "execution_count": 30,
     "metadata": {},
     "output_type": "execute_result"
    }
   ],
   "source": [
    "#add a new column to train_df with the number of words\n",
    "train_df['word_count'] = train_df['text'].apply(lambda x: len(str(x).split(\" \")))\n",
    "type(train_df['text'][0]) #check if the data type is the same of before removing links"
   ]
  },
  {
   "cell_type": "code",
   "execution_count": 31,
   "id": "c35a759f",
   "metadata": {},
   "outputs": [],
   "source": [
    "X_train, X_test, y_train, y_test = train_test_split(train_df['text'], train_df['label'], test_size=0.20, random_state=4)"
   ]
  },
  {
   "cell_type": "code",
   "execution_count": 32,
   "id": "f9afb11c",
   "metadata": {},
   "outputs": [
    {
     "data": {
      "text/plain": [
       "(7634, 1909, 7634, 1909)"
      ]
     },
     "execution_count": 32,
     "metadata": {},
     "output_type": "execute_result"
    }
   ],
   "source": [
    "len(X_train), len(X_test), len(y_train), len(y_test) #sizes are correct"
   ]
  },
  {
   "cell_type": "code",
   "execution_count": 33,
   "id": "22774b58",
   "metadata": {},
   "outputs": [],
   "source": [
    "stop = set(stopwords.words('english'))\n",
    "stemmer = SnowballStemmer('english')\n",
    "lemma = WordNetLemmatizer()"
   ]
  },
  {
   "cell_type": "code",
   "execution_count": 34,
   "id": "500f3767",
   "metadata": {},
   "outputs": [],
   "source": [
    "from tqdm import tqdm\n",
    "def clean(text_list):\n",
    "    \n",
    "    updates = []\n",
    "    \n",
    "    for j in tqdm(text_list):\n",
    "        \n",
    "        text = j\n",
    "        \n",
    "        #LOWERCASE TEXT\n",
    "        text = text.lower()\n",
    "        \n",
    "        #REMOVE NUMERICAL DATA and PUNCTUATION\n",
    "        text = re.sub(\"[^a-zA-Z]\",\" \", text )\n",
    "        \n",
    "        #REMOVE STOPWORDS\n",
    "        text = \" \".join([word for word in text.split() if word not in stop])\n",
    "        \n",
    "        #Lemmatize\n",
    "        text = \" \".join(lemma.lemmatize(word) for word in text.split())\n",
    "            \n",
    "        updates.append(text)\n",
    "        \n",
    "    return updates"
   ]
  },
  {
   "cell_type": "markdown",
   "id": "73a29c3f",
   "metadata": {},
   "source": [
    "### Train test split on train dataset"
   ]
  },
  {
   "cell_type": "code",
   "execution_count": 35,
   "id": "f1c4142e",
   "metadata": {},
   "outputs": [
    {
     "name": "stderr",
     "output_type": "stream",
     "text": [
      "100%|█████████████████████████████████████| 7634/7634 [00:01<00:00, 5353.29it/s]\n"
     ]
    }
   ],
   "source": [
    "X_train_clean = clean(X_train)"
   ]
  },
  {
   "cell_type": "code",
   "execution_count": 36,
   "id": "b8a90f79",
   "metadata": {},
   "outputs": [
    {
     "name": "stderr",
     "output_type": "stream",
     "text": [
      "100%|████████████████████████████████████| 1909/1909 [00:00<00:00, 19150.61it/s]\n"
     ]
    }
   ],
   "source": [
    "X_test_clean = clean(X_test)"
   ]
  },
  {
   "cell_type": "markdown",
   "id": "d5269a32",
   "metadata": {},
   "source": [
    "### TF-IDF"
   ]
  },
  {
   "cell_type": "code",
   "execution_count": 37,
   "id": "7299a06e",
   "metadata": {},
   "outputs": [],
   "source": [
    "tfidf = TfidfVectorizer(max_df=0.8, ngram_range=(1,2))"
   ]
  },
  {
   "cell_type": "code",
   "execution_count": 38,
   "id": "0eff334d",
   "metadata": {},
   "outputs": [],
   "source": [
    "X_tfidf = tfidf.fit_transform(X_train_clean)"
   ]
  },
  {
   "cell_type": "code",
   "execution_count": 39,
   "id": "1a730a2a",
   "metadata": {},
   "outputs": [
    {
     "data": {
      "text/plain": [
       "(7634, 52771)"
      ]
     },
     "execution_count": 39,
     "metadata": {},
     "output_type": "execute_result"
    }
   ],
   "source": [
    "X_tfidf.shape"
   ]
  },
  {
   "cell_type": "code",
   "execution_count": 40,
   "id": "17dad57f",
   "metadata": {},
   "outputs": [
    {
     "data": {
      "text/plain": [
       "array([1, 1, 0, ..., 2, 2, 2])"
      ]
     },
     "execution_count": 40,
     "metadata": {},
     "output_type": "execute_result"
    }
   ],
   "source": [
    "y_tfidf = y_train.to_numpy()\n",
    "y_tfidf"
   ]
  },
  {
   "cell_type": "code",
   "execution_count": 41,
   "id": "363ba753",
   "metadata": {},
   "outputs": [],
   "source": [
    "x_test = tfidf.transform(X_test_clean).toarray()"
   ]
  },
  {
   "cell_type": "code",
   "execution_count": 42,
   "id": "40e2e665",
   "metadata": {},
   "outputs": [],
   "source": [
    "y_test = y_test.to_numpy()"
   ]
  },
  {
   "cell_type": "code",
   "execution_count": 43,
   "id": "466602a7",
   "metadata": {
    "scrolled": true
   },
   "outputs": [
    {
     "data": {
      "text/html": [
       "<div>\n",
       "<style scoped>\n",
       "    .dataframe tbody tr th:only-of-type {\n",
       "        vertical-align: middle;\n",
       "    }\n",
       "\n",
       "    .dataframe tbody tr th {\n",
       "        vertical-align: top;\n",
       "    }\n",
       "\n",
       "    .dataframe thead th {\n",
       "        text-align: right;\n",
       "    }\n",
       "</style>\n",
       "<table border=\"1\" class=\"dataframe\">\n",
       "  <thead>\n",
       "    <tr style=\"text-align: right;\">\n",
       "      <th></th>\n",
       "      <th>TF-IDF</th>\n",
       "    </tr>\n",
       "  </thead>\n",
       "  <tbody>\n",
       "    <tr>\n",
       "      <th>aaa</th>\n",
       "      <td>0.0</td>\n",
       "    </tr>\n",
       "    <tr>\n",
       "      <th>aaa cccs</th>\n",
       "      <td>0.0</td>\n",
       "    </tr>\n",
       "    <tr>\n",
       "      <th>aaoi</th>\n",
       "      <td>0.0</td>\n",
       "    </tr>\n",
       "    <tr>\n",
       "      <th>aaoi good</th>\n",
       "      <td>0.0</td>\n",
       "    </tr>\n",
       "    <tr>\n",
       "      <th>aapl</th>\n",
       "      <td>0.0</td>\n",
       "    </tr>\n",
       "    <tr>\n",
       "      <th>...</th>\n",
       "      <td>...</td>\n",
       "    </tr>\n",
       "    <tr>\n",
       "      <th>zynga</th>\n",
       "      <td>0.0</td>\n",
       "    </tr>\n",
       "    <tr>\n",
       "      <th>zynga nasdaq</th>\n",
       "      <td>0.0</td>\n",
       "    </tr>\n",
       "    <tr>\n",
       "      <th>zynga share</th>\n",
       "      <td>0.0</td>\n",
       "    </tr>\n",
       "    <tr>\n",
       "      <th>zynga top</th>\n",
       "      <td>0.0</td>\n",
       "    </tr>\n",
       "    <tr>\n",
       "      <th>zyy</th>\n",
       "      <td>0.0</td>\n",
       "    </tr>\n",
       "  </tbody>\n",
       "</table>\n",
       "<p>52771 rows × 1 columns</p>\n",
       "</div>"
      ],
      "text/plain": [
       "              TF-IDF\n",
       "aaa              0.0\n",
       "aaa cccs         0.0\n",
       "aaoi             0.0\n",
       "aaoi good        0.0\n",
       "aapl             0.0\n",
       "...              ...\n",
       "zynga            0.0\n",
       "zynga nasdaq     0.0\n",
       "zynga share      0.0\n",
       "zynga top        0.0\n",
       "zyy              0.0\n",
       "\n",
       "[52771 rows x 1 columns]"
      ]
     },
     "execution_count": 43,
     "metadata": {},
     "output_type": "execute_result"
    }
   ],
   "source": [
    "df_tfidf = pd.DataFrame(X_tfidf[0].T.todense(), index=tfidf.get_feature_names_out(), columns=['TF-IDF'])\n",
    "df_tfidf"
   ]
  },
  {
   "cell_type": "code",
   "execution_count": 44,
   "id": "78bbcf66",
   "metadata": {},
   "outputs": [
    {
     "data": {
      "text/html": [
       "<div>\n",
       "<style scoped>\n",
       "    .dataframe tbody tr th:only-of-type {\n",
       "        vertical-align: middle;\n",
       "    }\n",
       "\n",
       "    .dataframe tbody tr th {\n",
       "        vertical-align: top;\n",
       "    }\n",
       "\n",
       "    .dataframe thead th {\n",
       "        text-align: right;\n",
       "    }\n",
       "</style>\n",
       "<table border=\"1\" class=\"dataframe\">\n",
       "  <thead>\n",
       "    <tr style=\"text-align: right;\">\n",
       "      <th></th>\n",
       "      <th>TF-IDF</th>\n",
       "    </tr>\n",
       "  </thead>\n",
       "  <tbody>\n",
       "    <tr>\n",
       "      <th>totally</th>\n",
       "      <td>0.382683</td>\n",
       "    </tr>\n",
       "    <tr>\n",
       "      <th>totally cliff</th>\n",
       "      <td>0.382683</td>\n",
       "    </tr>\n",
       "    <tr>\n",
       "      <th>nio fallen</th>\n",
       "      <td>0.382683</td>\n",
       "    </tr>\n",
       "    <tr>\n",
       "      <th>fallen</th>\n",
       "      <td>0.382683</td>\n",
       "    </tr>\n",
       "    <tr>\n",
       "      <th>fallen totally</th>\n",
       "      <td>0.382683</td>\n",
       "    </tr>\n",
       "    <tr>\n",
       "      <th>nio</th>\n",
       "      <td>0.365903</td>\n",
       "    </tr>\n",
       "    <tr>\n",
       "      <th>cliff</th>\n",
       "      <td>0.365903</td>\n",
       "    </tr>\n",
       "    <tr>\n",
       "      <th>plan take</th>\n",
       "      <td>0.000000</td>\n",
       "    </tr>\n",
       "    <tr>\n",
       "      <th>plan tesla</th>\n",
       "      <td>0.000000</td>\n",
       "    </tr>\n",
       "    <tr>\n",
       "      <th>plan third</th>\n",
       "      <td>0.000000</td>\n",
       "    </tr>\n",
       "  </tbody>\n",
       "</table>\n",
       "</div>"
      ],
      "text/plain": [
       "                  TF-IDF\n",
       "totally         0.382683\n",
       "totally cliff   0.382683\n",
       "nio fallen      0.382683\n",
       "fallen          0.382683\n",
       "fallen totally  0.382683\n",
       "nio             0.365903\n",
       "cliff           0.365903\n",
       "plan take       0.000000\n",
       "plan tesla      0.000000\n",
       "plan third      0.000000"
      ]
     },
     "execution_count": 44,
     "metadata": {},
     "output_type": "execute_result"
    }
   ],
   "source": [
    "df_tfidf = df_tfidf.sort_values('TF-IDF', ascending=False)\n",
    "df_tfidf.head(10)"
   ]
  },
  {
   "cell_type": "code",
   "execution_count": 45,
   "id": "f3892377",
   "metadata": {},
   "outputs": [],
   "source": [
    "X_tfidf = X_tfidf.toarray()"
   ]
  },
  {
   "cell_type": "markdown",
   "id": "afbf7ccc",
   "metadata": {},
   "source": [
    "### Apply GausianNB Model"
   ]
  },
  {
   "cell_type": "code",
   "execution_count": 46,
   "id": "71c56948",
   "metadata": {},
   "outputs": [],
   "source": [
    "nb = GaussianNB()"
   ]
  },
  {
   "cell_type": "code",
   "execution_count": 47,
   "id": "864d4f30",
   "metadata": {},
   "outputs": [
    {
     "data": {
      "text/html": [
       "<style>#sk-container-id-1 {color: black;background-color: white;}#sk-container-id-1 pre{padding: 0;}#sk-container-id-1 div.sk-toggleable {background-color: white;}#sk-container-id-1 label.sk-toggleable__label {cursor: pointer;display: block;width: 100%;margin-bottom: 0;padding: 0.3em;box-sizing: border-box;text-align: center;}#sk-container-id-1 label.sk-toggleable__label-arrow:before {content: \"▸\";float: left;margin-right: 0.25em;color: #696969;}#sk-container-id-1 label.sk-toggleable__label-arrow:hover:before {color: black;}#sk-container-id-1 div.sk-estimator:hover label.sk-toggleable__label-arrow:before {color: black;}#sk-container-id-1 div.sk-toggleable__content {max-height: 0;max-width: 0;overflow: hidden;text-align: left;background-color: #f0f8ff;}#sk-container-id-1 div.sk-toggleable__content pre {margin: 0.2em;color: black;border-radius: 0.25em;background-color: #f0f8ff;}#sk-container-id-1 input.sk-toggleable__control:checked~div.sk-toggleable__content {max-height: 200px;max-width: 100%;overflow: auto;}#sk-container-id-1 input.sk-toggleable__control:checked~label.sk-toggleable__label-arrow:before {content: \"▾\";}#sk-container-id-1 div.sk-estimator input.sk-toggleable__control:checked~label.sk-toggleable__label {background-color: #d4ebff;}#sk-container-id-1 div.sk-label input.sk-toggleable__control:checked~label.sk-toggleable__label {background-color: #d4ebff;}#sk-container-id-1 input.sk-hidden--visually {border: 0;clip: rect(1px 1px 1px 1px);clip: rect(1px, 1px, 1px, 1px);height: 1px;margin: -1px;overflow: hidden;padding: 0;position: absolute;width: 1px;}#sk-container-id-1 div.sk-estimator {font-family: monospace;background-color: #f0f8ff;border: 1px dotted black;border-radius: 0.25em;box-sizing: border-box;margin-bottom: 0.5em;}#sk-container-id-1 div.sk-estimator:hover {background-color: #d4ebff;}#sk-container-id-1 div.sk-parallel-item::after {content: \"\";width: 100%;border-bottom: 1px solid gray;flex-grow: 1;}#sk-container-id-1 div.sk-label:hover label.sk-toggleable__label {background-color: #d4ebff;}#sk-container-id-1 div.sk-serial::before {content: \"\";position: absolute;border-left: 1px solid gray;box-sizing: border-box;top: 0;bottom: 0;left: 50%;z-index: 0;}#sk-container-id-1 div.sk-serial {display: flex;flex-direction: column;align-items: center;background-color: white;padding-right: 0.2em;padding-left: 0.2em;position: relative;}#sk-container-id-1 div.sk-item {position: relative;z-index: 1;}#sk-container-id-1 div.sk-parallel {display: flex;align-items: stretch;justify-content: center;background-color: white;position: relative;}#sk-container-id-1 div.sk-item::before, #sk-container-id-1 div.sk-parallel-item::before {content: \"\";position: absolute;border-left: 1px solid gray;box-sizing: border-box;top: 0;bottom: 0;left: 50%;z-index: -1;}#sk-container-id-1 div.sk-parallel-item {display: flex;flex-direction: column;z-index: 1;position: relative;background-color: white;}#sk-container-id-1 div.sk-parallel-item:first-child::after {align-self: flex-end;width: 50%;}#sk-container-id-1 div.sk-parallel-item:last-child::after {align-self: flex-start;width: 50%;}#sk-container-id-1 div.sk-parallel-item:only-child::after {width: 0;}#sk-container-id-1 div.sk-dashed-wrapped {border: 1px dashed gray;margin: 0 0.4em 0.5em 0.4em;box-sizing: border-box;padding-bottom: 0.4em;background-color: white;}#sk-container-id-1 div.sk-label label {font-family: monospace;font-weight: bold;display: inline-block;line-height: 1.2em;}#sk-container-id-1 div.sk-label-container {text-align: center;}#sk-container-id-1 div.sk-container {/* jupyter's `normalize.less` sets `[hidden] { display: none; }` but bootstrap.min.css set `[hidden] { display: none !important; }` so we also need the `!important` here to be able to override the default hidden behavior on the sphinx rendered scikit-learn.org. See: https://github.com/scikit-learn/scikit-learn/issues/21755 */display: inline-block !important;position: relative;}#sk-container-id-1 div.sk-text-repr-fallback {display: none;}</style><div id=\"sk-container-id-1\" class=\"sk-top-container\"><div class=\"sk-text-repr-fallback\"><pre>GaussianNB()</pre><b>In a Jupyter environment, please rerun this cell to show the HTML representation or trust the notebook. <br />On GitHub, the HTML representation is unable to render, please try loading this page with nbviewer.org.</b></div><div class=\"sk-container\" hidden><div class=\"sk-item\"><div class=\"sk-estimator sk-toggleable\"><input class=\"sk-toggleable__control sk-hidden--visually\" id=\"sk-estimator-id-1\" type=\"checkbox\" checked><label for=\"sk-estimator-id-1\" class=\"sk-toggleable__label sk-toggleable__label-arrow\">GaussianNB</label><div class=\"sk-toggleable__content\"><pre>GaussianNB()</pre></div></div></div></div></div>"
      ],
      "text/plain": [
       "GaussianNB()"
      ]
     },
     "execution_count": 47,
     "metadata": {},
     "output_type": "execute_result"
    }
   ],
   "source": [
    "nb.fit(X_tfidf, y_tfidf)"
   ]
  },
  {
   "cell_type": "code",
   "execution_count": 48,
   "id": "66091f4a",
   "metadata": {},
   "outputs": [],
   "source": [
    "nb_pred = nb.predict(x_test)"
   ]
  },
  {
   "cell_type": "code",
   "execution_count": 49,
   "id": "91f68e9a",
   "metadata": {},
   "outputs": [],
   "source": [
    "labels = {'Bearish': 0, 'Bullish':1, 'Neutral':2}"
   ]
  },
  {
   "cell_type": "code",
   "execution_count": 50,
   "id": "67828f0d",
   "metadata": {
    "scrolled": true
   },
   "outputs": [
    {
     "name": "stdout",
     "output_type": "stream",
     "text": [
      "              precision    recall  f1-score   support\n",
      "\n",
      "     Bearish       0.45      0.53      0.49       277\n",
      "     Bullish       0.60      0.54      0.57       378\n",
      "     Neutral       0.83      0.82      0.82      1254\n",
      "\n",
      "    accuracy                           0.72      1909\n",
      "   macro avg       0.62      0.63      0.63      1909\n",
      "weighted avg       0.73      0.72      0.72      1909\n",
      "\n"
     ]
    }
   ],
   "source": [
    "print(classification_report(y_test, nb_pred,target_names = labels.keys()))"
   ]
  },
  {
   "cell_type": "code",
   "execution_count": 51,
   "id": "ad8f2bf7",
   "metadata": {
    "scrolled": true
   },
   "outputs": [
    {
     "data": {
      "text/plain": [
       "array([[ 147,   57,  125],\n",
       "       [  32,  206,  106],\n",
       "       [  98,  115, 1023]])"
      ]
     },
     "execution_count": 51,
     "metadata": {},
     "output_type": "execute_result"
    }
   ],
   "source": [
    "confusion_matrix(nb_pred, y_test)"
   ]
  },
  {
   "cell_type": "code",
   "execution_count": 52,
   "id": "f0c9fcc0",
   "metadata": {},
   "outputs": [
    {
     "name": "stderr",
     "output_type": "stream",
     "text": [
      "/tmp/ipykernel_5828/2526486963.py:39: UserWarning: Attempting to set identical low and high ylims makes transformation singular; automatically expanding.\n",
      "  plt.ylim(top=len(class_names)-0.5)  # adjust the top leaving bottom unchanged\n"
     ]
    },
    {
     "data": {
      "image/png": "[encoded data removed]",
      "text/plain": [
       "<Figure size 640x480 with 2 Axes>"
      ]
     },
     "metadata": {},
     "output_type": "display_data"
    }
   ],
   "source": [
    "def plot_cm(confusion_matrix : np.array, \n",
    "            classnames : list):\n",
    "    \"\"\"\n",
    "    Function that creates a confusion matrix plot using the Wikipedia convention for the axis. \n",
    "    :param confusion_matrix: confusion matrix that will be plotted\n",
    "    :param classnames: labels of the classes\n",
    "    \n",
    "    Returns:\n",
    "        - Plot of the Confusion Matrix\n",
    "    \"\"\"\n",
    "    \n",
    "    confusionmatrix = confusion_matrix\n",
    "    class_names = classnames             \n",
    "\n",
    "    fig, ax = plt.subplots()\n",
    "    im = plt.imshow(confusionmatrix, cmap=plt.cm.cividis)\n",
    "    plt.colorbar()\n",
    "\n",
    "    # We want to show all ticks...\n",
    "    ax.set_xticks(np.arange(len(class_names)))\n",
    "    ax.set_yticks(np.arange(len(class_names)))\n",
    "    # ... and label them with the respective list entries\n",
    "    ax.set_xticklabels(class_names)\n",
    "    ax.set_yticklabels(class_names)\n",
    "\n",
    "    # Rotate the tick labels and set their alignment.\n",
    "    plt.setp(ax.get_xticklabels(), rotation=45, ha=\"right\",\n",
    "             rotation_mode=\"anchor\")\n",
    "\n",
    "    # Loop over data dimensions and create text annotations.\n",
    "    for i in range(len(class_names)):\n",
    "        for j in range(len(class_names)):\n",
    "            text = ax.text(j, i, confusionmatrix[i, j],\n",
    "                           ha=\"center\", va=\"center\", color=\"w\")\n",
    "\n",
    "    ax.set_title(\"Confusion Matrix\")\n",
    "    plt.xlabel('Targets')\n",
    "    plt.ylabel('Predictions')\n",
    "    plt.ylim(top=len(class_names)-0.5)  # adjust the top leaving bottom unchanged\n",
    "    plt.ylim(bottom=-0.5)  # adjust the bottom leaving top unchanged\n",
    "    return plt.show()\n",
    "\n",
    "plot_cm(confusion_matrix(nb_pred, y_test), labels.keys())"
   ]
  },
  {
   "cell_type": "markdown",
   "id": "1a04d5ac",
   "metadata": {},
   "source": [
    "### Apply MLP model"
   ]
  },
  {
   "cell_type": "code",
   "execution_count": 53,
   "id": "cab99f91",
   "metadata": {},
   "outputs": [
    {
     "name": "stderr",
     "output_type": "stream",
     "text": [
      "/usr/lib/python3/dist-packages/sklearn/neural_network/_multilayer_perceptron.py:684: ConvergenceWarning: Stochastic Optimizer: Maximum iterations (200) reached and the optimization hasn't converged yet.\n",
      "  warnings.warn(\n"
     ]
    }
   ],
   "source": [
    "mlp = MLPClassifier(solver='adam', hidden_layer_sizes=(3,3), activation='logistic', random_state=5).fit(X_tfidf,y_tfidf)\n",
    "#We tried with different hidden layers and our best model is (3,3)"
   ]
  },
  {
   "cell_type": "code",
   "execution_count": 54,
   "id": "f87743bb",
   "metadata": {
    "scrolled": true
   },
   "outputs": [
    {
     "data": {
      "text/plain": [
       "array([2, 1, 2, 2, 1])"
      ]
     },
     "execution_count": 54,
     "metadata": {},
     "output_type": "execute_result"
    }
   ],
   "source": [
    "mlp_prediction = mlp.predict(x_test)\n",
    "mlp_prediction[:5]"
   ]
  },
  {
   "cell_type": "code",
   "execution_count": 55,
   "id": "236000e8",
   "metadata": {},
   "outputs": [
    {
     "name": "stdout",
     "output_type": "stream",
     "text": [
      "              precision    recall  f1-score   support\n",
      "\n",
      "     Bearish       0.74      0.43      0.54       277\n",
      "     Bullish       0.45      0.74      0.56       378\n",
      "     Neutral       0.89      0.80      0.84      1254\n",
      "\n",
      "    accuracy                           0.73      1909\n",
      "   macro avg       0.69      0.65      0.65      1909\n",
      "weighted avg       0.78      0.73      0.74      1909\n",
      "\n"
     ]
    }
   ],
   "source": [
    "print(classification_report(y_test, mlp_prediction, target_names = labels.keys()))"
   ]
  },
  {
   "cell_type": "code",
   "execution_count": 56,
   "id": "1745e459",
   "metadata": {},
   "outputs": [
    {
     "name": "stderr",
     "output_type": "stream",
     "text": [
      "/tmp/ipykernel_5828/2526486963.py:39: UserWarning: Attempting to set identical low and high ylims makes transformation singular; automatically expanding.\n",
      "  plt.ylim(top=len(class_names)-0.5)  # adjust the top leaving bottom unchanged\n"
     ]
    },
    {
     "data": {
      "image/png": "[encoded data removed]",
      "text/plain": [
       "<Figure size 640x480 with 2 Axes>"
      ]
     },
     "metadata": {},
     "output_type": "display_data"
    }
   ],
   "source": [
    "plot_cm(confusion_matrix(mlp_prediction, y_test), labels.keys())"
   ]
  },
  {
   "cell_type": "markdown",
   "id": "b388a029",
   "metadata": {},
   "source": [
    "### Apply KNN Model"
   ]
  },
  {
   "cell_type": "code",
   "execution_count": 57,
   "id": "bee0aefb",
   "metadata": {},
   "outputs": [],
   "source": [
    "knn_model_tfidf = KNeighborsClassifier(n_neighbors=10, metric='cosine', weights='distance').fit(X_tfidf,y_tfidf)"
   ]
  },
  {
   "cell_type": "code",
   "execution_count": 58,
   "id": "ed26b4e5",
   "metadata": {
    "scrolled": true
   },
   "outputs": [
    {
     "data": {
      "text/plain": [
       "array([2, 2, 2, ..., 2, 0, 2])"
      ]
     },
     "execution_count": 58,
     "metadata": {},
     "output_type": "execute_result"
    }
   ],
   "source": [
    "knn_predict = knn_model_tfidf.predict(x_test)\n",
    "knn_predict"
   ]
  },
  {
   "cell_type": "code",
   "execution_count": 59,
   "id": "e8592374",
   "metadata": {
    "scrolled": true
   },
   "outputs": [
    {
     "name": "stdout",
     "output_type": "stream",
     "text": [
      "              precision    recall  f1-score   support\n",
      "\n",
      "     Bearish       0.65      0.39      0.49       277\n",
      "     Bullish       0.66      0.59      0.62       378\n",
      "     Neutral       0.82      0.92      0.87      1254\n",
      "\n",
      "    accuracy                           0.78      1909\n",
      "   macro avg       0.71      0.63      0.66      1909\n",
      "weighted avg       0.76      0.78      0.76      1909\n",
      "\n"
     ]
    }
   ],
   "source": [
    "print(classification_report(y_test, knn_predict, target_names = labels.keys()))"
   ]
  },
  {
   "cell_type": "code",
   "execution_count": 60,
   "id": "f4aa516e",
   "metadata": {
    "scrolled": true
   },
   "outputs": [
    {
     "name": "stderr",
     "output_type": "stream",
     "text": [
      "/tmp/ipykernel_5828/2526486963.py:39: UserWarning: Attempting to set identical low and high ylims makes transformation singular; automatically expanding.\n",
      "  plt.ylim(top=len(class_names)-0.5)  # adjust the top leaving bottom unchanged\n"
     ]
    },
    {
     "data": {
      "image/png": "[encoded data removed]",
      "text/plain": [
       "<Figure size 640x480 with 2 Axes>"
      ]
     },
     "metadata": {},
     "output_type": "display_data"
    }
   ],
   "source": [
    "plot_cm(confusion_matrix(knn_predict, y_test), labels.keys())"
   ]
  },
  {
   "cell_type": "markdown",
   "id": "41f70921",
   "metadata": {},
   "source": [
    "### Predictions on test dataset "
   ]
  },
  {
   "cell_type": "code",
   "execution_count": 68,
   "id": "2279a5b4",
   "metadata": {},
   "outputs": [
    {
     "data": {
      "text/plain": [
       "((7634, 52771), (7634,), (1909, 52771), (1909,))"
      ]
     },
     "execution_count": 68,
     "metadata": {},
     "output_type": "execute_result"
    }
   ],
   "source": [
    "X_tfidf.shape, y_tfidf.shape, x_test.shape, y_test.shape"
   ]
  },
  {
   "cell_type": "code",
   "execution_count": 69,
   "id": "12476b26",
   "metadata": {},
   "outputs": [
    {
     "data": {
      "text/plain": [
       "(2388, 52771)"
      ]
     },
     "execution_count": 69,
     "metadata": {},
     "output_type": "execute_result"
    }
   ],
   "source": [
    "test_predictions = tfidf.transform(test_df['text'])\n",
    "test_predictions.shape #we preserve the same number of features as in train"
   ]
  },
  {
   "cell_type": "code",
   "execution_count": 70,
   "id": "2305604e",
   "metadata": {
    "scrolled": false
   },
   "outputs": [
    {
     "data": {
      "text/plain": [
       "array([2, 2, 2, ..., 2, 1, 2])"
      ]
     },
     "execution_count": 70,
     "metadata": {},
     "output_type": "execute_result"
    }
   ],
   "source": [
    "#test datataset predictions with knn model \n",
    "knn_model_predictions = knn_model_tfidf.predict(test_predictions)\n",
    "knn_model_predictions"
   ]
  },
  {
   "cell_type": "code",
   "execution_count": 71,
   "id": "cdd49f6b",
   "metadata": {},
   "outputs": [
    {
     "data": {
      "text/plain": [
       "array([2, 2, 2, ..., 2, 2, 2])"
      ]
     },
     "execution_count": 71,
     "metadata": {},
     "output_type": "execute_result"
    }
   ],
   "source": [
    "#test datataset predictions with mlp model\n",
    "mlp_model_predictions = mlp.predict(test_predictions)\n",
    "mlp_model_predictions"
   ]
  },
  {
   "cell_type": "code",
   "execution_count": 73,
   "id": "2f2a3a90",
   "metadata": {},
   "outputs": [
    {
     "data": {
      "text/plain": [
       "array([2, 0, 2, ..., 2, 1, 2])"
      ]
     },
     "execution_count": 73,
     "metadata": {},
     "output_type": "execute_result"
    }
   ],
   "source": [
    "#test datataset predictions with NB model\n",
    "nb_model_predictions = nb.predict(test_predictions.toarray())\n",
    "nb_model_predictions"
   ]
  },
  {
   "cell_type": "markdown",
   "id": "29b075d3",
   "metadata": {},
   "source": [
    "### Model LSTM"
   ]
  },
  {
   "cell_type": "code",
   "execution_count": 74,
   "id": "6f7c2afa",
   "metadata": {},
   "outputs": [
    {
     "name": "stderr",
     "output_type": "stream",
     "text": [
      "2023-04-04 20:25:00.471821: I tensorflow/tsl/cuda/cudart_stub.cc:28] Could not find cuda drivers on your machine, GPU will not be used.\n",
      "2023-04-04 20:25:02.670213: I tensorflow/tsl/cuda/cudart_stub.cc:28] Could not find cuda drivers on your machine, GPU will not be used.\n",
      "2023-04-04 20:25:02.670934: I tensorflow/core/platform/cpu_feature_guard.cc:182] This TensorFlow binary is optimized to use available CPU instructions in performance-critical operations.\n",
      "To enable the following instructions: AVX2 FMA, in other operations, rebuild TensorFlow with the appropriate compiler flags.\n",
      "2023-04-04 20:25:08.230390: W tensorflow/compiler/tf2tensorrt/utils/py_utils.cc:38] TF-TRT Warning: Could not find TensorRT\n"
     ]
    }
   ],
   "source": [
    "import tensorflow as tf\n",
    "import tensorflow.keras as keras\n",
    "tf.config.run_functions_eagerly(True)\n",
    "tf.data.experimental.enable_debug_mode()\n",
    "#make the model start with same weights\n",
    "tf.random.set_seed(221)\n",
    "#import packages\n",
    "from keras.models import Model\n",
    "from keras.layers import Input, LSTM, Dense, TimeDistributed, Bidirectional, Masking\n",
    "from keras import layers\n",
    "import tensorflow as tf\n",
    "import tensorflow.keras as keras\n",
    "tf.config.run_functions_eagerly(True)\n",
    "tf.data.experimental.enable_debug_mode()\n",
    "from keras_preprocessing.sequence import pad_sequences"
   ]
  },
  {
   "cell_type": "code",
   "execution_count": 75,
   "id": "fa048f1e",
   "metadata": {},
   "outputs": [
    {
     "name": "stdout",
     "output_type": "stream",
     "text": [
      "['fasttext-wiki-news-subwords-300', 'conceptnet-numberbatch-17-06-300', 'word2vec-ruscorpora-300', 'word2vec-google-news-300', 'glove-wiki-gigaword-50', 'glove-wiki-gigaword-100', 'glove-wiki-gigaword-200', 'glove-wiki-gigaword-300', 'glove-twitter-25', 'glove-twitter-50', 'glove-twitter-100', 'glove-twitter-200', '__testing_word2vec-matrix-synopsis']\n"
     ]
    }
   ],
   "source": [
    "print(list(gensim.downloader.info()['models'].keys()))\n",
    "#since we are dealing with tweets we choose 'glove-twitter-50'"
   ]
  },
  {
   "cell_type": "code",
   "execution_count": 76,
   "id": "ce2710df",
   "metadata": {},
   "outputs": [],
   "source": [
    "#word_to_vec = gensim.downloader.load('glove-twitter-25')\n",
    "#word_to_vec = gensim.downloader.load('glove-twitter-50')\n",
    "word_to_vec = gensim.downloader.load('glove-twitter-100')"
   ]
  },
  {
   "cell_type": "code",
   "execution_count": 77,
   "id": "4063fd1c",
   "metadata": {},
   "outputs": [],
   "source": [
    "emb_size = 100"
   ]
  },
  {
   "cell_type": "code",
   "execution_count": 80,
   "id": "0abdedc2",
   "metadata": {},
   "outputs": [],
   "source": [
    "#function to get embeddings for each word based on word_to_vec list\n",
    "def corpus2vec(corpus):\n",
    "    corpus_vec = []\n",
    "    for document in tqdm(corpus):\n",
    "        #get word vectors for each document\n",
    "        doc_vectors = []\n",
    "        for word in document.split():\n",
    "            if word in word_to_vec.index_to_key:\n",
    "                doc_vectors.append(word_to_vec.word_vec(word))         \n",
    "        corpus_vec.append(doc_vectors)\n",
    "    return corpus_vec"
   ]
  },
  {
   "cell_type": "code",
   "execution_count": 81,
   "id": "62005f6a",
   "metadata": {},
   "outputs": [
    {
     "name": "stderr",
     "output_type": "stream",
     "text": [
      "  0%|                                                  | 0/7634 [00:00<?, ?it/s]/tmp/ipykernel_5828/2857742778.py:9: DeprecationWarning: Call to deprecated `word_vec` (Use get_vector instead).\n",
      "  doc_vectors.append(word_to_vec.word_vec(word))\n",
      "100%|███████████████████████████████████████| 7634/7634 [01:34<00:00, 80.62it/s]\n"
     ]
    }
   ],
   "source": [
    "x_train_vec = corpus2vec(X_train_clean)"
   ]
  },
  {
   "cell_type": "code",
   "execution_count": 82,
   "id": "2c04a479",
   "metadata": {},
   "outputs": [
    {
     "name": "stderr",
     "output_type": "stream",
     "text": [
      "  0%|                                                  | 0/1909 [00:00<?, ?it/s]/tmp/ipykernel_5828/2857742778.py:9: DeprecationWarning: Call to deprecated `word_vec` (Use get_vector instead).\n",
      "  doc_vectors.append(word_to_vec.word_vec(word))\n",
      "100%|███████████████████████████████████████| 1909/1909 [00:23<00:00, 79.72it/s]\n"
     ]
    }
   ],
   "source": [
    "x_test_vec = corpus2vec(X_test_clean)"
   ]
  },
  {
   "cell_type": "code",
   "execution_count": 83,
   "id": "2829a159",
   "metadata": {},
   "outputs": [
    {
     "name": "stdout",
     "output_type": "stream",
     "text": [
      "[4, 8, 7, 4, 12, 8, 8, 14, 12, 5] "
     ]
    }
   ],
   "source": [
    "#get list with lenghts of sentences\n",
    "train_len = []\n",
    "for i in x_train_vec:\n",
    "    train_len.append(len(i))\n",
    "print(train_len[:10], end=\" \")"
   ]
  },
  {
   "cell_type": "code",
   "execution_count": 84,
   "id": "6384f826",
   "metadata": {},
   "outputs": [
    {
     "data": {
      "text/plain": [
       "24"
      ]
     },
     "execution_count": 84,
     "metadata": {},
     "output_type": "execute_result"
    }
   ],
   "source": [
    "max(train_len)"
   ]
  },
  {
   "cell_type": "code",
   "execution_count": 86,
   "id": "3fd25323",
   "metadata": {},
   "outputs": [],
   "source": [
    "#make all sentences the same size - model input must be of the same size\n",
    "\n",
    "#X_pad = pad_sequences(maxlen=max(train_len),sequences=x_train_vec, padding=\"post\", dtype='float64') #tried with this size but I got erros fiting the model\n",
    "X_pad = pad_sequences(maxlen=29,sequences=x_train_vec, padding=\"post\", dtype='float64')"
   ]
  },
  {
   "cell_type": "code",
   "execution_count": 87,
   "id": "5ac71662",
   "metadata": {},
   "outputs": [
    {
     "data": {
      "text/plain": [
       "array([[0., 0., 0., ..., 0., 0., 0.],\n",
       "       [0., 0., 0., ..., 0., 0., 0.],\n",
       "       [0., 0., 0., ..., 0., 0., 0.],\n",
       "       ...,\n",
       "       [0., 0., 0., ..., 0., 0., 0.],\n",
       "       [0., 0., 0., ..., 0., 0., 0.],\n",
       "       [0., 0., 0., ..., 0., 0., 0.]])"
      ]
     },
     "execution_count": 87,
     "metadata": {},
     "output_type": "execute_result"
    }
   ],
   "source": [
    "X_pad[0][18:]"
   ]
  },
  {
   "cell_type": "code",
   "execution_count": 88,
   "id": "65f8073b",
   "metadata": {},
   "outputs": [
    {
     "data": {
      "text/plain": [
       "TensorShape([7634, 29, 100])"
      ]
     },
     "execution_count": 88,
     "metadata": {},
     "output_type": "execute_result"
    }
   ],
   "source": [
    "#turn input into a tensor (another sort of array) for the model\n",
    "X_tf = tf.convert_to_tensor(X_pad, dtype='float32')\n",
    "X_tf.shape"
   ]
  },
  {
   "cell_type": "code",
   "execution_count": 90,
   "id": "1b4b946e",
   "metadata": {},
   "outputs": [
    {
     "data": {
      "text/plain": [
       "<tf.Tensor: shape=(7634, 3), dtype=float32, numpy=\n",
       "array([[0., 1., 0.],\n",
       "       [0., 1., 0.],\n",
       "       [1., 0., 0.],\n",
       "       ...,\n",
       "       [0., 0., 1.],\n",
       "       [0., 0., 1.],\n",
       "       [0., 0., 1.]], dtype=float32)>"
      ]
     },
     "execution_count": 90,
     "metadata": {},
     "output_type": "execute_result"
    }
   ],
   "source": [
    "#Most turn output into one hot encoded matrix\n",
    "y_tf = tf.one_hot(y_train, depth=3)\n",
    "y_tf"
   ]
  },
  {
   "cell_type": "code",
   "execution_count": 91,
   "id": "a1c21b90",
   "metadata": {},
   "outputs": [
    {
     "name": "stdout",
     "output_type": "stream",
     "text": [
      "Model: \"model\"\n",
      "_________________________________________________________________\n",
      " Layer (type)                Output Shape              Param #   \n",
      "=================================================================\n",
      " input_1 (InputLayer)        [(None, 29, 100)]         0         \n",
      "                                                                 \n",
      " masking (Masking)           (None, 29, 100)           0         \n",
      "                                                                 \n",
      " bidirectional (Bidirectiona  (None, 8)                3360      \n",
      " l)                                                              \n",
      "                                                                 \n",
      " dense (Dense)               (None, 3)                 27        \n",
      "                                                                 \n",
      "=================================================================\n",
      "Total params: 3,387\n",
      "Trainable params: 3,387\n",
      "Non-trainable params: 0\n",
      "_________________________________________________________________\n"
     ]
    }
   ],
   "source": [
    "'''model input in the shape(number of words per doc, word embedding size)'''\n",
    "input_ = Input(shape=(max(train_df['word_count']), emb_size))\n",
    " \n",
    "'''mask layer to avoid model from considering padding vectors'''\n",
    "mask_layer = Masking(mask_value=0)\n",
    "mask = mask_layer(input_)\n",
    "\n",
    "'''BiLSTM layer'''\n",
    "lstm = Bidirectional(LSTM(units=4))(mask)\n",
    "\n",
    "'''activation layer'''\n",
    "act = Dense(3, activation='softmax')(lstm)\n",
    "\n",
    "'''model input and output'''\n",
    "model = Model(input_, act)\n",
    "\n",
    "'''model loss function and evaluation metrics'''\n",
    "model.compile(optimizer=\"adam\", loss=\"categorical_crossentropy\", metrics=[\"accuracy\"])\n",
    "model.summary()"
   ]
  },
  {
   "cell_type": "code",
   "execution_count": 92,
   "id": "d3970175",
   "metadata": {},
   "outputs": [
    {
     "name": "stdout",
     "output_type": "stream",
     "text": [
      "Epoch 1/2\n",
      "197/197 [==============================] - 95s 477ms/step - loss: 0.9094 - accuracy: 0.6124 - val_loss: 0.8213 - val_accuracy: 0.6627\n",
      "Epoch 2/2\n",
      "197/197 [==============================] - 92s 465ms/step - loss: 0.7959 - accuracy: 0.6689 - val_loss: 0.7476 - val_accuracy: 0.6981\n"
     ]
    }
   ],
   "source": [
    "history = model.fit(X_tf, y_tf, batch_size=31, epochs=10, verbose=1, validation_split=0.20)\n",
    "#some times we kernel reset it gives an error because of the shape size. We had to change shape size first to 31, than to 29\n",
    "#we tried to improve our model. First we try batch_size=31 and after we raise the number to 50"
   ]
  },
  {
   "cell_type": "code",
   "execution_count": 93,
   "id": "f2157320",
   "metadata": {},
   "outputs": [
    {
     "data": {
      "image/png": "[encoded data removed]",
      "text/plain": [
       "<Figure size 1000x600 with 1 Axes>"
      ]
     },
     "metadata": {},
     "output_type": "display_data"
    }
   ],
   "source": [
    "plt.figure(figsize =(10, 6))\n",
    "plt.plot(history.history['accuracy'])\n",
    "plt.plot(history.history['val_accuracy'])\n",
    "plt.title('Model Accuracy')\n",
    "plt.ylabel('Accuracy')\n",
    "plt.xlabel('Epoch')\n",
    "plt.legend(['train', 'val'], loc='upper left')\n",
    "plt.show()"
   ]
  },
  {
   "cell_type": "code",
   "execution_count": 99,
   "id": "2238748c",
   "metadata": {},
   "outputs": [],
   "source": [
    "X_test_pad = pad_sequences(maxlen=29,sequences=x_test_vec, padding=\"post\", dtype='float64')"
   ]
  },
  {
   "cell_type": "code",
   "execution_count": 100,
   "id": "ceba330d",
   "metadata": {},
   "outputs": [],
   "source": [
    "#x_test = np.expand_dims(x_test,-1)\n",
    "x_test_tf = tf.convert_to_tensor(X_test_pad, dtype='float32')"
   ]
  },
  {
   "cell_type": "code",
   "execution_count": 101,
   "id": "98ef88ba",
   "metadata": {},
   "outputs": [
    {
     "data": {
      "text/plain": [
       "TensorShape([1909, 29, 100])"
      ]
     },
     "execution_count": 101,
     "metadata": {},
     "output_type": "execute_result"
    }
   ],
   "source": [
    "x_test_tf.shape"
   ]
  },
  {
   "cell_type": "code",
   "execution_count": 102,
   "id": "7deb563a",
   "metadata": {},
   "outputs": [
    {
     "name": "stdout",
     "output_type": "stream",
     "text": [
      "60/60 [==============================] - 9s 153ms/step\n"
     ]
    },
    {
     "data": {
      "text/plain": [
       "array([[0.23046955, 0.12009217, 0.6494383 ],\n",
       "       [0.2927806 , 0.3944944 , 0.312725  ],\n",
       "       [0.05558999, 0.04431997, 0.9000901 ],\n",
       "       [0.07269474, 0.08778684, 0.8395185 ],\n",
       "       [0.22199985, 0.18281148, 0.5951887 ],\n",
       "       [0.14751165, 0.15009625, 0.7023921 ],\n",
       "       [0.23123612, 0.253332  , 0.51543194],\n",
       "       [0.20821843, 0.21835865, 0.57342297],\n",
       "       [0.14606044, 0.11425474, 0.7396848 ],\n",
       "       [0.25181752, 0.47615904, 0.2720234 ]], dtype=float32)"
      ]
     },
     "execution_count": 102,
     "metadata": {},
     "output_type": "execute_result"
    }
   ],
   "source": [
    "pred_y_tf = model.predict(x_test_tf)\n",
    "pred_y_tf[:10]"
   ]
  },
  {
   "cell_type": "code",
   "execution_count": 104,
   "id": "49513722",
   "metadata": {},
   "outputs": [],
   "source": [
    "y_pred_list = []\n",
    "for doc in pred_y_tf:\n",
    "    y_pred_list.append(np.argmax(doc, axis=None, out=None))"
   ]
  },
  {
   "cell_type": "code",
   "execution_count": 107,
   "id": "20056804",
   "metadata": {},
   "outputs": [
    {
     "data": {
      "text/plain": [
       "[2, 1, 2, 2, 2, 2, 2, 2, 2, 1]"
      ]
     },
     "execution_count": 107,
     "metadata": {},
     "output_type": "execute_result"
    }
   ],
   "source": [
    "y_pred_list[0:10]"
   ]
  },
  {
   "cell_type": "code",
   "execution_count": 108,
   "id": "1b66444b",
   "metadata": {},
   "outputs": [
    {
     "data": {
      "text/plain": [
       "array([2, 2, 2, 2, 2, 0, 1, 2, 2, 0])"
      ]
     },
     "execution_count": 108,
     "metadata": {},
     "output_type": "execute_result"
    }
   ],
   "source": [
    "y_test[0:10]"
   ]
  },
  {
   "cell_type": "code",
   "execution_count": 109,
   "id": "d45c20d6",
   "metadata": {},
   "outputs": [
    {
     "name": "stdout",
     "output_type": "stream",
     "text": [
      "              precision    recall  f1-score   support\n",
      "\n",
      "     Bearish       0.60      0.01      0.02       277\n",
      "     Bullish       0.51      0.38      0.43       378\n",
      "     Neutral       0.73      0.95      0.83      1254\n",
      "\n",
      "    accuracy                           0.70      1909\n",
      "   macro avg       0.61      0.45      0.43      1909\n",
      "weighted avg       0.67      0.70      0.63      1909\n",
      "\n"
     ]
    }
   ],
   "source": [
    "print(classification_report(y_test, y_pred_list, target_names = labels.keys()))"
   ]
  },
  {
   "cell_type": "code",
   "execution_count": null,
   "id": "082dd3bb",
   "metadata": {},
   "outputs": [
    {
     "name": "stderr",
     "output_type": "stream",
     "text": [
      "  0%|                                                  | 0/2388 [00:00<?, ?it/s]/tmp/ipykernel_5828/2857742778.py:9: DeprecationWarning: Call to deprecated `word_vec` (Use get_vector instead).\n",
      "  doc_vectors.append(word_to_vec.word_vec(word))\n",
      "100%|███████████████████████████████████████| 2388/2388 [04:47<00:00,  8.31it/s]\n"
     ]
    }
   ],
   "source": [
    "#Predict Tensor Flow model in test data\n",
    "x_test_vec = corpus2vec(test_df['text'])\n",
    "x_test_vec"
   ]
  },
  {
   "cell_type": "code",
   "execution_count": 113,
   "id": "4ec627a4",
   "metadata": {},
   "outputs": [],
   "source": [
    "X_pad_test = pad_sequences(maxlen=29,sequences=x_test_vec, padding=\"post\", dtype='float64')"
   ]
  },
  {
   "cell_type": "code",
   "execution_count": 114,
   "id": "7b712cdb",
   "metadata": {},
   "outputs": [
    {
     "data": {
      "text/plain": [
       "TensorShape([2388, 29, 100])"
      ]
     },
     "execution_count": 114,
     "metadata": {},
     "output_type": "execute_result"
    }
   ],
   "source": [
    "X_test_tf = tf.convert_to_tensor(X_pad_test, dtype='float32')\n",
    "X_test_tf.shape"
   ]
  },
  {
   "cell_type": "code",
   "execution_count": 115,
   "id": "fea22fef",
   "metadata": {},
   "outputs": [
    {
     "name": "stdout",
     "output_type": "stream",
     "text": [
      "75/75 [==============================] - 11s 148ms/step\n"
     ]
    }
   ],
   "source": [
    "#List of test predictions using tensor flow model\n",
    "f_predictions = model.predict(X_test_tf)\n"
   ]
  },
  {
   "cell_type": "code",
   "execution_count": 116,
   "id": "c4880689",
   "metadata": {
    "scrolled": true
   },
   "outputs": [
    {
     "data": {
      "text/plain": [
       "array([[0.16120361, 0.15030254, 0.6884939 ],\n",
       "       [0.30420974, 0.32525644, 0.37053388],\n",
       "       [0.27186403, 0.28497022, 0.4431658 ],\n",
       "       ...,\n",
       "       [0.1076096 , 0.1062547 , 0.7861357 ],\n",
       "       [0.11154131, 0.21267411, 0.6757846 ],\n",
       "       [0.24627213, 0.23354012, 0.52018774]], dtype=float32)"
      ]
     },
     "execution_count": 116,
     "metadata": {},
     "output_type": "execute_result"
    }
   ],
   "source": [
    "f_predictions"
   ]
  },
  {
   "cell_type": "code",
   "execution_count": 121,
   "id": "e47090c8",
   "metadata": {},
   "outputs": [
    {
     "data": {
      "text/plain": [
       "[2, 2, 2, 2, 1, 2, 2, 2, 2, 2]"
      ]
     },
     "execution_count": 121,
     "metadata": {},
     "output_type": "execute_result"
    }
   ],
   "source": [
    "model_predictions_tf = []\n",
    "for doc in f_predictions:\n",
    "    model_predictions_tf.append(np.argmax(doc, axis=None, out=None))\n",
    "model_predictions_tf[:10]"
   ]
  },
  {
   "cell_type": "code",
   "execution_count": null,
   "id": "6cf151e9",
   "metadata": {},
   "outputs": [],
   "source": []
  }
 ],
 "metadata": {
  "kernelspec": {
   "display_name": "Python 3 (ipykernel)",
   "language": "python",
   "name": "python3"
  },
  "language_info": {
   "codemirror_mode": {
    "name": "ipython",
    "version": 3
   },
   "file_extension": ".py",
   "mimetype": "text/x-python",
   "name": "python",
   "nbconvert_exporter": "python",
   "pygments_lexer": "ipython3",
   "version": "3.11.2"
  }
 },
 "nbformat": 4,
 "nbformat_minor": 5
}
